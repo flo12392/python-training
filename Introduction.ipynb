{
  "nbformat": 4,
  "nbformat_minor": 0,
  "metadata": {
    "colab": {
      "name": "Untitled1.ipynb",
      "provenance": [],
      "include_colab_link": true
    },
    "kernelspec": {
      "name": "python3",
      "display_name": "Python 3"
    }
  },
  "cells": [
    {
      "cell_type": "markdown",
      "metadata": {
        "id": "view-in-github",
        "colab_type": "text"
      },
      "source": [
        "<a href=\"https://colab.research.google.com/github/flo12392/python-training/blob/master/Introduction.ipynb\" target=\"_parent\"><img src=\"https://colab.research.google.com/assets/colab-badge.svg\" alt=\"Open In Colab\"/></a>"
      ]
    },
    {
      "cell_type": "code",
      "metadata": {
        "id": "6EqpJgC5VJN6",
        "colab_type": "code",
        "colab": {}
      },
      "source": [
        "import requests  # the lib that handles the url stuff\n",
        "url = 'https://raw.githubusercontent.com/flo12392/python-training/master/data/quotes.text'\n",
        "import requests\n",
        "response = requests.get(url)\n",
        "data = response.text"
      ],
      "execution_count": 0,
      "outputs": []
    },
    {
      "cell_type": "code",
      "metadata": {
        "id": "IzKiQjxaV9mN",
        "colab_type": "code",
        "colab": {
          "base_uri": "https://localhost:8080/",
          "height": 283
        },
        "outputId": "b1bfe220-e489-43b0-f809-105900b41e30"
      },
      "source": [
        "data.split('\\n')"
      ],
      "execution_count": 10,
      "outputs": [
        {
          "output_type": "execute_result",
          "data": {
            "text/plain": [
              "['\"Always code as if the guy who ends up maintaining your code will be a violent psychopath who knows where you live.\" - Martin Golding',\n",
              " '\"Debugging is twice as hard as writing the code in the first place. Therefore, if you write the code as cleverly as possible, you are, by definition, not smart enough to debug it.\" - Brian W. Kernighan',\n",
              " '\"If builders built buildings the way programmers wrote programs, then the first woodpecker that came along would destroy civilization.\" - Gerald Weinberg',\n",
              " '\"One man’s crappy software is another man’s full-time job.\" - Jessica Gaston',\n",
              " '\"Programming is like sex. One mistake and you have to support it for the rest of your life.\" - Michael Sinz',\n",
              " '\"Walking on water and developing software from a specification are easy if both are frozen.\"- Edward V Berard',\n",
              " '\"There is nothing quite so permanent as a quick fix.\" - Unknown',\n",
              " '\"Programming today is a race between software engineers striving to build bigger and better idiot-proof programs, and the universe trying to produce bigger and better idiots. So far, the universe is winning.\" - Rick Cook',\n",
              " '\"Weeks of coding can save you hours of planning.\" - Unknown',\n",
              " '\"Press any key to continue or any other key to quit.\" - Unknown',\n",
              " '\"If the programmers like each other, they play a game called \\'pair programming\\'. And if not then the game is called \\'peer review\\'.\" - Anna Nachesa',\n",
              " '\"Sometimes it pays to stay in bed on Monday, rather than spending the rest of the week debugging Monday’s code.\" - Dan Salom',\n",
              " '\"Every developer has a test environment. Some are lucky enough to also have a separate production system.\" - Unknown',\n",
              " '\"Debugging is like being the detective in a crime movie where you are also the murderer.\" - Unknown',\n",
              " '']"
            ]
          },
          "metadata": {
            "tags": []
          },
          "execution_count": 10
        }
      ]
    },
    {
      "cell_type": "code",
      "metadata": {
        "id": "1p0EOzf6YGS8",
        "colab_type": "code",
        "colab": {}
      },
      "source": [
        ""
      ],
      "execution_count": 0,
      "outputs": []
    },
    {
      "cell_type": "markdown",
      "metadata": {
        "id": "Dlq-eXLPZT2R",
        "colab_type": "text"
      },
      "source": [
        "Python is dynamically-typed. This means that we do not need to define the type of a variable at run time."
      ]
    },
    {
      "cell_type": "code",
      "metadata": {
        "id": "KA4mK9ygaIAu",
        "colab_type": "code",
        "colab": {}
      },
      "source": [
        "x = 42"
      ],
      "execution_count": 0,
      "outputs": []
    },
    {
      "cell_type": "code",
      "metadata": {
        "id": "YxbYmIHeac61",
        "colab_type": "code",
        "colab": {
          "base_uri": "https://localhost:8080/",
          "height": 34
        },
        "outputId": "1e5f6e1e-353d-47a0-82f9-e617d246057f"
      },
      "source": [
        "print(type(x))"
      ],
      "execution_count": 20,
      "outputs": [
        {
          "output_type": "stream",
          "text": [
            "<class 'int'>\n"
          ],
          "name": "stdout"
        }
      ]
    },
    {
      "cell_type": "code",
      "metadata": {
        "id": "BDMlwFrTaMWf",
        "colab_type": "code",
        "colab": {}
      },
      "source": [
        "x = 'VodafoneZiggo'"
      ],
      "execution_count": 0,
      "outputs": []
    },
    {
      "cell_type": "code",
      "metadata": {
        "id": "BhwmDAMLaTIU",
        "colab_type": "code",
        "colab": {
          "base_uri": "https://localhost:8080/",
          "height": 34
        },
        "outputId": "c8d13aa7-1fec-461d-c112-438f5d811379"
      },
      "source": [
        "print(type(x))"
      ],
      "execution_count": 22,
      "outputs": [
        {
          "output_type": "stream",
          "text": [
            "<class 'str'>\n"
          ],
          "name": "stdout"
        }
      ]
    },
    {
      "cell_type": "code",
      "metadata": {
        "id": "1pHAQGTua-b1",
        "colab_type": "code",
        "colab": {}
      },
      "source": [
        "https://data-flair.training/blogs/facts-about-python-programming/"
      ],
      "execution_count": 0,
      "outputs": []
    }
  ]
}