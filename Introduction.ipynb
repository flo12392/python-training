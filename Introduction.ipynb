{
  "nbformat": 4,
  "nbformat_minor": 0,
  "metadata": {
    "colab": {
      "name": "Untitled1.ipynb",
      "provenance": [],
      "include_colab_link": true
    },
    "kernelspec": {
      "name": "python3",
      "display_name": "Python 3"
    }
  },
  "cells": [
    {
      "cell_type": "markdown",
      "metadata": {
        "id": "view-in-github",
        "colab_type": "text"
      },
      "source": [
        "<a href=\"https://colab.research.google.com/github/flo12392/python-training/blob/master/Introduction.ipynb\" target=\"_parent\"><img src=\"https://colab.research.google.com/assets/colab-badge.svg\" alt=\"Open In Colab\"/></a>"
      ]
    },
    {
      "cell_type": "code",
      "metadata": {
        "id": "3q1flKgr7Sel",
        "colab_type": "code",
        "colab": {}
      },
      "source": [
        ""
      ],
      "execution_count": 0,
      "outputs": []
    },
    {
      "cell_type": "markdown",
      "metadata": {
        "id": "O064ln8ltZ2k",
        "colab_type": "text"
      },
      "source": [
        "# Introduction"
      ]
    },
    {
      "cell_type": "markdown",
      "metadata": {
        "id": "Dlq-eXLPZT2R",
        "colab_type": "text"
      },
      "source": [
        "## Variables \n",
        "Python is dynamically-typed. This means that we do not need to define the type of a variable at run time."
      ]
    },
    {
      "cell_type": "code",
      "metadata": {
        "id": "KA4mK9ygaIAu",
        "colab_type": "code",
        "colab": {}
      },
      "source": [
        "x = 42"
      ],
      "execution_count": 0,
      "outputs": []
    },
    {
      "cell_type": "code",
      "metadata": {
        "id": "YxbYmIHeac61",
        "colab_type": "code",
        "outputId": "0724a28f-6b1d-421a-dc5c-38d4687dffbd",
        "colab": {
          "base_uri": "https://localhost:8080/",
          "height": 34
        }
      },
      "source": [
        "print(type(x))"
      ],
      "execution_count": 0,
      "outputs": [
        {
          "output_type": "stream",
          "text": [
            "<class 'int'>\n"
          ],
          "name": "stdout"
        }
      ]
    },
    {
      "cell_type": "code",
      "metadata": {
        "id": "BDMlwFrTaMWf",
        "colab_type": "code",
        "colab": {}
      },
      "source": [
        "y = 'VodafoneZiggo'"
      ],
      "execution_count": 0,
      "outputs": []
    },
    {
      "cell_type": "code",
      "metadata": {
        "id": "BhwmDAMLaTIU",
        "colab_type": "code",
        "outputId": "80252dcc-650c-4895-cb48-3fd891781695",
        "colab": {
          "base_uri": "https://localhost:8080/",
          "height": 34
        }
      },
      "source": [
        "print(type(y))"
      ],
      "execution_count": 0,
      "outputs": [
        {
          "output_type": "stream",
          "text": [
            "<class 'str'>\n"
          ],
          "name": "stdout"
        }
      ]
    },
    {
      "cell_type": "markdown",
      "metadata": {
        "id": "BEJucMFFqn5l",
        "colab_type": "text"
      },
      "source": [
        "Python is superpowerful. It can do basic arithmetics. Try adding a number to x. For example \n",
        "\n",
        "```\n",
        "x + 2\n",
        "x - 2\n",
        "x / 2\n",
        "x * 2\n",
        "```\n",
        "\n"
      ]
    },
    {
      "cell_type": "code",
      "metadata": {
        "id": "znb-xFHuroMf",
        "colab_type": "code",
        "outputId": "00523d56-a137-4bf8-80ce-b40d9b8102ba",
        "colab": {
          "base_uri": "https://localhost:8080/",
          "height": 34
        }
      },
      "source": [
        "# TODO: create a variable\n",
        "# TODO: Multiply the variable with three"
      ],
      "execution_count": 0,
      "outputs": [
        {
          "output_type": "execute_result",
          "data": {
            "text/plain": [
              "44"
            ]
          },
          "metadata": {
            "tags": []
          },
          "execution_count": 148
        }
      ]
    },
    {
      "cell_type": "markdown",
      "metadata": {
        "id": "5GD92bIZrdpZ",
        "colab_type": "text"
      },
      "source": [
        "Note that x itself has not changed, which we can check by doing\n",
        "\n",
        "\n",
        "```\n",
        "print(x)\n",
        "```\n",
        "\n",
        "Try it out!\n"
      ]
    },
    {
      "cell_type": "code",
      "metadata": {
        "id": "oSoDtCOEq2xd",
        "colab_type": "code",
        "outputId": "9ea3c8f4-4e85-4816-c85c-5795b412a7d8",
        "colab": {
          "base_uri": "https://localhost:8080/",
          "height": 34
        }
      },
      "source": [
        "print(x)"
      ],
      "execution_count": 0,
      "outputs": [
        {
          "output_type": "stream",
          "text": [
            "42\n"
          ],
          "name": "stdout"
        }
      ]
    },
    {
      "cell_type": "markdown",
      "metadata": {
        "id": "Yi0rVNYMrv-3",
        "colab_type": "text"
      },
      "source": [
        "If we want to change the value of x, we have to assign the value back, for example: \n",
        "\n",
        "```\n",
        "x = 2\n",
        "y = 3\n",
        "x = x + y\n",
        "```\n",
        "\n",
        "What do you think would happen if we print the value of x now? Try it out!"
      ]
    },
    {
      "cell_type": "code",
      "metadata": {
        "id": "uNEH6kUTr4pn",
        "colab_type": "code",
        "outputId": "8735f298-4afd-4d5a-d574-02e5f3d6f25f",
        "colab": {
          "base_uri": "https://localhost:8080/",
          "height": 34
        }
      },
      "source": [
        "x = 2\n",
        "y = 3\n",
        "x = x + y\n",
        "print(x)"
      ],
      "execution_count": 0,
      "outputs": [
        {
          "output_type": "stream",
          "text": [
            "5\n"
          ],
          "name": "stdout"
        }
      ]
    },
    {
      "cell_type": "markdown",
      "metadata": {
        "id": "kgYzRZdYp2k3",
        "colab_type": "text"
      },
      "source": [
        "## Lists\n",
        "We can also make lists of things. For example:\n",
        "\n",
        "```\n",
        "my_ocd = [1,2,3,4,6,5,7,8]\n",
        "my_favourite_yammer_hashtags = ['#openup','#teamup','#stepup']\n",
        "```\n",
        "\n",
        "\n",
        "Now, create your own list:"
      ]
    },
    {
      "cell_type": "code",
      "metadata": {
        "id": "-pK353Nq0a7x",
        "colab_type": "code",
        "colab": {}
      },
      "source": [
        "# TODO: Create a list here"
      ],
      "execution_count": 0,
      "outputs": []
    },
    {
      "cell_type": "markdown",
      "metadata": {
        "id": "xUqXgpwqqade",
        "colab_type": "text"
      },
      "source": [
        "We can add stuff to the list by using `.append()`. Try adding something and then print the list, for example:\n",
        "\n",
        "\n",
        "```\n",
        "my_favourite_yammer_hashtags.append('#kerstpakket')\n",
        "print(my_favourite_yammer_hashtags)\n",
        "```\n",
        "Note that in this case, `append` mutates the list, so you do not need to do\n",
        "\n",
        "```\n",
        "my_favourite_yammer_hashtags = my_favourite_yammer_hashtags.append('...')\n",
        "```\n",
        "\n",
        " \n"
      ]
    },
    {
      "cell_type": "code",
      "metadata": {
        "id": "6TGy9HtR0QTq",
        "colab_type": "code",
        "colab": {}
      },
      "source": [
        "# TODO: Add something to the list here!\n",
        "# TODO: Print your list"
      ],
      "execution_count": 0,
      "outputs": []
    },
    {
      "cell_type": "markdown",
      "metadata": {
        "id": "QJWv4YZ5sg1d",
        "colab_type": "text"
      },
      "source": [
        "We can extract the elements of a list with `[]`. Note that in python, indexing begins at `0`. So to extract the first element of a list called `x`, you could do:\n",
        "\n",
        "\n",
        "```\n",
        "x[0]\n",
        "```\n",
        "\n",
        "If you want to get the second element, use `x[1]`, etc. \n",
        "\n",
        "Try it out!\n"
      ]
    },
    {
      "cell_type": "code",
      "metadata": {
        "id": "JF5MwgW8dkMb",
        "colab_type": "code",
        "colab": {}
      },
      "source": [
        "# TODO: Get an element of your list by using []"
      ],
      "execution_count": 0,
      "outputs": []
    },
    {
      "cell_type": "markdown",
      "metadata": {
        "id": "DcZm9PmD0HqI",
        "colab_type": "text"
      },
      "source": [
        "## Functions"
      ]
    },
    {
      "cell_type": "markdown",
      "metadata": {
        "id": "L1zey-6utXIn",
        "colab_type": "text"
      },
      "source": [
        "# Code breaking"
      ]
    },
    {
      "cell_type": "markdown",
      "metadata": {
        "id": "hqb5SqzeyCCA",
        "colab_type": "text"
      },
      "source": [
        "While browing the internet, you came across a file that looks like gibberish. Either someone let their cat walk on their keyboard, or it's an encrypted file. Only one way to find out!\n",
        "\n",
        "One of the most common encryptions is the so called **Ceasar Cipher**; encrpyting a message by shifting all letters in the alphabet by a fixed amount of positions. There is definitely no Ceasar Cipher decryptor on the internet. No, really, there is none. No need to Google it. \n",
        "\n",
        "...\n",
        "\n",
        "Okay, okay, there's plenty. Let's assume there isn't though, so we can enjoy the wonderful experience of programming one ourselves in Python!"
      ]
    },
    {
      "cell_type": "markdown",
      "metadata": {
        "id": "iF6ryAxqx-6K",
        "colab_type": "text"
      },
      "source": [
        "## Loading the data"
      ]
    },
    {
      "cell_type": "markdown",
      "metadata": {
        "id": "bRbUIKrL2yng",
        "colab_type": "text"
      },
      "source": [
        "The code we encountered was:\n",
        "\n",
        "```\n",
        "'\"yjuywq ambc yq gd rfc esw ufm clbq sn kyglryglgle wmsp ambc ugjj zc y tgmjclr nqwafmnyrf ufm ilmuq ufcpc wms jgtc.\" - kyprgl emjbgle'\n",
        "```\n",
        "\n",
        "First, we need to save the string as a variable. "
      ]
    },
    {
      "cell_type": "code",
      "metadata": {
        "id": "7wXwQ8scdsmA",
        "colab_type": "code",
        "colab": {}
      },
      "source": [
        "super_secret_code = '\"yjuywq ambc yq gd rfc esw ufm clbq sn kyglryglgle wmsp ambc ugjj zc y tgmjclr nqwafmnyrf ufm ilmuq ufcpc wms jgtc.\" - kyprgl emjbgle'"
      ],
      "execution_count": 0,
      "outputs": []
    },
    {
      "cell_type": "markdown",
      "metadata": {
        "id": "6C_FTIoM8I8W",
        "colab_type": "text"
      },
      "source": [
        "Now, let's start breaking our problem down into steps.\n",
        "\n",
        "\n",
        "1.   Create a function that shifts a letter by x positions in the alphabet\n",
        "2.   Apply our function to all letters in the code\n",
        "3.   Feel really smart\n",
        "\n",
        "Let's start with step 1! Basically, this can also be broken down into smaller steps.\n",
        "\n",
        "1.   Get as input a letter\n",
        "2.   Find that letter in the alphabet\n",
        "3.   Find the letter in the alphabet that is two positions further\n",
        "4.   Return that letter\n",
        "\n",
        "Let's start simple, by creating a function called `shift_letter()`, that takes as input a variable called `my_letter` and just returns that letter.\n",
        "\n"
      ]
    },
    {
      "cell_type": "code",
      "metadata": {
        "id": "JTn84stR9s90",
        "colab_type": "code",
        "colab": {}
      },
      "source": [
        "def shift_letter(my_letter):\n",
        "  return my_letter"
      ],
      "execution_count": 0,
      "outputs": []
    },
    {
      "cell_type": "markdown",
      "metadata": {
        "id": "03FbB2fw94If",
        "colab_type": "text"
      },
      "source": [
        "Okay! Now let's take it one step further. Let's improve the function, so it returns the index of my_letter in the alphabet, i.e. if our input is `c` it should return `3`. To do so:\n",
        "\n",
        "\n",
        "1.    give the function a second argument, called `alphabet`, which is a list of the letters in the alphabet in the right order. Hint; this can be done faster than by just typing it out, just Google `alphabet in python` and see what you find!\n",
        "\n",
        "2.   Then we need to find the index of `my_letter` in `alphabet`. To find the index of an element `x` in a list with the name `y`, do `x.index(y)`\n",
        "\n",
        "3. Store that value as `index` and return it!\n",
        "\n",
        " "
      ]
    },
    {
      "cell_type": "code",
      "metadata": {
        "id": "sQPRYCoo-NQ2",
        "colab_type": "code",
        "colab": {}
      },
      "source": [
        "def shift_letter(my_letter,alphabet):\n",
        "  index = letters_list.index(my_letter)\n",
        "  return index"
      ],
      "execution_count": 0,
      "outputs": []
    },
    {
      "cell_type": "markdown",
      "metadata": {
        "id": "Wls2B6pn_jpK",
        "colab_type": "text"
      },
      "source": [
        "Now, what we want to do is find the index of the letter that we want to return. So if we want to shift all letters by `2` in our Caesar Cipher, we'd have to get the letter from the alphabet at position `index + 2`. Let's make our function a bit more flexible though, and give the user the option to pass the desired shift as an argument called `shift`. So for now, adapt the function so `new_shift` is calculated as `index + shift`, and return that value."
      ]
    },
    {
      "cell_type": "code",
      "metadata": {
        "id": "Th8sMDlyAUyG",
        "colab_type": "code",
        "colab": {}
      },
      "source": [
        "def shift_letter(my_letter,alphabet,shift = 2):\n",
        "  index = letters_list.index(my_letter)\n",
        "  new_index = index + shift\n",
        "  return new_index"
      ],
      "execution_count": 0,
      "outputs": []
    },
    {
      "cell_type": "markdown",
      "metadata": {
        "id": "Ua1hEaUb_Itb",
        "colab_type": "text"
      },
      "source": [
        "We're almost there it seems. Now all we need to do is return the right letter! We have already seen earlier how we can take the `n'th` element of a list. In this case, we want to get the `index`'th letter of the list `alphabet`. Let's call that `new_letter` and return it."
      ]
    },
    {
      "cell_type": "code",
      "metadata": {
        "id": "uLJgSQV_4r7g",
        "colab_type": "code",
        "colab": {}
      },
      "source": [
        "def shift_letter(my_letter,alphabet,shift = 2):\n",
        "  index = letters_list.index(my_letter)\n",
        "  new_index = index + shift\n",
        "  new_letter = letters_list[new_index]\n",
        "  return new_letter"
      ],
      "execution_count": 0,
      "outputs": []
    },
    {
      "cell_type": "code",
      "metadata": {
        "id": "CTlM4lDV6c9c",
        "colab_type": "code",
        "outputId": "810e26cd-835d-44c7-d48f-8610a86096a3",
        "colab": {
          "base_uri": "https://localhost:8080/",
          "height": 34
        }
      },
      "source": [
        "shift_letter('a',letters_list,2)"
      ],
      "execution_count": 0,
      "outputs": [
        {
          "output_type": "execute_result",
          "data": {
            "text/plain": [
              "'c'"
            ]
          },
          "metadata": {
            "tags": []
          },
          "execution_count": 37
        }
      ]
    },
    {
      "cell_type": "code",
      "metadata": {
        "id": "dC9Nf5NJ60HR",
        "colab_type": "code",
        "outputId": "94657c57-fb50-44fc-bfee-266ed3725399",
        "colab": {
          "base_uri": "https://localhost:8080/",
          "height": 274
        }
      },
      "source": [
        "shift_letter('z',letters_list,2)"
      ],
      "execution_count": 0,
      "outputs": [
        {
          "output_type": "error",
          "ename": "IndexError",
          "evalue": "ignored",
          "traceback": [
            "\u001b[0;31m---------------------------------------------------------------------------\u001b[0m",
            "\u001b[0;31mIndexError\u001b[0m                                Traceback (most recent call last)",
            "\u001b[0;32m<ipython-input-38-ba1ab6a4d228>\u001b[0m in \u001b[0;36m<module>\u001b[0;34m()\u001b[0m\n\u001b[0;32m----> 1\u001b[0;31m \u001b[0mshift_letter\u001b[0m\u001b[0;34m(\u001b[0m\u001b[0;34m'z'\u001b[0m\u001b[0;34m,\u001b[0m\u001b[0mletters_list\u001b[0m\u001b[0;34m,\u001b[0m\u001b[0;36m2\u001b[0m\u001b[0;34m)\u001b[0m\u001b[0;34m\u001b[0m\u001b[0;34m\u001b[0m\u001b[0m\n\u001b[0m",
            "\u001b[0;32m<ipython-input-36-bb65dc2a15a5>\u001b[0m in \u001b[0;36mshift_letter\u001b[0;34m(my_letter, letters_list, shift)\u001b[0m\n\u001b[1;32m      2\u001b[0m   \u001b[0mindex\u001b[0m \u001b[0;34m=\u001b[0m \u001b[0mletters_list\u001b[0m\u001b[0;34m.\u001b[0m\u001b[0mindex\u001b[0m\u001b[0;34m(\u001b[0m\u001b[0mmy_letter\u001b[0m\u001b[0;34m)\u001b[0m\u001b[0;34m\u001b[0m\u001b[0;34m\u001b[0m\u001b[0m\n\u001b[1;32m      3\u001b[0m   \u001b[0mnew_index\u001b[0m \u001b[0;34m=\u001b[0m \u001b[0mindex\u001b[0m \u001b[0;34m+\u001b[0m \u001b[0mshift\u001b[0m\u001b[0;34m\u001b[0m\u001b[0;34m\u001b[0m\u001b[0m\n\u001b[0;32m----> 4\u001b[0;31m   \u001b[0mnew_letter\u001b[0m \u001b[0;34m=\u001b[0m \u001b[0mletters_list\u001b[0m\u001b[0;34m[\u001b[0m\u001b[0mnew_index\u001b[0m\u001b[0;34m]\u001b[0m\u001b[0;34m\u001b[0m\u001b[0;34m\u001b[0m\u001b[0m\n\u001b[0m\u001b[1;32m      5\u001b[0m   \u001b[0;32mreturn\u001b[0m \u001b[0mnew_letter\u001b[0m\u001b[0;34m\u001b[0m\u001b[0;34m\u001b[0m\u001b[0m\n",
            "\u001b[0;31mIndexError\u001b[0m: list index out of range"
          ]
        }
      ]
    },
    {
      "cell_type": "markdown",
      "metadata": {
        "id": "qOjLcVA8Bftk",
        "colab_type": "text"
      },
      "source": [
        "Oops! Seems that we forgot something. If the user enters the letter `z` and shift `2`, our function will try to find the `28`'th letter of the alphabet. We should use the modulo operator (`%`) for this, which returns the remainder after divsion;\n",
        "\n",
        "*   `4 % 26` -> 4, because 4 is smaller than 26, so after division we are left with 2.\n",
        "*   `28 % 26` -> 2, because 26 fits in 28 once, and then we are left with 2.\n",
        "*   `10 % 4` -> 2, because 4 fits in 10 twice, and then we are left with 2.\n",
        "\n",
        "See if you can apply this to our function. Hint: Make a change in the line where `new_index` is calculated, and don't forget the use of brackets!\n",
        "\n"
      ]
    },
    {
      "cell_type": "code",
      "metadata": {
        "id": "0vSsoE5R64n5",
        "colab_type": "code",
        "colab": {}
      },
      "source": [
        "def shift_letter(my_letter,letters_list,shift = 2):\n",
        "  index = letters_list.index(my_letter)\n",
        "  new_index = (index + shift) % 26\n",
        "  new_letter = letters_list[new_index]\n",
        "  return new_letter"
      ],
      "execution_count": 0,
      "outputs": []
    },
    {
      "cell_type": "code",
      "metadata": {
        "id": "m9Zw7Qys7AR_",
        "colab_type": "code",
        "outputId": "0a40b4ad-d53c-4e2c-9ee3-88642ce504e7",
        "colab": {
          "base_uri": "https://localhost:8080/",
          "height": 167
        }
      },
      "source": [
        "shift_letter('z',letters_list,2)"
      ],
      "execution_count": 4,
      "outputs": [
        {
          "output_type": "error",
          "ename": "NameError",
          "evalue": "ignored",
          "traceback": [
            "\u001b[0;31m---------------------------------------------------------------------------\u001b[0m",
            "\u001b[0;31mNameError\u001b[0m                                 Traceback (most recent call last)",
            "\u001b[0;32m<ipython-input-4-ba1ab6a4d228>\u001b[0m in \u001b[0;36m<module>\u001b[0;34m()\u001b[0m\n\u001b[0;32m----> 1\u001b[0;31m \u001b[0mshift_letter\u001b[0m\u001b[0;34m(\u001b[0m\u001b[0;34m'z'\u001b[0m\u001b[0;34m,\u001b[0m\u001b[0mletters_list\u001b[0m\u001b[0;34m,\u001b[0m\u001b[0;36m2\u001b[0m\u001b[0;34m)\u001b[0m\u001b[0;34m\u001b[0m\u001b[0;34m\u001b[0m\u001b[0m\n\u001b[0m",
            "\u001b[0;31mNameError\u001b[0m: name 'letters_list' is not defined"
          ]
        }
      ]
    },
    {
      "cell_type": "code",
      "metadata": {
        "id": "2ccNVToe7ESx",
        "colab_type": "code",
        "outputId": "e7ff16d6-1799-4e38-d3db-90795afe1f8d",
        "colab": {
          "base_uri": "https://localhost:8080/",
          "height": 167
        }
      },
      "source": [
        "shift_letter(',',letters_list,2)"
      ],
      "execution_count": 5,
      "outputs": [
        {
          "output_type": "error",
          "ename": "NameError",
          "evalue": "ignored",
          "traceback": [
            "\u001b[0;31m---------------------------------------------------------------------------\u001b[0m",
            "\u001b[0;31mNameError\u001b[0m                                 Traceback (most recent call last)",
            "\u001b[0;32m<ipython-input-5-65918a7ad10d>\u001b[0m in \u001b[0;36m<module>\u001b[0;34m()\u001b[0m\n\u001b[0;32m----> 1\u001b[0;31m \u001b[0mshift_letter\u001b[0m\u001b[0;34m(\u001b[0m\u001b[0;34m','\u001b[0m\u001b[0;34m,\u001b[0m\u001b[0mletters_list\u001b[0m\u001b[0;34m,\u001b[0m\u001b[0;36m2\u001b[0m\u001b[0;34m)\u001b[0m\u001b[0;34m\u001b[0m\u001b[0;34m\u001b[0m\u001b[0m\n\u001b[0m",
            "\u001b[0;31mNameError\u001b[0m: name 'letters_list' is not defined"
          ]
        }
      ]
    },
    {
      "cell_type": "markdown",
      "metadata": {
        "id": "FMDiUJMLDByQ",
        "colab_type": "text"
      },
      "source": [
        "Oh no! One more problem. If the user enters a character that's not in the alphabet, our function breaks down. We can fix this with an `if-else` statement.\n",
        "\n",
        "```\n",
        "def shift_letter(my_letter,letters_list,shift = 2):\n",
        "  if my_letter in letters_list:\n",
        "    # do what we did earlier.\n",
        "  else:\n",
        "    return my_letter\n",
        "```\n",
        "\n"
      ]
    },
    {
      "cell_type": "code",
      "metadata": {
        "id": "9zU9RIR65kYx",
        "colab_type": "code",
        "colab": {}
      },
      "source": [
        "def shift_letter(my_letter,letters_list,shift = 2):\n",
        "  if my_letter in letters_list:\n",
        "    index = letters_list.index(my_letter)\n",
        "    new_index = (index + shift) % 26\n",
        "    new_letter = letters_list[new_index]\n",
        "    return new_letter\n",
        "  else:\n",
        "    return my_letter"
      ],
      "execution_count": 0,
      "outputs": []
    },
    {
      "cell_type": "code",
      "metadata": {
        "id": "iw3MYF_44wyX",
        "colab_type": "code",
        "outputId": "8c17cc98-cff5-4505-a152-0a4340b7d707",
        "colab": {
          "base_uri": "https://localhost:8080/",
          "height": 34
        }
      },
      "source": [
        "my_string = data[0]\n",
        "my_string_as_list = list(my_string)\n",
        "for i in range(len(my_string)):\n",
        "  my_string_as_list[i] = shift_letter(my_string_as_list[i], letters_list, 2)\n",
        "''.join(my_string_as_list)"
      ],
      "execution_count": 0,
      "outputs": [
        {
          "output_type": "execute_result",
          "data": {
            "text/plain": [
              "'\"always code as if the guy who ends up maintaining your code will be a violent psychopath who knows where you live.\" - martin golding'"
            ]
          },
          "metadata": {
            "tags": []
          },
          "execution_count": 34
        }
      ]
    },
    {
      "cell_type": "markdown",
      "metadata": {
        "id": "b0WLkQs82xyK",
        "colab_type": "text"
      },
      "source": [
        ""
      ]
    }
  ]
}