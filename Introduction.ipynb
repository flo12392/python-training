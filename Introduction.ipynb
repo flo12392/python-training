{
 "cells": [
  {
   "cell_type": "markdown",
   "metadata": {
    "colab_type": "text",
    "id": "view-in-github"
   },
   "source": [
    "<a href=\"https://colab.research.google.com/github/flo12392/python-training/blob/master/Introduction.ipynb\" target=\"_parent\"><img src=\"https://colab.research.google.com/assets/colab-badge.svg\" alt=\"Open In Colab\"/></a>"
   ]
  },
  {
   "cell_type": "markdown",
   "metadata": {
    "colab_type": "text",
    "id": "aelcInq3gFGN"
   },
   "source": [
    "# Helper functions"
   ]
  },
  {
   "cell_type": "markdown",
   "metadata": {
    "colab_type": "text",
    "id": "bFDL7sDMgId3"
   },
   "source": [
    "Just run this cell and ignore it :)"
   ]
  },
  {
   "cell_type": "code",
   "execution_count": null,
   "metadata": {
    "colab": {},
    "colab_type": "code",
    "id": "3q1flKgr7Sel"
   },
   "outputs": [],
   "source": [
    "from random import shuffle\n",
    "import string\n",
    "\n",
    "quotes = ['zodzbh xlwv zh ru gsv tfb dsl vmwh fk nzrmgzrmrmt blfi xlwv droo yv z erlovmg khbxslkzgs dsl pmldh dsviv blf orev. - nzigrm tlowrmt',\n",
    "'ru yfrowvih yfrog yfrowrmth gsv dzb kiltiznnvih dilgv kiltiznh, gsvm gsv urihg dllwkvxpvi gszg xznv zolmt dlfow wvhgilb xrerorazgrlm. - tvizow dvrmyvit',\n",
    "'kiltiznnrmt rh orpv hvc. lmv nrhgzpv zmw blf szev gl hfkklig rg uli gsv ivhg lu blfi oruv. - nrxszvo hrma',\n",
    "'dzoprmt lm dzgvi zmw wvevolkrmt hlugdziv uiln z hkvxrurxzgrlm ziv vzhb ru ylgs ziv uilavm.- vwdziw e yviziw',\n",
    "'gsviv rh mlgsrmt jfrgv hl kvinzmvmg zh z jfrxp urc. - fmpmldm',\n",
    "'kiltiznnrmt glwzb rh z izxv yvgdvvm hlugdziv vmtrmvvih hgirermt gl yfrow yrttvi zmw yvggvi rwrlg-killu kiltiznh, zmw gsv fmrevihv gibrmt gl kilwfxv yrttvi zmw yvggvi rwrlgh. hl uzi, gsv fmrevihv rh drmmrmt. - irxp xllp',\n",
    "'vevib wvevolkvi szh z gvhg vmerilmnvmg. hlnv ziv ofxpb vmlfts gl zohl szev z hvkzizgv kilwfxgrlm hbhgvn. - fmpmldm',\n",
    "'wvyfttrmt rh orpv yvrmt gsv wvgvxgrev rm z xirnv nlerv dsviv blf ziv zohl gsv nfiwvivi. - fmpmldm']\n",
    "shuffle(quotes)\n",
    "\n",
    "def convert_char(my_char, my_dict):\n",
    "    return my_dict[my_char] if my_char in my_dict else my_char\n",
    "\n",
    "def convert_string(my_string,my_dict):\n",
    "    return ''.join([convert_char(x,my_dict) for x in my_string.lower()])\n",
    "\n",
    "def check_answer(idx, my_answer):\n",
    "    my_dict = dict(zip(string.ascii_lowercase,string.ascii_lowercase[::-1]))\n",
    "    answers = {0: 105,\n",
    "             1: 4,\n",
    "             2: 'bakfiets',\n",
    "             3: 'c',\n",
    "             4: 5,\n",
    "             5: 6,\n",
    "             6: 'g',\n",
    "             7: 'c',\n",
    "             8: '!'}\n",
    "    if answers[idx]==my_answer:\n",
    "        print('Correct! Here is a random programming quote:')\n",
    "        print(convert_string(quotes[idx],my_dict))\n",
    "    else:\n",
    "        print(\"Your answer seems to be incorrect. Your answer is {}, but the expected result is {}.\".format(my_answer, answers[idx]))\n"
   ]
  },
  {
   "cell_type": "markdown",
   "metadata": {
    "colab_type": "text",
    "id": "O064ln8ltZ2k"
   },
   "source": [
    "# Introduction"
   ]
  },
  {
   "cell_type": "code",
   "execution_count": null,
   "metadata": {},
   "outputs": [],
   "source": [
    "print(\" __________________________________\\n< Welcome to this Python tutorial! >\\n ----------------------------------\\n        \\   ^__^\\n         \\  (oo)\\_______\\n            (__)\\       )\\/\\ \\n                ||----w |\\n                ||     ||\" )"
   ]
  },
  {
   "cell_type": "markdown",
   "metadata": {
    "colab_type": "text",
    "id": "Dlq-eXLPZT2R"
   },
   "source": [
    "## Variables "
   ]
  },
  {
   "cell_type": "markdown",
   "metadata": {
    "colab_type": "text",
    "id": "4CdoMJ5dHCdw"
   },
   "source": [
    "\n",
    "Python is dynamically-typed. This means that we do not need to define the type of a variable at run time."
   ]
  },
  {
   "cell_type": "code",
   "execution_count": null,
   "metadata": {
    "colab": {},
    "colab_type": "code",
    "id": "KA4mK9ygaIAu"
   },
   "outputs": [],
   "source": [
    "x = 42"
   ]
  },
  {
   "cell_type": "code",
   "execution_count": null,
   "metadata": {
    "colab": {},
    "colab_type": "code",
    "id": "KA4mK9ygaIAu"
   },
   "outputs": [],
   "source": [
    "print(x)"
   ]
  },
  {
   "cell_type": "code",
   "execution_count": null,
   "metadata": {
    "colab": {
     "base_uri": "https://localhost:8080/",
     "height": 34
    },
    "colab_type": "code",
    "id": "YxbYmIHeac61",
    "outputId": "a6fe0828-b51c-4cfc-f6ac-efcfa17480cc"
   },
   "outputs": [],
   "source": [
    "print(type(x))"
   ]
  },
  {
   "cell_type": "code",
   "execution_count": null,
   "metadata": {
    "colab": {},
    "colab_type": "code",
    "id": "BDMlwFrTaMWf"
   },
   "outputs": [],
   "source": [
    "y = 'VodafoneZiggo'"
   ]
  },
  {
   "cell_type": "code",
   "execution_count": null,
   "metadata": {
    "colab": {},
    "colab_type": "code",
    "id": "BDMlwFrTaMWf"
   },
   "outputs": [],
   "source": [
    "print(y)"
   ]
  },
  {
   "cell_type": "code",
   "execution_count": null,
   "metadata": {
    "colab": {
     "base_uri": "https://localhost:8080/",
     "height": 34
    },
    "colab_type": "code",
    "id": "BhwmDAMLaTIU",
    "outputId": "d1a81943-2215-471b-acc9-e6b2c17c4ca7"
   },
   "outputs": [],
   "source": [
    "print(type(y))"
   ]
  },
  {
   "cell_type": "code",
   "execution_count": null,
   "metadata": {
    "colab": {
     "base_uri": "https://localhost:8080/",
     "height": 34
    },
    "colab_type": "code",
    "id": "BhwmDAMLaTIU",
    "outputId": "d1a81943-2215-471b-acc9-e6b2c17c4ca7"
   },
   "outputs": [],
   "source": [
    "z = True"
   ]
  },
  {
   "cell_type": "code",
   "execution_count": null,
   "metadata": {
    "colab": {
     "base_uri": "https://localhost:8080/",
     "height": 34
    },
    "colab_type": "code",
    "id": "BhwmDAMLaTIU",
    "outputId": "d1a81943-2215-471b-acc9-e6b2c17c4ca7"
   },
   "outputs": [],
   "source": [
    "print(z)"
   ]
  },
  {
   "cell_type": "code",
   "execution_count": null,
   "metadata": {
    "colab": {
     "base_uri": "https://localhost:8080/",
     "height": 34
    },
    "colab_type": "code",
    "id": "BhwmDAMLaTIU",
    "outputId": "d1a81943-2215-471b-acc9-e6b2c17c4ca7"
   },
   "outputs": [],
   "source": [
    "print(type(z))"
   ]
  },
  {
   "cell_type": "code",
   "execution_count": null,
   "metadata": {
    "colab": {
     "base_uri": "https://localhost:8080/",
     "height": 34
    },
    "colab_type": "code",
    "id": "BhwmDAMLaTIU",
    "outputId": "d1a81943-2215-471b-acc9-e6b2c17c4ca7"
   },
   "outputs": [],
   "source": [
    "print(not z)"
   ]
  },
  {
   "cell_type": "markdown",
   "metadata": {
    "colab_type": "text",
    "id": "BEJucMFFqn5l"
   },
   "source": [
    "Python is superpowerful. It can do basic arithmetics. For example:\n",
    "\n",
    "```\n",
    "x + 2\n",
    "x - 2\n",
    "x / 2\n",
    "x * 2\n",
    "```\n",
    "\n"
   ]
  },
  {
   "cell_type": "code",
   "execution_count": null,
   "metadata": {
    "colab": {
     "base_uri": "https://localhost:8080/",
     "height": 34
    },
    "colab_type": "code",
    "id": "znb-xFHuroMf",
    "outputId": "74a1d15d-1a05-44da-eef6-0dd3dc560d64"
   },
   "outputs": [],
   "source": [
    "x = 5\n",
    "print(x*2)"
   ]
  },
  {
   "cell_type": "markdown",
   "metadata": {
    "colab_type": "text",
    "id": "5GD92bIZrdpZ"
   },
   "source": [
    "Note that `x` itself has not changed:\n"
   ]
  },
  {
   "cell_type": "code",
   "execution_count": null,
   "metadata": {
    "colab": {
     "base_uri": "https://localhost:8080/",
     "height": 34
    },
    "colab_type": "code",
    "id": "oSoDtCOEq2xd",
    "outputId": "b34ff3fb-4c1a-48e6-fb5d-021822db8a47"
   },
   "outputs": [],
   "source": [
    "print(x)"
   ]
  },
  {
   "cell_type": "markdown",
   "metadata": {
    "colab_type": "text",
    "id": "Yi0rVNYMrv-3"
   },
   "source": [
    "If we want to change the value of x, we have to assign the value back, for example: "
   ]
  },
  {
   "cell_type": "code",
   "execution_count": null,
   "metadata": {
    "colab": {
     "base_uri": "https://localhost:8080/",
     "height": 34
    },
    "colab_type": "code",
    "id": "uNEH6kUTr4pn",
    "outputId": "234a0622-6506-4217-8afa-dedc81da7757"
   },
   "outputs": [],
   "source": [
    "x = 5\n",
    "x = x * 2\n",
    "print(x)"
   ]
  },
  {
   "cell_type": "markdown",
   "metadata": {
    "colab_type": "text",
    "id": "kgYzRZdYp2k3"
   },
   "source": [
    "## Lists"
   ]
  },
  {
   "cell_type": "markdown",
   "metadata": {
    "colab_type": "text",
    "id": "IbIY8jYlG96m"
   },
   "source": [
    "We can also make lists of things. For example:\n",
    "\n"
   ]
  },
  {
   "cell_type": "code",
   "execution_count": null,
   "metadata": {
    "colab": {},
    "colab_type": "code",
    "id": "-pK353Nq0a7x"
   },
   "outputs": [],
   "source": [
    "my_ocd = [1,2,3,4,6,5,7,8]\n",
    "my_favourite_yammer_hashtags = ['#openup','#teamup','#stepup']"
   ]
  },
  {
   "cell_type": "markdown",
   "metadata": {
    "colab_type": "text",
    "id": "E6aAeJo-egPJ"
   },
   "source": [
    "We can get the length of a list by using `len()`:"
   ]
  },
  {
   "cell_type": "code",
   "execution_count": null,
   "metadata": {
    "colab": {
     "base_uri": "https://localhost:8080/",
     "height": 34
    },
    "colab_type": "code",
    "id": "Fv0q5WlSekCo",
    "outputId": "a5840026-3823-4e1e-d30f-7c2939e5e09e"
   },
   "outputs": [],
   "source": [
    "len(my_ocd)"
   ]
  },
  {
   "cell_type": "markdown",
   "metadata": {
    "colab_type": "text",
    "id": "xUqXgpwqqade"
   },
   "source": [
    "We can add stuff to the list by using `.append()`. Try adding something and then print the list, for example:\n",
    "\n",
    " \n"
   ]
  },
  {
   "cell_type": "code",
   "execution_count": null,
   "metadata": {
    "colab": {
     "base_uri": "https://localhost:8080/",
     "height": 34
    },
    "colab_type": "code",
    "id": "6TGy9HtR0QTq",
    "outputId": "bfb045e8-2904-4a5f-d8c9-0ebb0f79764c"
   },
   "outputs": [],
   "source": [
    "my_favourite_yammer_hashtags.append('#kerstpakket')\n",
    "print(my_favourite_yammer_hashtags)"
   ]
  },
  {
   "cell_type": "markdown",
   "metadata": {
    "colab_type": "text",
    "id": "RdA8FXlectoo"
   },
   "source": [
    "Note that in this case, `append` mutates the list, so you do not need to do\n",
    "```\n",
    "my_favourite_yammer_hashtags = my_favourite_yammer_hashtags.append('...')\n",
    "```"
   ]
  },
  {
   "cell_type": "markdown",
   "metadata": {
    "colab_type": "text",
    "id": "QJWv4YZ5sg1d"
   },
   "source": [
    "We can extract the elements of a list with `[]`. Note that in python, indexing begins at `0`. So to extract the first element of a list called `x`, you could do `x[0]`, if you want to get the second element, use `x[1]`, etc. \n"
   ]
  },
  {
   "cell_type": "code",
   "execution_count": null,
   "metadata": {
    "colab": {
     "base_uri": "https://localhost:8080/",
     "height": 52
    },
    "colab_type": "code",
    "id": "JF5MwgW8dkMb",
    "outputId": "d49a0c04-034f-4c1e-dc9a-c8e28495e2a8"
   },
   "outputs": [],
   "source": [
    "print(my_favourite_yammer_hashtags[0])\n",
    "print(my_favourite_yammer_hashtags[2])"
   ]
  },
  {
   "cell_type": "markdown",
   "metadata": {
    "colab_type": "text",
    "id": "UwtdqmeJdD-o"
   },
   "source": [
    "We can also edit the elements of a list, in exactly the same way as we would edit variables:"
   ]
  },
  {
   "cell_type": "code",
   "execution_count": null,
   "metadata": {
    "colab": {
     "base_uri": "https://localhost:8080/",
     "height": 34
    },
    "colab_type": "code",
    "id": "j6lZ8IAFdL-s",
    "outputId": "6cae4db8-419e-4d9f-825e-a6e1238201a2"
   },
   "outputs": [],
   "source": [
    "my_favourite_yammer_hashtags[0] = '#eggcup'\n",
    "my_favourite_yammer_hashtags[1] = '#buttercup'\n",
    "my_favourite_yammer_hashtags[2] = '#ketchup'\n",
    "print(my_favourite_yammer_hashtags)"
   ]
  },
  {
   "cell_type": "markdown",
   "metadata": {
    "colab_type": "text",
    "id": "FJEetDXveJHj"
   },
   "source": [
    "## For-loops"
   ]
  },
  {
   "cell_type": "markdown",
   "metadata": {
    "colab_type": "text",
    "id": "XbMlGR63eNur"
   },
   "source": [
    "To repeat something, we can use for-loops. For example:"
   ]
  },
  {
   "cell_type": "code",
   "execution_count": null,
   "metadata": {
    "colab": {
     "base_uri": "https://localhost:8080/",
     "height": 87
    },
    "colab_type": "code",
    "id": "xxLByK3PeRGJ",
    "outputId": "6c756c6e-16f5-49b7-a64b-7f4004201693"
   },
   "outputs": [],
   "source": [
    "for i in [0,1,2,3]:\n",
    "    print(i) # This will be repeated, because it is indented.\n",
    "print('end') # This will not be repeated."
   ]
  },
  {
   "cell_type": "code",
   "execution_count": null,
   "metadata": {
    "colab": {
     "base_uri": "https://localhost:8080/",
     "height": 70
    },
    "colab_type": "code",
    "id": "dlRmmusVeWeD",
    "outputId": "5a288a28-abfa-413f-ad66-e8507b0cfc1d"
   },
   "outputs": [],
   "source": [
    "for i in range(3):\n",
    "    print(i)"
   ]
  },
  {
   "cell_type": "code",
   "execution_count": null,
   "metadata": {
    "colab": {
     "base_uri": "https://localhost:8080/",
     "height": 70
    },
    "colab_type": "code",
    "id": "O5wK1niNeYwZ",
    "outputId": "387642f9-6c45-49d7-867d-eb778f2c108f"
   },
   "outputs": [],
   "source": [
    "my_list = [0,1,2,3]\n",
    "for i in range(len(my_list)):\n",
    "    my_list[i] = i + 2\n",
    "    \n",
    "print(my_list)    "
   ]
  },
  {
   "cell_type": "markdown",
   "metadata": {
    "colab_type": "text",
    "id": "DcZm9PmD0HqI"
   },
   "source": [
    "## Functions"
   ]
  },
  {
   "cell_type": "markdown",
   "metadata": {
    "colab_type": "text",
    "id": "s1BChjVPe1pY"
   },
   "source": [
    "Sometimes, we want to perform an operation multiple times. In those cases, it can be useful to create a function. For example:"
   ]
  },
  {
   "cell_type": "code",
   "execution_count": null,
   "metadata": {
    "colab": {
     "base_uri": "https://localhost:8080/",
     "height": 34
    },
    "colab_type": "code",
    "id": "AphdfgGke8d_",
    "outputId": "8770e3f4-4246-4e57-f32f-7f761d4c29d8"
   },
   "outputs": [],
   "source": [
    "def multiply_by_two(x):\n",
    "    return x*2\n",
    "\n",
    "print(multiply_by_two(4))"
   ]
  },
  {
   "cell_type": "code",
   "execution_count": null,
   "metadata": {
    "colab": {
     "base_uri": "https://localhost:8080/",
     "height": 34
    },
    "colab_type": "code",
    "id": "suOB-omVgXVn",
    "outputId": "4f081676-f9b6-4837-afd4-179b3e70fdda"
   },
   "outputs": [],
   "source": [
    "def multiply_list_by_two(my_list):\n",
    "    for i in range(len(my_list)):\n",
    "        my_list[i] = my_list[i] * 2\n",
    "    return my_list\n",
    "    \n",
    "print(multiply_list_by_two([2,4,8]))"
   ]
  },
  {
   "cell_type": "markdown",
   "metadata": {
    "colab": {
     "base_uri": "https://localhost:8080/",
     "height": 34
    },
    "colab_type": "code",
    "id": "suOB-omVgXVn",
    "outputId": "4f081676-f9b6-4837-afd4-179b3e70fdda"
   },
   "source": [
    "## If-statements"
   ]
  },
  {
   "cell_type": "markdown",
   "metadata": {
    "colab": {
     "base_uri": "https://localhost:8080/",
     "height": 34
    },
    "colab_type": "code",
    "id": "suOB-omVgXVn",
    "outputId": "4f081676-f9b6-4837-afd4-179b3e70fdda"
   },
   "source": [
    "Sometimes, we want to do something only if a condition holds, and if it does not, we want to do something else. For example, Marta asked us to build a function to help her with the evaluation of this Python workshop:"
   ]
  },
  {
   "cell_type": "code",
   "execution_count": null,
   "metadata": {
    "colab": {
     "base_uri": "https://localhost:8080/",
     "height": 34
    },
    "colab_type": "code",
    "id": "suOB-omVgXVn",
    "outputId": "4f081676-f9b6-4837-afd4-179b3e70fdda"
   },
   "outputs": [],
   "source": [
    "def evaluate_python_workshop(score):\n",
    "    if score>7.5:\n",
    "        print('You rated this workshop with a ' + str(score) + '. Thanks for your feedback!')\n",
    "    else:\n",
    "        print('Sorry, it seems there was an issue processing your input. Please try again.')"
   ]
  },
  {
   "cell_type": "code",
   "execution_count": null,
   "metadata": {
    "colab": {
     "base_uri": "https://localhost:8080/",
     "height": 34
    },
    "colab_type": "code",
    "id": "suOB-omVgXVn",
    "outputId": "4f081676-f9b6-4837-afd4-179b3e70fdda"
   },
   "outputs": [],
   "source": [
    "evaluate_python_workshop(7)"
   ]
  },
  {
   "cell_type": "code",
   "execution_count": null,
   "metadata": {
    "colab": {
     "base_uri": "https://localhost:8080/",
     "height": 34
    },
    "colab_type": "code",
    "id": "suOB-omVgXVn",
    "outputId": "4f081676-f9b6-4837-afd4-179b3e70fdda",
    "scrolled": true
   },
   "outputs": [],
   "source": [
    "evaluate_python_workshop(9)"
   ]
  },
  {
   "cell_type": "markdown",
   "metadata": {
    "colab_type": "text",
    "id": "fwdVI3mFbFoT"
   },
   "source": [
    "# Exercises\n",
    "\n"
   ]
  },
  {
   "cell_type": "markdown",
   "metadata": {
    "colab_type": "text",
    "id": "FwJz3q7HaeZf"
   },
   "source": [
    "## Variables\n",
    "\n"
   ]
  },
  {
   "cell_type": "markdown",
   "metadata": {
    "colab_type": "text",
    "id": "jbWkaxU7bQ3t"
   },
   "source": [
    "1.   Create a variable called `x`, which should be equal to 5\n",
    "2.   Create a variable called `y` which should be equal to 7\n",
    "3.   Multiply `x` and `y`, and store the result in a variable called `z`.\n",
    "4.   Multiply `z` with three, and store the result back in `z`.\n",
    "5.   Print `z`."
   ]
  },
  {
   "cell_type": "code",
   "execution_count": null,
   "metadata": {
    "colab": {
     "base_uri": "https://localhost:8080/",
     "height": 34
    },
    "colab_type": "code",
    "id": "Z3jYAAsUa69L",
    "outputId": "e07c2076-3962-4dd5-be7d-1371a5e6b181"
   },
   "outputs": [],
   "source": [
    "# TODO: Your code goes here!"
   ]
  },
  {
   "cell_type": "code",
   "execution_count": null,
   "metadata": {
    "colab": {
     "base_uri": "https://localhost:8080/",
     "height": 52
    },
    "colab_type": "code",
    "id": "EyKAjnZ2bbqq",
    "outputId": "6001b1aa-c006-4ff7-bcc0-2de3e536399f"
   },
   "outputs": [],
   "source": [
    "# This checks your answer. Don't change!\n",
    "check_answer(0, my_answer = z)"
   ]
  },
  {
   "cell_type": "markdown",
   "metadata": {
    "colab_type": "text",
    "id": "fXbzFltmksAw"
   },
   "source": [
    "## For-loops"
   ]
  },
  {
   "cell_type": "markdown",
   "metadata": {
    "colab_type": "text",
    "id": "3PTF7_a0k4vk"
   },
   "source": [
    "Here is a list of numbers. Now try to modify the list by dividing all the numbers by 16."
   ]
  },
  {
   "cell_type": "code",
   "execution_count": null,
   "metadata": {
    "colab": {},
    "colab_type": "code",
    "id": "FUD9YqpjlGvL"
   },
   "outputs": [],
   "source": [
    "my_list = [16, 96, 32, 112, 48, 80, 128, 80, 48, 64, 80, 80, 64, 48, 64, 48, 80, 64, 96, 48, 48, 96, 80, 48]"
   ]
  },
  {
   "cell_type": "code",
   "execution_count": null,
   "metadata": {
    "colab": {},
    "colab_type": "code",
    "id": "FUD9YqpjlGvL"
   },
   "outputs": [],
   "source": [
    "# TODO: Your code goes here!"
   ]
  },
  {
   "cell_type": "code",
   "execution_count": null,
   "metadata": {
    "colab": {
     "base_uri": "https://localhost:8080/",
     "height": 52
    },
    "colab_type": "code",
    "id": "KJunrkcMlnmL",
    "outputId": "8a9871ce-3502-4255-9c44-2288313ded42"
   },
   "outputs": [],
   "source": [
    "# This checks your answer. Don't change!\n",
    "check_answer(1, my_answer = my_list[12])"
   ]
  },
  {
   "cell_type": "markdown",
   "metadata": {
    "colab_type": "text",
    "id": "j_7Vi76gnM1q"
   },
   "source": [
    "## Functions"
   ]
  },
  {
   "cell_type": "markdown",
   "metadata": {
    "colab_type": "text",
    "id": "t_eIv9svnQu6"
   },
   "source": [
    "Write a function `fiets_appender` that takes as input a string, and appends 'fiets' to that string. If `x` is a string, then you can append text to the string by simply doing `x + 'some text'`, for example:"
   ]
  },
  {
   "cell_type": "code",
   "execution_count": null,
   "metadata": {
    "colab": {
     "base_uri": "https://localhost:8080/",
     "height": 34
    },
    "colab_type": "code",
    "id": "VXCIATwKnLrm",
    "outputId": "d3faa833-e126-4710-838d-90c618b40564"
   },
   "outputs": [],
   "source": [
    "x = 'programming'\n",
    "y = x + ' is fun'\n",
    "print(y)"
   ]
  },
  {
   "cell_type": "code",
   "execution_count": null,
   "metadata": {
    "colab": {},
    "colab_type": "code",
    "id": "jO5ugDt2nxgk"
   },
   "outputs": [],
   "source": [
    "# TODO: Your code goes here!"
   ]
  },
  {
   "cell_type": "code",
   "execution_count": null,
   "metadata": {
    "colab": {
     "base_uri": "https://localhost:8080/",
     "height": 90
    },
    "colab_type": "code",
    "id": "vpQgWBU4n2up",
    "outputId": "27e6d7fd-2336-497b-e37e-0121a2f75043"
   },
   "outputs": [],
   "source": [
    "# This checks your answer. Don't change!\n",
    "print(fiets_appender('bak'))\n",
    "check_answer(2, my_answer = fiets_appender('bak'))"
   ]
  },
  {
   "cell_type": "markdown",
   "metadata": {
    "colab_type": "text",
    "id": "L1zey-6utXIn"
   },
   "source": [
    "# Code breaking"
   ]
  },
  {
   "cell_type": "markdown",
   "metadata": {
    "colab_type": "text",
    "id": "hqb5SqzeyCCA"
   },
   "source": [
    "While browing the internet, you came across a file that looks like gibberish. \n",
    "\n",
    "```\n",
    "y jgrrjc egpj emcq glrm y ncr qfmu ylb yqiq dmp y uyzzgr. rfc qfmn iccncp jmmiq bmul yr fcp, qkgjcq ylb qywq:\n",
    "\"umsjb wms jgic y jmtcjw djsddw jgrrjc ufgrc pyzzgr, mp y asrcqw ummrcqjw jgrrjc zpmul pyzzgr?\"\n",
    "\"yarsyjjw\", qywq rfc jgrrjc egpj, \"g bml'r rfgli kw nwrfml umsjb lmrgac.\"\n",
    "```\n",
    "Either someone let their cat walk on their keyboard, or it's an encrypted file. Only one way to find out!\n",
    "\n",
    "This file looks like it's encrypted with the so called **Ceasar Cipher**; encrpyting a message by shifting all letters in the alphabet by a fixed amount of positions. There is definitely no Ceasar Cipher decryptor on the internet. No, really, there is none. No need to Google it. \n",
    "\n",
    "...\n",
    "\n",
    "Okay, okay, there's plenty. Let's assume there isn't though, so we can enjoy the wonderful experience of programming one ourselves in Python!"
   ]
  },
  {
   "cell_type": "markdown",
   "metadata": {
    "colab_type": "text",
    "id": "iF6ryAxqx-6K"
   },
   "source": [
    "## Breaking down the problem"
   ]
  },
  {
   "cell_type": "markdown",
   "metadata": {
    "colab_type": "text",
    "id": "6C_FTIoM8I8W"
   },
   "source": [
    "Let's start by breaking our problem down into steps.\n",
    "\n",
    "\n",
    "1.   Create a function that shifts a letter by x positions in the alphabet\n",
    "2.   Create a function that applies the first function to all letters in a string\n",
    "3.   Apply our function to all letters in the code\n",
    "\n"
   ]
  },
  {
   "cell_type": "markdown",
   "metadata": {
    "colab_type": "text",
    "id": "Xs5sqo6OGSLc"
   },
   "source": [
    "## 1. Create a function that shifts a letter in the alphabet"
   ]
  },
  {
   "cell_type": "markdown",
   "metadata": {
    "colab_type": "text",
    "id": "kjJxpniTGsF6"
   },
   "source": [
    "Let's start with step 1! Basically, this can also be broken down into smaller steps.\n",
    "\n",
    "1.   Get as input a letter\n",
    "2.   Find that letter in the alphabet\n",
    "3.   Find the letter in the alphabet that is two positions further\n",
    "4.   Return that letter\n",
    "\n",
    "Let's start simple, by creating a function called `shift_letter()`, that takes as input a variable called `my_letter` and just returns that letter."
   ]
  },
  {
   "cell_type": "code",
   "execution_count": null,
   "metadata": {
    "colab": {},
    "colab_type": "code",
    "id": "JTn84stR9s90"
   },
   "outputs": [],
   "source": [
    "# TODO: Your code goes here!"
   ]
  },
  {
   "cell_type": "code",
   "execution_count": null,
   "metadata": {
    "colab": {
     "base_uri": "https://localhost:8080/",
     "height": 70
    },
    "colab_type": "code",
    "id": "t88510DuooXE",
    "outputId": "6149524e-ad3c-4a99-cc41-caaac1627b2f"
   },
   "outputs": [],
   "source": [
    "# This checks your answer. Don't change!\n",
    "print(shift_letter('c'))\n",
    "check_answer(3, my_answer = shift_letter('c'))"
   ]
  },
  {
   "cell_type": "markdown",
   "metadata": {
    "colab_type": "text",
    "id": "03FbB2fw94If"
   },
   "source": [
    "Okay! Now let's take it one step further. Let's improve the function, so it returns the index of my_letter in the alphabet, i.e. if our input is `c` it should return `3`. To do so:\n",
    "\n",
    "\n",
    "1. Define `alphabet`, which is a list of the letters in the alphabet in the right order. Hint; this can be done faster than by just typing it out, just Google `alphabet in python` and see what you find!\n",
    "\n",
    "2.   Then we need to find the index of `my_letter` in `alphabet`. To find the index of an element `x` in a list with the name `y`, do `x.index(y)`\n",
    "\n",
    "3. Store that value as `index` and return it!\n",
    "\n",
    " "
   ]
  },
  {
   "cell_type": "code",
   "execution_count": null,
   "metadata": {
    "colab": {},
    "colab_type": "code",
    "id": "sQPRYCoo-NQ2"
   },
   "outputs": [],
   "source": [
    "# TODO: Your code goes here!"
   ]
  },
  {
   "cell_type": "code",
   "execution_count": null,
   "metadata": {
    "colab": {
     "base_uri": "https://localhost:8080/",
     "height": 70
    },
    "colab_type": "code",
    "id": "PYGLMuxao2w5",
    "outputId": "4a1fe870-0fb8-42bc-c1fb-ce9fe38ca3c3"
   },
   "outputs": [],
   "source": [
    "# This checks your answer. Don't change!\n",
    "print(shift_letter('f'))\n",
    "check_answer(4, my_answer = shift_letter('f'))"
   ]
  },
  {
   "cell_type": "markdown",
   "metadata": {
    "colab_type": "text",
    "id": "Wls2B6pn_jpK"
   },
   "source": [
    "Now, what we want to do is find the index of the letter that we want to return. So if we want to shift all letters by `2` in our Caesar Cipher, we'd have to get the letter from the alphabet at position `index + 2`. Let's make our function a bit more flexible though, and give the user the option to pass the desired shift as an argument called `shift`. So for now, adapt the function so `new_shift` is calculated as `index + shift`, and return that value."
   ]
  },
  {
   "cell_type": "code",
   "execution_count": null,
   "metadata": {
    "colab": {},
    "colab_type": "code",
    "id": "Th8sMDlyAUyG"
   },
   "outputs": [],
   "source": [
    "# TODO: Your code goes here!"
   ]
  },
  {
   "cell_type": "code",
   "execution_count": null,
   "metadata": {
    "colab": {
     "base_uri": "https://localhost:8080/",
     "height": 70
    },
    "colab_type": "code",
    "id": "u4u2tMW_o-WM",
    "outputId": "7f6c836e-fdc0-4c00-c254-4b249ffde2c1"
   },
   "outputs": [],
   "source": [
    "# This checks your answer. Don't change!\n",
    "print(shift_letter('c',4))\n",
    "check_answer(5, my_answer = shift_letter('c',4))"
   ]
  },
  {
   "cell_type": "markdown",
   "metadata": {
    "colab_type": "text",
    "id": "Ua1hEaUb_Itb"
   },
   "source": [
    "We're almost there it seems. Now all we need to do is return the right letter! We have already seen earlier how we can take the `n'th` element of a list. In this case, we want to get the `index`'th letter of the list `alphabet`. Let's call that `new_letter` and return it."
   ]
  },
  {
   "cell_type": "code",
   "execution_count": null,
   "metadata": {
    "colab": {},
    "colab_type": "code",
    "id": "uLJgSQV_4r7g"
   },
   "outputs": [],
   "source": [
    "# TODO: Your code goes here!"
   ]
  },
  {
   "cell_type": "code",
   "execution_count": null,
   "metadata": {
    "colab": {
     "base_uri": "https://localhost:8080/",
     "height": 52
    },
    "colab_type": "code",
    "id": "CTlM4lDV6c9c",
    "outputId": "8a204339-9caa-47bf-d882-a1d3747d4f71"
   },
   "outputs": [],
   "source": [
    "# This checks your answer. Don't change!\n",
    "shift_letter('d',3)\n",
    "check_answer(6, my_answer = shift_letter('d',3))"
   ]
  },
  {
   "cell_type": "code",
   "execution_count": null,
   "metadata": {
    "colab": {
     "base_uri": "https://localhost:8080/",
     "height": 274
    },
    "colab_type": "code",
    "id": "dC9Nf5NJ60HR",
    "outputId": "44dfff7c-050a-48a4-e0d8-49b4159dceeb"
   },
   "outputs": [],
   "source": [
    "# This should give an error!\n",
    "shift_letter('z',2)"
   ]
  },
  {
   "cell_type": "markdown",
   "metadata": {
    "colab_type": "text",
    "id": "qOjLcVA8Bftk"
   },
   "source": [
    "Oops! Seems that we forgot something. If the user enters the letter `z` and shift `2`, our function will try to find the `28`'th letter of the alphabet. We should use the modulo operator (`%`) for this, which returns the remainder after divsion;\n",
    "\n",
    "*   `4 % 26` -> 4, because 4 is smaller than 26, so after division we are left with 2.\n",
    "*   `28 % 26` -> 2, because 26 fits in 28 once, and then we are left with 2.\n",
    "*   `10 % 4` -> 2, because 4 fits in 10 twice, and then we are left with 2.\n",
    "\n",
    "See if you can apply this to our function. Hint: Make a change in the line where `new_index` is calculated, and don't forget the use of brackets!\n",
    "\n"
   ]
  },
  {
   "cell_type": "code",
   "execution_count": null,
   "metadata": {
    "colab": {},
    "colab_type": "code",
    "id": "0vSsoE5R64n5"
   },
   "outputs": [],
   "source": [
    "# TODO: Your code goes here!"
   ]
  },
  {
   "cell_type": "code",
   "execution_count": null,
   "metadata": {
    "colab": {
     "base_uri": "https://localhost:8080/",
     "height": 52
    },
    "colab_type": "code",
    "id": "m9Zw7Qys7AR_",
    "outputId": "7b74c1bf-80e2-4dd6-8dcb-340bf6737f24"
   },
   "outputs": [],
   "source": [
    "# This checks your answer. Don't change!\n",
    "shift_letter('z',3)\n",
    "check_answer(7, my_answer = shift_letter('z',3))"
   ]
  },
  {
   "cell_type": "code",
   "execution_count": null,
   "metadata": {
    "colab": {
     "base_uri": "https://localhost:8080/",
     "height": 292
    },
    "colab_type": "code",
    "id": "2ccNVToe7ESx",
    "outputId": "e01f726f-d05e-4b4a-dcb2-d7fc9cc1b05d"
   },
   "outputs": [],
   "source": [
    "# This should give an error!\n",
    "shift_letter(',',2)"
   ]
  },
  {
   "cell_type": "markdown",
   "metadata": {
    "colab_type": "text",
    "id": "FMDiUJMLDByQ"
   },
   "source": [
    "Oh no! One more problem. If the user enters a character that's not in the alphabet, our function breaks down. We can fix this with an `if-else` statement.\n",
    "\n",
    "```\n",
    "def shift_letter(my_letter,shift):\n",
    "  alphabet = list(string.ascii_lowercase)\n",
    "  if my_letter in alphabet:\n",
    "    # Find the right letter in the alphabet\n",
    "  else:\n",
    "    # just return the character that was given as input\n",
    "```\n",
    "\n"
   ]
  },
  {
   "cell_type": "code",
   "execution_count": null,
   "metadata": {
    "colab": {},
    "colab_type": "code",
    "id": "9zU9RIR65kYx"
   },
   "outputs": [],
   "source": [
    "# TODO: Your code goes here!"
   ]
  },
  {
   "cell_type": "code",
   "execution_count": null,
   "metadata": {
    "colab": {
     "base_uri": "https://localhost:8080/",
     "height": 34
    },
    "colab_type": "code",
    "id": "S9LQrgcAF-aE",
    "outputId": "865040d4-1f59-47a0-ec2b-e4c461eff520"
   },
   "outputs": [],
   "source": [
    "shift_letter(',',2)"
   ]
  },
  {
   "cell_type": "code",
   "execution_count": null,
   "metadata": {
    "colab": {
     "base_uri": "https://localhost:8080/",
     "height": 34
    },
    "colab_type": "code",
    "id": "hEM51pcOF_Rp",
    "outputId": "9d89abe8-bf66-442c-a3a9-e69d9e35af8c"
   },
   "outputs": [],
   "source": [
    "shift_letter('a',3)"
   ]
  },
  {
   "cell_type": "code",
   "execution_count": null,
   "metadata": {
    "colab": {
     "base_uri": "https://localhost:8080/",
     "height": 34
    },
    "colab_type": "code",
    "id": "pTy233zDF_qp",
    "outputId": "f6b1b3ba-e880-489a-dc33-d45d2119275d"
   },
   "outputs": [],
   "source": [
    "shift_letter('x',3)"
   ]
  },
  {
   "cell_type": "markdown",
   "metadata": {
    "colab_type": "text",
    "id": "yGIwxz8Frsc5"
   },
   "source": [
    "If the three cells above returned `,`, `d`, and `a`, respectively; awesome! You got the first and most crucial part of our decryptor finished. Now let's move on. \n",
    "\n",
    "\n",
    "\n",
    "```\n",
    "if there is still enough time left:\n",
    "  go to the next section\n",
    "else:\n",
    "  skip the next section and go to \"Apply our function to the super-secret code\"\n",
    "```\n",
    "\n",
    "\n"
   ]
  },
  {
   "cell_type": "markdown",
   "metadata": {
    "colab_type": "text",
    "id": "Pii5wCQ9GFlp"
   },
   "source": [
    "## 2. Create a function that applies our shift_letter function to an entire sring"
   ]
  },
  {
   "cell_type": "markdown",
   "metadata": {
    "colab_type": "text",
    "id": "2iYAZNFVO2jL"
   },
   "source": [
    "Time to create a function `decode_string(my_string, shift)`, that shifts all letters in a string using the function we created earlier. There are multiple ways to do this. Pseudocode for a possible solution using the tools we acquired already is given below, you can use that as a guideline on how to set up your function if you want. You could also look up [lambda functions](https://www.w3schools.com/python/python_lambda.asp) online and see if you can find a shorter way to do it.\n",
    "\n",
    "```\n",
    "def decode_string(my_string, shift):\n",
    "  # convert the string to a list of characters.\n",
    "  for i in ???: # loop over the created list of characters \n",
    "    my_string_as_list[i] = ... # shift the i'the element of the list, using our function that we created earlier.\n",
    "  # convert the list of characters back to a string.\n",
    "  # return the new string\n",
    "```"
   ]
  },
  {
   "cell_type": "code",
   "execution_count": null,
   "metadata": {
    "colab": {},
    "colab_type": "code",
    "id": "A7wdDy5oPS3E"
   },
   "outputs": [],
   "source": [
    "# TODO: Your code goes here!"
   ]
  },
  {
   "cell_type": "markdown",
   "metadata": {
    "colab_type": "text",
    "id": "6pE7dQupVDdv"
   },
   "source": [
    "## 3. Apply our function to the super-secret code"
   ]
  },
  {
   "cell_type": "markdown",
   "metadata": {
    "colab_type": "text",
    "id": "NlAFxD5cKIWE"
   },
   "source": [
    "Alright! Now we just need to apply our function to every element of the super-secret code. Let's first store the super-secret code in a variable:\n",
    "\n",
    "\n"
   ]
  },
  {
   "cell_type": "code",
   "execution_count": null,
   "metadata": {
    "colab": {},
    "colab_type": "code",
    "id": "6owUSQ9oOzUA"
   },
   "outputs": [],
   "source": [
    "super_secret_code = '''\n",
    "y jgrrjc egpj emcq glrm y ncr qfmu ylb yqiq dmp y uyzzgr. rfc qfmn iccncp jmmiq bmul yr fcp, qkgjcq ylb qywq:\n",
    "\"umsjb wms jgic y jmtcjw djsddw jgrrjc ufgrc pyzzgr, mp y asrcqw ummrcqjw jgrrjc zpmul pyzzgr?\"\n",
    "\"yarsyjjw\", qywq rfc jgrrjc egpj, \"g bml'r rfgli kw nwrfml umsjb lmrgac.\"\n",
    "'''"
   ]
  },
  {
   "cell_type": "markdown",
   "metadata": {
    "colab_type": "text",
    "id": "NMHDr0ywV9l4"
   },
   "source": [
    "In case you did not have enough time to write your own decode_string function; here is a possible solution. Note that for the decode_string function, I used [lambda functions](https://www.w3schools.com/python/python_lambda.asp), so it's a bit shorter than the pseudocode that was outlined in the previous section."
   ]
  },
  {
   "cell_type": "code",
   "execution_count": null,
   "metadata": {
    "colab": {},
    "colab_type": "code",
    "id": "28A7E21SVp6t"
   },
   "outputs": [],
   "source": [
    "import string\n",
    "\n",
    "def decode_string(my_string, shift):\n",
    "    return ''.join([shift_letter(x,shift) for x in my_string])"
   ]
  },
  {
   "cell_type": "code",
   "execution_count": null,
   "metadata": {
    "colab": {
     "base_uri": "https://localhost:8080/",
     "height": 105
    },
    "colab_type": "code",
    "id": "-T9jwsDAL2Dt",
    "outputId": "0f36605a-94c7-4c05-c3cf-1ff7a317bef3"
   },
   "outputs": [],
   "source": [
    "print(decode_string(super_secret_code, shift = 2))"
   ]
  },
  {
   "cell_type": "code",
   "execution_count": null,
   "metadata": {},
   "outputs": [],
   "source": [
    "decode_string('Ajj rfgq umpi dmp y qrsngb Pwrfml hmic. Hmncdsjjw rfc lcvr nypr ugjj zc zcrrcp.', shift = 2)"
   ]
  },
  {
   "cell_type": "code",
   "execution_count": null,
   "metadata": {},
   "outputs": [],
   "source": []
  }
 ],
 "metadata": {
  "colab": {
   "include_colab_link": true,
   "name": "Untitled1.ipynb",
   "provenance": []
  },
  "kernelspec": {
   "display_name": "Python 3",
   "language": "python",
   "name": "python3"
  },
  "language_info": {
   "codemirror_mode": {
    "name": "ipython",
    "version": 3
   },
   "file_extension": ".py",
   "mimetype": "text/x-python",
   "name": "python",
   "nbconvert_exporter": "python",
   "pygments_lexer": "ipython3",
   "version": "3.7.5"
  }
 },
 "nbformat": 4,
 "nbformat_minor": 1
}
