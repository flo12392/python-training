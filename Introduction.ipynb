{
  "nbformat": 4,
  "nbformat_minor": 0,
  "metadata": {
    "colab": {
      "name": "Untitled1.ipynb",
      "provenance": [],
      "include_colab_link": true
    },
    "kernelspec": {
      "name": "python3",
      "display_name": "Python 3"
    }
  },
  "cells": [
    {
      "cell_type": "markdown",
      "metadata": {
        "id": "view-in-github",
        "colab_type": "text"
      },
      "source": [
        "<a href=\"https://colab.research.google.com/github/flo12392/python-training/blob/master/Introduction.ipynb\" target=\"_parent\"><img src=\"https://colab.research.google.com/assets/colab-badge.svg\" alt=\"Open In Colab\"/></a>"
      ]
    },
    {
      "cell_type": "code",
      "metadata": {
        "id": "3q1flKgr7Sel",
        "colab_type": "code",
        "colab": {}
      },
      "source": [
        ""
      ],
      "execution_count": 0,
      "outputs": []
    },
    {
      "cell_type": "markdown",
      "metadata": {
        "id": "O064ln8ltZ2k",
        "colab_type": "text"
      },
      "source": [
        "# Introduction"
      ]
    },
    {
      "cell_type": "markdown",
      "metadata": {
        "id": "Dlq-eXLPZT2R",
        "colab_type": "text"
      },
      "source": [
        "## Variables "
      ]
    },
    {
      "cell_type": "markdown",
      "metadata": {
        "id": "4CdoMJ5dHCdw",
        "colab_type": "text"
      },
      "source": [
        "\n",
        "Python is dynamically-typed. This means that we do not need to define the type of a variable at run time."
      ]
    },
    {
      "cell_type": "code",
      "metadata": {
        "id": "KA4mK9ygaIAu",
        "colab_type": "code",
        "colab": {}
      },
      "source": [
        "x = 42"
      ],
      "execution_count": 0,
      "outputs": []
    },
    {
      "cell_type": "code",
      "metadata": {
        "id": "YxbYmIHeac61",
        "colab_type": "code",
        "colab": {}
      },
      "source": [
        "print(type(x))"
      ],
      "execution_count": 0,
      "outputs": []
    },
    {
      "cell_type": "code",
      "metadata": {
        "id": "BDMlwFrTaMWf",
        "colab_type": "code",
        "colab": {}
      },
      "source": [
        "y = 'VodafoneZiggo'"
      ],
      "execution_count": 0,
      "outputs": []
    },
    {
      "cell_type": "code",
      "metadata": {
        "id": "BhwmDAMLaTIU",
        "colab_type": "code",
        "colab": {}
      },
      "source": [
        "print(type(y))"
      ],
      "execution_count": 0,
      "outputs": []
    },
    {
      "cell_type": "markdown",
      "metadata": {
        "id": "BEJucMFFqn5l",
        "colab_type": "text"
      },
      "source": [
        "Python is superpowerful. It can do basic arithmetics. Try adding a number to x. For example \n",
        "\n",
        "```\n",
        "x + 2\n",
        "x - 2\n",
        "x / 2\n",
        "x * 2\n",
        "```\n",
        "\n"
      ]
    },
    {
      "cell_type": "code",
      "metadata": {
        "id": "znb-xFHuroMf",
        "colab_type": "code",
        "colab": {}
      },
      "source": [
        "# TODO: create a variable\n",
        "# TODO: Multiply the variable with three"
      ],
      "execution_count": 0,
      "outputs": []
    },
    {
      "cell_type": "markdown",
      "metadata": {
        "id": "5GD92bIZrdpZ",
        "colab_type": "text"
      },
      "source": [
        "Note that x itself has not changed, which we can check by doing\n",
        "\n",
        "\n",
        "```\n",
        "print(x)\n",
        "```\n",
        "\n",
        "Try it out!\n"
      ]
    },
    {
      "cell_type": "code",
      "metadata": {
        "id": "oSoDtCOEq2xd",
        "colab_type": "code",
        "colab": {}
      },
      "source": [
        "print(x)"
      ],
      "execution_count": 0,
      "outputs": []
    },
    {
      "cell_type": "markdown",
      "metadata": {
        "id": "Yi0rVNYMrv-3",
        "colab_type": "text"
      },
      "source": [
        "If we want to change the value of x, we have to assign the value back, for example: \n",
        "\n",
        "```\n",
        "x = 2\n",
        "y = 3\n",
        "x = x + y\n",
        "```\n",
        "\n",
        "What do you think would happen if we print the value of x now? Try it out!"
      ]
    },
    {
      "cell_type": "code",
      "metadata": {
        "id": "uNEH6kUTr4pn",
        "colab_type": "code",
        "colab": {}
      },
      "source": [
        "x = 2\n",
        "y = 3\n",
        "x = x + y\n",
        "print(x)"
      ],
      "execution_count": 0,
      "outputs": []
    },
    {
      "cell_type": "markdown",
      "metadata": {
        "id": "cCqTzB9oHAG9",
        "colab_type": "text"
      },
      "source": [
        ""
      ]
    },
    {
      "cell_type": "markdown",
      "metadata": {
        "id": "kgYzRZdYp2k3",
        "colab_type": "text"
      },
      "source": [
        "## Lists"
      ]
    },
    {
      "cell_type": "markdown",
      "metadata": {
        "id": "IbIY8jYlG96m",
        "colab_type": "text"
      },
      "source": [
        "We can also make lists of things. For example:\n",
        "\n",
        "```\n",
        "my_ocd = [1,2,3,4,6,5,7,8]\n",
        "my_favourite_yammer_hashtags = ['#openup','#teamup','#stepup']\n",
        "```\n",
        "\n",
        "\n",
        "Now, create your own list:"
      ]
    },
    {
      "cell_type": "code",
      "metadata": {
        "id": "-pK353Nq0a7x",
        "colab_type": "code",
        "colab": {}
      },
      "source": [
        "# TODO: Create a list here called my_list with three elements."
      ],
      "execution_count": 0,
      "outputs": []
    },
    {
      "cell_type": "markdown",
      "metadata": {
        "id": "xUqXgpwqqade",
        "colab_type": "text"
      },
      "source": [
        "We can add stuff to the list by using `.append()`. Try adding something and then print the list, for example:\n",
        "\n",
        "\n",
        "```\n",
        "my_favourite_yammer_hashtags.append('#kerstpakket')\n",
        "print(my_favourite_yammer_hashtags)\n",
        "```\n",
        "Note that in this case, `append` mutates the list, so you do not need to do\n",
        "\n",
        "```\n",
        "my_favourite_yammer_hashtags = my_favourite_yammer_hashtags.append('...')\n",
        "```\n",
        "\n",
        " \n"
      ]
    },
    {
      "cell_type": "code",
      "metadata": {
        "id": "6TGy9HtR0QTq",
        "colab_type": "code",
        "colab": {}
      },
      "source": [
        "# TODO: Add something to the list here!\n",
        "# TODO: Print your list"
      ],
      "execution_count": 0,
      "outputs": []
    },
    {
      "cell_type": "markdown",
      "metadata": {
        "id": "QJWv4YZ5sg1d",
        "colab_type": "text"
      },
      "source": [
        "We can extract the elements of a list with `[]`. Note that in python, indexing begins at `0`. So to extract the first element of a list called `x`, you could do:\n",
        "\n",
        "\n",
        "```\n",
        "x[0]\n",
        "```\n",
        "\n",
        "If you want to get the second element, use `x[1]`, etc. \n",
        "\n",
        "Try it out!\n"
      ]
    },
    {
      "cell_type": "code",
      "metadata": {
        "id": "JF5MwgW8dkMb",
        "colab_type": "code",
        "colab": {}
      },
      "source": [
        "# TODO: Get an element of your list by using []"
      ],
      "execution_count": 0,
      "outputs": []
    },
    {
      "cell_type": "markdown",
      "metadata": {
        "id": "DcZm9PmD0HqI",
        "colab_type": "text"
      },
      "source": [
        "## Functions"
      ]
    },
    {
      "cell_type": "markdown",
      "metadata": {
        "id": "L1zey-6utXIn",
        "colab_type": "text"
      },
      "source": [
        "# Code breaking"
      ]
    },
    {
      "cell_type": "markdown",
      "metadata": {
        "id": "hqb5SqzeyCCA",
        "colab_type": "text"
      },
      "source": [
        "While browing the internet, you came across a file that looks like gibberish. Either someone let their cat walk on their keyboard, or it's an encrypted file. Only one way to find out!\n",
        "\n",
        "One of the most common encryptions is the so called **Ceasar Cipher**; encrpyting a message by shifting all letters in the alphabet by a fixed amount of positions. There is definitely no Ceasar Cipher decryptor on the internet. No, really, there is none. No need to Google it. \n",
        "\n",
        "...\n",
        "\n",
        "Okay, okay, there's plenty. Let's assume there isn't though, so we can enjoy the wonderful experience of programming one ourselves in Python!"
      ]
    },
    {
      "cell_type": "markdown",
      "metadata": {
        "id": "iF6ryAxqx-6K",
        "colab_type": "text"
      },
      "source": [
        "## Breaking down the problem"
      ]
    },
    {
      "cell_type": "markdown",
      "metadata": {
        "id": "bRbUIKrL2yng",
        "colab_type": "text"
      },
      "source": [
        "The code we encountered was:\n",
        "\n",
        "```\n",
        "'\"yjuywq ambc yq gd rfc esw ufm clbq sn kyglryglgle wmsp ambc ugjj zc y tgmjclr nqwafmnyrf ufm ilmuq ufcpc wms jgtc.\" - kyprgl emjbgle'\n",
        "```"
      ]
    },
    {
      "cell_type": "markdown",
      "metadata": {
        "id": "6C_FTIoM8I8W",
        "colab_type": "text"
      },
      "source": [
        "Let's start by breaking our problem down into steps.\n",
        "\n",
        "\n",
        "1.   Create a function that shifts a letter by x positions in the alphabet\n",
        "2.   Create a function that applies the first function to all letters in a string\n",
        "3.   Apply our function to all letters in the code\n",
        "\n"
      ]
    },
    {
      "cell_type": "markdown",
      "metadata": {
        "id": "Xs5sqo6OGSLc",
        "colab_type": "text"
      },
      "source": [
        "## 1. Create a function that shifts a letter in the alphabet"
      ]
    },
    {
      "cell_type": "markdown",
      "metadata": {
        "id": "kjJxpniTGsF6",
        "colab_type": "text"
      },
      "source": [
        "Let's start with step 1! Basically, this can also be broken down into smaller steps.\n",
        "\n",
        "1.   Get as input a letter\n",
        "2.   Find that letter in the alphabet\n",
        "3.   Find the letter in the alphabet that is two positions further\n",
        "4.   Return that letter\n",
        "\n",
        "Let's start simple, by creating a function called `shift_letter()`, that takes as input a variable called `my_letter` and just returns that letter."
      ]
    },
    {
      "cell_type": "code",
      "metadata": {
        "id": "JTn84stR9s90",
        "colab_type": "code",
        "colab": {}
      },
      "source": [
        "def shift_letter(my_letter):\n",
        "  return my_letter"
      ],
      "execution_count": 0,
      "outputs": []
    },
    {
      "cell_type": "markdown",
      "metadata": {
        "id": "03FbB2fw94If",
        "colab_type": "text"
      },
      "source": [
        "Okay! Now let's take it one step further. Let's improve the function, so it returns the index of my_letter in the alphabet, i.e. if our input is `c` it should return `3`. To do so:\n",
        "\n",
        "\n",
        "1. Define `alphabet`, which is a list of the letters in the alphabet in the right order. Hint; this can be done faster than by just typing it out, just Google `alphabet in python` and see what you find!\n",
        "\n",
        "2.   Then we need to find the index of `my_letter` in `alphabet`. To find the index of an element `x` in a list with the name `y`, do `x.index(y)`\n",
        "\n",
        "3. Store that value as `index` and return it!\n",
        "\n",
        " "
      ]
    },
    {
      "cell_type": "code",
      "metadata": {
        "id": "sQPRYCoo-NQ2",
        "colab_type": "code",
        "colab": {}
      },
      "source": [
        "import string\n",
        "\n",
        "def shift_letter(my_letter):\n",
        "  alphabet = list(string.ascii_lowercase)\n",
        "  index = alphabet.index(my_letter)\n",
        "  return index"
      ],
      "execution_count": 0,
      "outputs": []
    },
    {
      "cell_type": "markdown",
      "metadata": {
        "id": "Wls2B6pn_jpK",
        "colab_type": "text"
      },
      "source": [
        "Now, what we want to do is find the index of the letter that we want to return. So if we want to shift all letters by `2` in our Caesar Cipher, we'd have to get the letter from the alphabet at position `index + 2`. Let's make our function a bit more flexible though, and give the user the option to pass the desired shift as an argument called `shift`. So for now, adapt the function so `new_shift` is calculated as `index + shift`, and return that value."
      ]
    },
    {
      "cell_type": "code",
      "metadata": {
        "id": "Th8sMDlyAUyG",
        "colab_type": "code",
        "colab": {}
      },
      "source": [
        "def shift_letter(my_letter,shift = 2):\n",
        "  alphabet = list(string.ascii_lowercase)\n",
        "  index = alphabet.index(my_letter)\n",
        "  new_index = index + shift\n",
        "  return new_index"
      ],
      "execution_count": 0,
      "outputs": []
    },
    {
      "cell_type": "markdown",
      "metadata": {
        "id": "Ua1hEaUb_Itb",
        "colab_type": "text"
      },
      "source": [
        "We're almost there it seems. Now all we need to do is return the right letter! We have already seen earlier how we can take the `n'th` element of a list. In this case, we want to get the `index`'th letter of the list `alphabet`. Let's call that `new_letter` and return it."
      ]
    },
    {
      "cell_type": "code",
      "metadata": {
        "id": "uLJgSQV_4r7g",
        "colab_type": "code",
        "colab": {}
      },
      "source": [
        "def shift_letter(my_letter,shift = 2):\n",
        "  alphabet = list(string.ascii_lowercase)\n",
        "  index = alphabet.index(my_letter)\n",
        "  new_index = index + shift\n",
        "  new_letter = alphabet[new_index]\n",
        "  return new_letter"
      ],
      "execution_count": 0,
      "outputs": []
    },
    {
      "cell_type": "code",
      "metadata": {
        "id": "CTlM4lDV6c9c",
        "colab_type": "code",
        "outputId": "019fc73f-63d7-49a4-dbd1-3187c83d7277",
        "colab": {
          "base_uri": "https://localhost:8080/",
          "height": 0
        }
      },
      "source": [
        "shift_letter('a',2)"
      ],
      "execution_count": 28,
      "outputs": [
        {
          "output_type": "execute_result",
          "data": {
            "text/plain": [
              "'c'"
            ]
          },
          "metadata": {
            "tags": []
          },
          "execution_count": 28
        }
      ]
    },
    {
      "cell_type": "code",
      "metadata": {
        "id": "dC9Nf5NJ60HR",
        "colab_type": "code",
        "outputId": "7567a32c-3cc8-41ea-9d92-ee95e096c703",
        "colab": {
          "base_uri": "https://localhost:8080/",
          "height": 0
        }
      },
      "source": [
        "shift_letter('z',2)"
      ],
      "execution_count": 29,
      "outputs": [
        {
          "output_type": "error",
          "ename": "IndexError",
          "evalue": "ignored",
          "traceback": [
            "\u001b[0;31m---------------------------------------------------------------------------\u001b[0m",
            "\u001b[0;31mIndexError\u001b[0m                                Traceback (most recent call last)",
            "\u001b[0;32m<ipython-input-29-1664c58a3a3a>\u001b[0m in \u001b[0;36m<module>\u001b[0;34m()\u001b[0m\n\u001b[0;32m----> 1\u001b[0;31m \u001b[0mshift_letter\u001b[0m\u001b[0;34m(\u001b[0m\u001b[0;34m'z'\u001b[0m\u001b[0;34m,\u001b[0m\u001b[0;36m2\u001b[0m\u001b[0;34m)\u001b[0m\u001b[0;34m\u001b[0m\u001b[0;34m\u001b[0m\u001b[0m\n\u001b[0m",
            "\u001b[0;32m<ipython-input-27-e128a548ca3d>\u001b[0m in \u001b[0;36mshift_letter\u001b[0;34m(my_letter, shift)\u001b[0m\n\u001b[1;32m      3\u001b[0m   \u001b[0mindex\u001b[0m \u001b[0;34m=\u001b[0m \u001b[0malphabet\u001b[0m\u001b[0;34m.\u001b[0m\u001b[0mindex\u001b[0m\u001b[0;34m(\u001b[0m\u001b[0mmy_letter\u001b[0m\u001b[0;34m)\u001b[0m\u001b[0;34m\u001b[0m\u001b[0;34m\u001b[0m\u001b[0m\n\u001b[1;32m      4\u001b[0m   \u001b[0mnew_index\u001b[0m \u001b[0;34m=\u001b[0m \u001b[0mindex\u001b[0m \u001b[0;34m+\u001b[0m \u001b[0mshift\u001b[0m\u001b[0;34m\u001b[0m\u001b[0;34m\u001b[0m\u001b[0m\n\u001b[0;32m----> 5\u001b[0;31m   \u001b[0mnew_letter\u001b[0m \u001b[0;34m=\u001b[0m \u001b[0malphabet\u001b[0m\u001b[0;34m[\u001b[0m\u001b[0mnew_index\u001b[0m\u001b[0;34m]\u001b[0m\u001b[0;34m\u001b[0m\u001b[0;34m\u001b[0m\u001b[0m\n\u001b[0m\u001b[1;32m      6\u001b[0m   \u001b[0;32mreturn\u001b[0m \u001b[0mnew_letter\u001b[0m\u001b[0;34m\u001b[0m\u001b[0;34m\u001b[0m\u001b[0m\n",
            "\u001b[0;31mIndexError\u001b[0m: list index out of range"
          ]
        }
      ]
    },
    {
      "cell_type": "markdown",
      "metadata": {
        "id": "qOjLcVA8Bftk",
        "colab_type": "text"
      },
      "source": [
        "Oops! Seems that we forgot something. If the user enters the letter `z` and shift `2`, our function will try to find the `28`'th letter of the alphabet. We should use the modulo operator (`%`) for this, which returns the remainder after divsion;\n",
        "\n",
        "*   `4 % 26` -> 4, because 4 is smaller than 26, so after division we are left with 2.\n",
        "*   `28 % 26` -> 2, because 26 fits in 28 once, and then we are left with 2.\n",
        "*   `10 % 4` -> 2, because 4 fits in 10 twice, and then we are left with 2.\n",
        "\n",
        "See if you can apply this to our function. Hint: Make a change in the line where `new_index` is calculated, and don't forget the use of brackets!\n",
        "\n"
      ]
    },
    {
      "cell_type": "code",
      "metadata": {
        "id": "0vSsoE5R64n5",
        "colab_type": "code",
        "colab": {}
      },
      "source": [
        "def shift_letter(my_letter,shift = 2):\n",
        "  alphabet = list(string.ascii_lowercase)\n",
        "  index = alphabet.index(my_letter)\n",
        "  new_index = (index + shift) % 26\n",
        "  new_letter = alphabet[new_index]\n",
        "  return new_letter"
      ],
      "execution_count": 0,
      "outputs": []
    },
    {
      "cell_type": "code",
      "metadata": {
        "id": "m9Zw7Qys7AR_",
        "colab_type": "code",
        "colab": {}
      },
      "source": [
        "shift_letter('z',2)"
      ],
      "execution_count": 0,
      "outputs": []
    },
    {
      "cell_type": "code",
      "metadata": {
        "id": "2ccNVToe7ESx",
        "colab_type": "code",
        "colab": {}
      },
      "source": [
        "shift_letter(',',2)"
      ],
      "execution_count": 0,
      "outputs": []
    },
    {
      "cell_type": "markdown",
      "metadata": {
        "id": "FMDiUJMLDByQ",
        "colab_type": "text"
      },
      "source": [
        "Oh no! One more problem. If the user enters a character that's not in the alphabet, our function breaks down. We can fix this with an `if-else` statement.\n",
        "\n",
        "```\n",
        "def shift_letter(my_letter,shift = 2):\n",
        "  alphabet = list(string.ascii_lowercase)\n",
        "  if my_letter in alphabet:\n",
        "    # Find the right letter in the alphabet\n",
        "  else:\n",
        "    # just return the caharcter that was given as input\n",
        "```\n",
        "\n"
      ]
    },
    {
      "cell_type": "code",
      "metadata": {
        "id": "9zU9RIR65kYx",
        "colab_type": "code",
        "colab": {}
      },
      "source": [
        "def shift_letter(my_letter,shift = 2):\n",
        "  alphabet = list(string.ascii_lowercase)\n",
        "  if my_letter in alphabet:\n",
        "    index = alphabet.index(my_letter)\n",
        "    new_index = (index + shift) % 26\n",
        "    new_letter = alphabet[new_index]\n",
        "    return new_letter\n",
        "  else:\n",
        "    return my_letter"
      ],
      "execution_count": 0,
      "outputs": []
    },
    {
      "cell_type": "code",
      "metadata": {
        "id": "S9LQrgcAF-aE",
        "colab_type": "code",
        "colab": {
          "base_uri": "https://localhost:8080/",
          "height": 0
        },
        "outputId": "897d45fb-f49d-40f9-8de9-3147f87bcd9c"
      },
      "source": [
        "shift_letter(',',2)"
      ],
      "execution_count": 34,
      "outputs": [
        {
          "output_type": "execute_result",
          "data": {
            "text/plain": [
              "','"
            ]
          },
          "metadata": {
            "tags": []
          },
          "execution_count": 34
        }
      ]
    },
    {
      "cell_type": "code",
      "metadata": {
        "id": "hEM51pcOF_Rp",
        "colab_type": "code",
        "colab": {
          "base_uri": "https://localhost:8080/",
          "height": 0
        },
        "outputId": "d985a237-fa61-43a9-dae8-bba9f68665c4"
      },
      "source": [
        "shift_letter('a',3)"
      ],
      "execution_count": 35,
      "outputs": [
        {
          "output_type": "execute_result",
          "data": {
            "text/plain": [
              "'d'"
            ]
          },
          "metadata": {
            "tags": []
          },
          "execution_count": 35
        }
      ]
    },
    {
      "cell_type": "code",
      "metadata": {
        "id": "pTy233zDF_qp",
        "colab_type": "code",
        "colab": {
          "base_uri": "https://localhost:8080/",
          "height": 0
        },
        "outputId": "d7714c62-878a-40f8-f6f1-53cb9433f1b8"
      },
      "source": [
        "shift_letter('x',3)"
      ],
      "execution_count": 36,
      "outputs": [
        {
          "output_type": "execute_result",
          "data": {
            "text/plain": [
              "'a'"
            ]
          },
          "metadata": {
            "tags": []
          },
          "execution_count": 36
        }
      ]
    },
    {
      "cell_type": "markdown",
      "metadata": {
        "id": "kXn9Dxr1GqDF",
        "colab_type": "text"
      },
      "source": [
        ""
      ]
    },
    {
      "cell_type": "markdown",
      "metadata": {
        "id": "Pii5wCQ9GFlp",
        "colab_type": "text"
      },
      "source": [
        "## 2. Create a function that applies our shift_letter function to an entire sring"
      ]
    },
    {
      "cell_type": "markdown",
      "metadata": {
        "id": "2iYAZNFVO2jL",
        "colab_type": "text"
      },
      "source": [
        "Now, if there is still enough time, try to create a function `decode_string(my_string, shift)`, that shifts all letters in a string using the function we created earlier. There are multiple ways to do this. Pseudocode for a possible solution is given below, you can use that as a guideline on how to set up your function if you want\n",
        "\n",
        "If time is short however, skip to the next section where a working function is given and apply it.\n",
        "\n",
        "```\n",
        "def decode_string(my_string, shift):\n",
        "  # convert the string to a list of characters.\n",
        "  for i in ???: # loop over the created list of characters \n",
        "    my_string_as_list[i] = ... # shift the i'the element of the list, using our function that we created earlier.\n",
        "  # convert the list of characters back to a string.\n",
        "  # return the new string\n",
        "```"
      ]
    },
    {
      "cell_type": "code",
      "metadata": {
        "id": "A7wdDy5oPS3E",
        "colab_type": "code",
        "colab": {}
      },
      "source": [
        "def decode_string(my_string, shift):\n",
        "  # good luck!\n",
        "  return 0"
      ],
      "execution_count": 0,
      "outputs": []
    },
    {
      "cell_type": "markdown",
      "metadata": {
        "id": "6pE7dQupVDdv",
        "colab_type": "text"
      },
      "source": [
        "## 3. Apply our function to the super-secret code"
      ]
    },
    {
      "cell_type": "markdown",
      "metadata": {
        "id": "NlAFxD5cKIWE",
        "colab_type": "text"
      },
      "source": [
        "Alright! Now we just need to apply our function to every element of the super-secret code. Let's first store the super-secret code in a variable:\n",
        "\n",
        "\n"
      ]
    },
    {
      "cell_type": "code",
      "metadata": {
        "id": "6owUSQ9oOzUA",
        "colab_type": "code",
        "colab": {}
      },
      "source": [
        "super_secret_code = '\"yjuywq ambc yq gd rfc esw ufm clbq sn kyglryglgle wmsp ambc ugjj zc y tgmjclr nqwafmnyrf ufm ilmuq ufcpc wms jgtc.\" - kyprgl emjbgle'"
      ],
      "execution_count": 0,
      "outputs": []
    },
    {
      "cell_type": "markdown",
      "metadata": {
        "id": "DHJ0btEsVOcJ",
        "colab_type": "text"
      },
      "source": [
        "And here is a function that applies our shift_letter function to an entire string."
      ]
    },
    {
      "cell_type": "code",
      "metadata": {
        "id": "iw3MYF_44wyX",
        "colab_type": "code",
        "colab": {}
      },
      "source": [
        "def decode_string(my_string, shift):\n",
        "  my_string_as_list = list(my_string)\n",
        "  for i in range(len(my_string_as_list)):\n",
        "    my_string_as_list[i] = shift_letter(my_string_as_list[i], 2)\n",
        "  my_decoded_string = ''.join(my_string_as_list)\n",
        "  return my_decoded_string"
      ],
      "execution_count": 0,
      "outputs": []
    },
    {
      "cell_type": "markdown",
      "metadata": {
        "id": "NMHDr0ywV9l4",
        "colab_type": "text"
      },
      "source": [
        "Or, with [lambda functions](https://www.w3schools.com/python/python_lambda.asp) we could even do it in a single line!"
      ]
    },
    {
      "cell_type": "code",
      "metadata": {
        "id": "28A7E21SVp6t",
        "colab_type": "code",
        "colab": {}
      },
      "source": [
        "def decode_string(my_string, shift):\n",
        "  return ''.join([shift_letter(x,shift) for x in my_string])"
      ],
      "execution_count": 0,
      "outputs": []
    },
    {
      "cell_type": "code",
      "metadata": {
        "id": "-T9jwsDAL2Dt",
        "colab_type": "code",
        "colab": {
          "base_uri": "https://localhost:8080/",
          "height": 34
        },
        "outputId": "10e26dbe-0924-4854-af0f-9a3757a260ad"
      },
      "source": [
        "decode_string(super_secret_code, shift = 2)"
      ],
      "execution_count": 54,
      "outputs": [
        {
          "output_type": "execute_result",
          "data": {
            "text/plain": [
              "'\"always code as if the guy who ends up maintaining your code will be a violent psychopath who knows where you live.\" - martin golding'"
            ]
          },
          "metadata": {
            "tags": []
          },
          "execution_count": 54
        }
      ]
    },
    {
      "cell_type": "markdown",
      "metadata": {
        "id": "b0WLkQs82xyK",
        "colab_type": "text"
      },
      "source": [
        ""
      ]
    }
  ]
}