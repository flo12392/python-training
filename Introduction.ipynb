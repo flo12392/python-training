{
  "nbformat": 4,
  "nbformat_minor": 0,
  "metadata": {
    "colab": {
      "name": "Untitled1.ipynb",
      "provenance": [],
      "include_colab_link": true
    },
    "kernelspec": {
      "name": "python3",
      "display_name": "Python 3"
    }
  },
  "cells": [
    {
      "cell_type": "markdown",
      "metadata": {
        "id": "view-in-github",
        "colab_type": "text"
      },
      "source": [
        "<a href=\"https://colab.research.google.com/github/flo12392/python-training/blob/master/Introduction.ipynb\" target=\"_parent\"><img src=\"https://colab.research.google.com/assets/colab-badge.svg\" alt=\"Open In Colab\"/></a>"
      ]
    },
    {
      "cell_type": "code",
      "metadata": {
        "id": "6EqpJgC5VJN6",
        "colab_type": "code",
        "colab": {}
      },
      "source": [
        "import requests  # the lib that handles the url stuff\n",
        "url = 'https://raw.githubusercontent.com/flo12392/python-training/master/data/super_secret_code.txt'\n",
        "import requests\n",
        "response = requests.get(url)\n",
        "data = response.text"
      ],
      "execution_count": 0,
      "outputs": []
    },
    {
      "cell_type": "code",
      "metadata": {
        "id": "IzKiQjxaV9mN",
        "colab_type": "code",
        "colab": {}
      },
      "source": [
        "data = data.split('\\n')"
      ],
      "execution_count": 0,
      "outputs": []
    },
    {
      "cell_type": "code",
      "metadata": {
        "id": "1p0EOzf6YGS8",
        "colab_type": "code",
        "colab": {}
      },
      "source": [
        "# indexing at 0\n",
        "# for loop; range"
      ],
      "execution_count": 0,
      "outputs": []
    },
    {
      "cell_type": "markdown",
      "metadata": {
        "id": "Dlq-eXLPZT2R",
        "colab_type": "text"
      },
      "source": [
        "Python is dynamically-typed. This means that we do not need to define the type of a variable at run time."
      ]
    },
    {
      "cell_type": "code",
      "metadata": {
        "id": "KA4mK9ygaIAu",
        "colab_type": "code",
        "colab": {}
      },
      "source": [
        "x = 42"
      ],
      "execution_count": 0,
      "outputs": []
    },
    {
      "cell_type": "code",
      "metadata": {
        "id": "YxbYmIHeac61",
        "colab_type": "code",
        "outputId": "1d260f72-a029-4d85-9f23-72f69682fbe9",
        "colab": {
          "base_uri": "https://localhost:8080/",
          "height": 34
        }
      },
      "source": [
        "print(type(x))"
      ],
      "execution_count": 120,
      "outputs": [
        {
          "output_type": "stream",
          "text": [
            "<class 'int'>\n"
          ],
          "name": "stdout"
        }
      ]
    },
    {
      "cell_type": "code",
      "metadata": {
        "id": "BDMlwFrTaMWf",
        "colab_type": "code",
        "colab": {}
      },
      "source": [
        "x = 'VodafoneZiggo'"
      ],
      "execution_count": 0,
      "outputs": []
    },
    {
      "cell_type": "code",
      "metadata": {
        "id": "BhwmDAMLaTIU",
        "colab_type": "code",
        "outputId": "55f8fa9a-bb85-4e2a-8018-c96c84e04da6",
        "colab": {
          "base_uri": "https://localhost:8080/",
          "height": 34
        }
      },
      "source": [
        "print(type(x))"
      ],
      "execution_count": 122,
      "outputs": [
        {
          "output_type": "stream",
          "text": [
            "<class 'str'>\n"
          ],
          "name": "stdout"
        }
      ]
    },
    {
      "cell_type": "code",
      "metadata": {
        "id": "1pHAQGTua-b1",
        "colab_type": "code",
        "colab": {
          "base_uri": "https://localhost:8080/",
          "height": 132
        },
        "outputId": "ca19d048-0a95-4b68-96c4-e0fd64a10629"
      },
      "source": [
        "https://data-flair.training/blogs/facts-about-python-programming/"
      ],
      "execution_count": 123,
      "outputs": [
        {
          "output_type": "error",
          "ename": "SyntaxError",
          "evalue": "ignored",
          "traceback": [
            "\u001b[0;36m  File \u001b[0;32m\"<ipython-input-123-25f3fe6a34f9>\"\u001b[0;36m, line \u001b[0;32m1\u001b[0m\n\u001b[0;31m    https://data-flair.training/blogs/facts-about-python-programming/\u001b[0m\n\u001b[0m           ^\u001b[0m\n\u001b[0;31mSyntaxError\u001b[0m\u001b[0;31m:\u001b[0m invalid syntax\n"
          ]
        }
      ]
    },
    {
      "cell_type": "code",
      "metadata": {
        "id": "JF5MwgW8dkMb",
        "colab_type": "code",
        "colab": {
          "base_uri": "https://localhost:8080/",
          "height": 176
        },
        "outputId": "f2265986-81db-4eb4-ffc9-a2613cb7cfd5"
      },
      "source": [
        "data"
      ],
      "execution_count": 124,
      "outputs": [
        {
          "output_type": "execute_result",
          "data": {
            "text/plain": [
              "['\"yjuywq ambc yq gd rfc esw ufm clbq sn kyglryglgle wmsp ambc ugjj zc y tgmjclr nqwafmnyrf ufm ilmuq ufcpc wms jgtc.\" - kyprgl emjbgle',\n",
              " '\"fc yrfiabop yrfiq yrfiafkdp qeb txv moldoxjjbop tolqb moldoxjp, qebk qeb cfopq tllambzhbo qexq zxjb xilkd tlria abpqolv zfsfifwxqflk.\" - dboxia tbfkybod',\n",
              " '\"lkb jxk’p zoxmmv plcqtxob fp xklqebo jxk’p crii-qfjb gly.\" - gbppfzx dxpqlk',\n",
              " '\"lnkcnwiiejc eo hega oat. kja ieopwga wjz ukq dwra pk oqllknp ep bkn pda naop kb ukqn heba.\" - ieydwah oejv',\n",
              " '\"swhgejc kj swpan wjz zarahklejc okbpswna bnki w olayebeywpekj wna awou eb xkpd wna bnkvaj.\"- azswnz r xanwnz',\n",
              " '\"sgdqd hr mnsghmf pthsd rn odqlzmdms zr z pthbj ehw.\" - tmjmnvm',\n",
              " '\"moldoxjjfkd qlaxv fp x oxzb ybqtbbk plcqtxob bkdfkbbop pqofsfkd ql yrfia yfddbo xka ybqqbo faflq-mollc moldoxjp, xka qeb rkfsbopb qovfkd ql molarzb yfddbo xka ybqqbo faflqp. pl cxo, qeb rkfsbopb fp tfkkfkd.\" - ofzh zllh',\n",
              " '\"bczseegle gq jgic zcgle rfc bcrcargtc gl y apgkc kmtgc ufcpc wms ypc yjqm rfc kspbcpcp.\" - slilmul',\n",
              " '']"
            ]
          },
          "metadata": {
            "tags": []
          },
          "execution_count": 124
        }
      ]
    },
    {
      "cell_type": "code",
      "metadata": {
        "id": "7wXwQ8scdsmA",
        "colab_type": "code",
        "colab": {
          "base_uri": "https://localhost:8080/",
          "height": 34
        },
        "outputId": "837f4ca7-d567-421e-95ac-72d9080e9e6b"
      },
      "source": [
        "data[0]"
      ],
      "execution_count": 125,
      "outputs": [
        {
          "output_type": "execute_result",
          "data": {
            "text/plain": [
              "'\"yjuywq ambc yq gd rfc esw ufm clbq sn kyglryglgle wmsp ambc ugjj zc y tgmjclr nqwafmnyrf ufm ilmuq ufcpc wms jgtc.\" - kyprgl emjbgle'"
            ]
          },
          "metadata": {
            "tags": []
          },
          "execution_count": 125
        }
      ]
    },
    {
      "cell_type": "code",
      "metadata": {
        "id": "nXSq2GP1dwRZ",
        "colab_type": "code",
        "colab": {}
      },
      "source": [
        "import string\n",
        "all_letters = string.ascii_lowercase"
      ],
      "execution_count": 0,
      "outputs": []
    },
    {
      "cell_type": "code",
      "metadata": {
        "id": "Rka8qDuWfVqP",
        "colab_type": "code",
        "colab": {
          "base_uri": "https://localhost:8080/",
          "height": 34
        },
        "outputId": "f15d6215-cc38-4408-c33f-a2f47cc1e310"
      },
      "source": [
        "print(all_letters)"
      ],
      "execution_count": 127,
      "outputs": [
        {
          "output_type": "stream",
          "text": [
            "abcdefghijklmnopqrstuvwxyz\n"
          ],
          "name": "stdout"
        }
      ]
    },
    {
      "cell_type": "code",
      "metadata": {
        "id": "7p5rtZhBekIf",
        "colab_type": "code",
        "colab": {}
      },
      "source": [
        "letters_list = list(all_letters)"
      ],
      "execution_count": 0,
      "outputs": []
    },
    {
      "cell_type": "code",
      "metadata": {
        "id": "XlcHapDkfTaI",
        "colab_type": "code",
        "colab": {
          "base_uri": "https://localhost:8080/",
          "height": 34
        },
        "outputId": "a169dffa-a349-4e9f-ee0a-f3acc1f55f4e"
      },
      "source": [
        "print(letters_list)"
      ],
      "execution_count": 129,
      "outputs": [
        {
          "output_type": "stream",
          "text": [
            "['a', 'b', 'c', 'd', 'e', 'f', 'g', 'h', 'i', 'j', 'k', 'l', 'm', 'n', 'o', 'p', 'q', 'r', 's', 't', 'u', 'v', 'w', 'x', 'y', 'z']\n"
          ],
          "name": "stdout"
        }
      ]
    },
    {
      "cell_type": "code",
      "metadata": {
        "id": "mG7hJosxd28j",
        "colab_type": "code",
        "colab": {}
      },
      "source": [
        ""
      ],
      "execution_count": 0,
      "outputs": []
    },
    {
      "cell_type": "code",
      "metadata": {
        "id": "5iZS9CwBecDv",
        "colab_type": "code",
        "colab": {
          "base_uri": "https://localhost:8080/",
          "height": 478
        },
        "outputId": "00dd3c91-a2f8-49fa-f453-9eed08525202"
      },
      "source": [
        "for i in range(len(letters_list)):\n",
        "  print(i)"
      ],
      "execution_count": 130,
      "outputs": [
        {
          "output_type": "stream",
          "text": [
            "0\n",
            "1\n",
            "2\n",
            "3\n",
            "4\n",
            "5\n",
            "6\n",
            "7\n",
            "8\n",
            "9\n",
            "10\n",
            "11\n",
            "12\n",
            "13\n",
            "14\n",
            "15\n",
            "16\n",
            "17\n",
            "18\n",
            "19\n",
            "20\n",
            "21\n",
            "22\n",
            "23\n",
            "24\n",
            "25\n"
          ],
          "name": "stdout"
        }
      ]
    },
    {
      "cell_type": "code",
      "metadata": {
        "id": "H9NouDEPfp4f",
        "colab_type": "code",
        "colab": {
          "base_uri": "https://localhost:8080/",
          "height": 478
        },
        "outputId": "89b50714-8692-40b8-989c-c7718871586d"
      },
      "source": [
        "for i in range(len(letters_list)):\n",
        "  print(letters_list[i])"
      ],
      "execution_count": 131,
      "outputs": [
        {
          "output_type": "stream",
          "text": [
            "a\n",
            "b\n",
            "c\n",
            "d\n",
            "e\n",
            "f\n",
            "g\n",
            "h\n",
            "i\n",
            "j\n",
            "k\n",
            "l\n",
            "m\n",
            "n\n",
            "o\n",
            "p\n",
            "q\n",
            "r\n",
            "s\n",
            "t\n",
            "u\n",
            "v\n",
            "w\n",
            "x\n",
            "y\n",
            "z\n"
          ],
          "name": "stdout"
        }
      ]
    },
    {
      "cell_type": "code",
      "metadata": {
        "id": "5FFISZ79gf5j",
        "colab_type": "code",
        "colab": {}
      },
      "source": [
        "# explain dicts"
      ],
      "execution_count": 0,
      "outputs": []
    },
    {
      "cell_type": "code",
      "metadata": {
        "id": "RF3kE727e2o3",
        "colab_type": "code",
        "colab": {
          "base_uri": "https://localhost:8080/",
          "height": 478
        },
        "outputId": "33c7bc1b-a136-47bc-ce79-0663ecb271e0"
      },
      "source": [
        "letters_dict = {}\n",
        "for i in range(len(letters_list)):\n",
        "  letters_dict[letters_list[i]] = letters_list[((i+2)%26)]\n",
        "display(letters_dict)"
      ],
      "execution_count": 135,
      "outputs": [
        {
          "output_type": "display_data",
          "data": {
            "text/plain": [
              "{'a': 'c',\n",
              " 'b': 'd',\n",
              " 'c': 'e',\n",
              " 'd': 'f',\n",
              " 'e': 'g',\n",
              " 'f': 'h',\n",
              " 'g': 'i',\n",
              " 'h': 'j',\n",
              " 'i': 'k',\n",
              " 'j': 'l',\n",
              " 'k': 'm',\n",
              " 'l': 'n',\n",
              " 'm': 'o',\n",
              " 'n': 'p',\n",
              " 'o': 'q',\n",
              " 'p': 'r',\n",
              " 'q': 's',\n",
              " 'r': 't',\n",
              " 's': 'u',\n",
              " 't': 'v',\n",
              " 'u': 'w',\n",
              " 'v': 'x',\n",
              " 'w': 'y',\n",
              " 'x': 'z',\n",
              " 'y': 'a',\n",
              " 'z': 'b'}"
            ]
          },
          "metadata": {
            "tags": []
          }
        }
      ]
    },
    {
      "cell_type": "code",
      "metadata": {
        "id": "qxv_VNf6gd3B",
        "colab_type": "code",
        "colab": {
          "base_uri": "https://localhost:8080/",
          "height": 478
        },
        "outputId": "d3ea71bf-aa8a-448b-e559-08ddc94b3fc1"
      },
      "source": [
        "letters_dict"
      ],
      "execution_count": 136,
      "outputs": [
        {
          "output_type": "execute_result",
          "data": {
            "text/plain": [
              "{'a': 'c',\n",
              " 'b': 'd',\n",
              " 'c': 'e',\n",
              " 'd': 'f',\n",
              " 'e': 'g',\n",
              " 'f': 'h',\n",
              " 'g': 'i',\n",
              " 'h': 'j',\n",
              " 'i': 'k',\n",
              " 'j': 'l',\n",
              " 'k': 'm',\n",
              " 'l': 'n',\n",
              " 'm': 'o',\n",
              " 'n': 'p',\n",
              " 'o': 'q',\n",
              " 'p': 'r',\n",
              " 'q': 's',\n",
              " 'r': 't',\n",
              " 's': 'u',\n",
              " 't': 'v',\n",
              " 'u': 'w',\n",
              " 'v': 'x',\n",
              " 'w': 'y',\n",
              " 'x': 'z',\n",
              " 'y': 'a',\n",
              " 'z': 'b'}"
            ]
          },
          "metadata": {
            "tags": []
          },
          "execution_count": 136
        }
      ]
    },
    {
      "cell_type": "markdown",
      "metadata": {
        "id": "DDeTYhsvliub",
        "colab_type": "text"
      },
      "source": [
        ""
      ]
    },
    {
      "cell_type": "code",
      "metadata": {
        "id": "aVzXiN4wf4jk",
        "colab_type": "code",
        "colab": {}
      },
      "source": [
        "my_string = data[0]\n",
        "my_string = list(my_string.lower())"
      ],
      "execution_count": 0,
      "outputs": []
    },
    {
      "cell_type": "code",
      "metadata": {
        "id": "d0xYy4LOg_9q",
        "colab_type": "code",
        "colab": {}
      },
      "source": [
        "for i in range(len(my_string)):\n",
        "  if my_string[i] in letters_dict:\n",
        "    my_string[i] = letters_dict[my_string[i]]"
      ],
      "execution_count": 0,
      "outputs": []
    },
    {
      "cell_type": "code",
      "metadata": {
        "id": "9bpByoDOhDTl",
        "colab_type": "code",
        "colab": {
          "base_uri": "https://localhost:8080/",
          "height": 34
        },
        "outputId": "071e8535-0d52-4aea-f1df-5ab85ad9422a"
      },
      "source": [
        "''.join(my_string)"
      ],
      "execution_count": 139,
      "outputs": [
        {
          "output_type": "execute_result",
          "data": {
            "text/plain": [
              "'\"always code as if the guy who ends up maintaining your code will be a violent psychopath who knows where you live.\" - martin golding'"
            ]
          },
          "metadata": {
            "tags": []
          },
          "execution_count": 139
        }
      ]
    },
    {
      "cell_type": "markdown",
      "metadata": {
        "id": "CizUJ8NEktri",
        "colab_type": "text"
      },
      "source": [
        ""
      ]
    },
    {
      "cell_type": "code",
      "metadata": {
        "id": "nr7f-vyYjg3F",
        "colab_type": "code",
        "colab": {}
      },
      "source": [
        ""
      ],
      "execution_count": 0,
      "outputs": []
    }
  ]
}