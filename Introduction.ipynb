{
  "nbformat": 4,
  "nbformat_minor": 0,
  "metadata": {
    "colab": {
      "name": "Untitled1.ipynb",
      "provenance": [],
      "include_colab_link": true
    },
    "kernelspec": {
      "name": "python3",
      "display_name": "Python 3"
    }
  },
  "cells": [
    {
      "cell_type": "markdown",
      "metadata": {
        "id": "view-in-github",
        "colab_type": "text"
      },
      "source": [
        "<a href=\"https://colab.research.google.com/github/flo12392/python-training/blob/master/Introduction.ipynb\" target=\"_parent\"><img src=\"https://colab.research.google.com/assets/colab-badge.svg\" alt=\"Open In Colab\"/></a>"
      ]
    },
    {
      "cell_type": "markdown",
      "metadata": {
        "id": "aelcInq3gFGN",
        "colab_type": "text"
      },
      "source": [
        "# Helper functions"
      ]
    },
    {
      "cell_type": "markdown",
      "metadata": {
        "id": "bFDL7sDMgId3",
        "colab_type": "text"
      },
      "source": [
        "Just run this cell and ignore it :)"
      ]
    },
    {
      "cell_type": "code",
      "metadata": {
        "id": "3q1flKgr7Sel",
        "colab_type": "code",
        "colab": {}
      },
      "source": [
        "from random import shuffle\n",
        "quotes = ['zodzbh xlwv zh ru gsv tfb dsl vmwh fk nzrmgzrmrmt blfi xlwv droo yv z erlovmg khbxslkzgs dsl pmldh dsviv blf orev. - nzigrm tlowrmt',\n",
        "'ru yfrowvih yfrog yfrowrmth gsv dzb kiltiznnvih dilgv kiltiznh, gsvm gsv urihg dllwkvxpvi gszg xznv zolmt dlfow wvhgilb xrerorazgrlm. - tvizow dvrmyvit',\n",
        "'kiltiznnrmt rh orpv hvc. lmv nrhgzpv zmw blf szev gl hfkklig rg uli gsv ivhg lu blfi oruv. - nrxszvo hrma',\n",
        "'dzoprmt lm dzgvi zmw wvevolkrmt hlugdziv uiln z hkvxrurxzgrlm ziv vzhb ru ylgs ziv uilavm.- vwdziw e yviziw',\n",
        "'gsviv rh mlgsrmt jfrgv hl kvinzmvmg zh z jfrxp urc. - fmpmldm',\n",
        "'kiltiznnrmt glwzb rh z izxv yvgdvvm hlugdziv vmtrmvvih hgirermt gl yfrow yrttvi zmw yvggvi rwrlg-killu kiltiznh, zmw gsv fmrevihv gibrmt gl kilwfxv yrttvi zmw yvggvi rwrlgh. hl uzi, gsv fmrevihv rh drmmrmt. - irxp xllp',\n",
        "'vevib wvevolkvi szh z gvhg vmerilmnvmg. hlnv ziv ofxpb vmlfts gl zohl szev z hvkzizgv kilwfxgrlm hbhgvn. - fmpmldm',\n",
        "'wvyfttrmt rh orpv yvrmt gsv wvgvxgrev rm z xirnv nlerv dsviv blf ziv zohl gsv nfiwvivi. - fmpmldm']\n",
        "shuffle(quotes)\n",
        "\n",
        "def convert_char(my_char, my_dict):\n",
        "  return my_dict[my_char] if my_char in my_dict else my_char\n",
        "\n",
        "def convert_string(my_string,my_dict):\n",
        "  return ''.join([convert_char(x,my_dict) for x in my_string.lower()])\n",
        "\n",
        "def check_answer(idx, my_answer):\n",
        "  my_dict = dict(zip(string.ascii_lowercase,string.ascii_lowercase[::-1]))\n",
        "  answers = {0: 105,\n",
        "             1: 4,\n",
        "             2: 'bakfiets',\n",
        "             3: 'c',\n",
        "             4: 5,\n",
        "             5: 6,\n",
        "             6: 'g',\n",
        "             7: 'c',\n",
        "             8: '!'}\n",
        "  if answers[idx]==my_answer:\n",
        "    print('Correct! Here is a random programming quote:')\n",
        "    print(convert_string(quotes[idx],my_dict))\n",
        "  else:\n",
        "    print(\"Your answer seems to be incorrect. Your answer is {}, but the expected result is {}.\".format(my_answer, answers[idx]))\n"
      ],
      "execution_count": 0,
      "outputs": []
    },
    {
      "cell_type": "markdown",
      "metadata": {
        "id": "O064ln8ltZ2k",
        "colab_type": "text"
      },
      "source": [
        "# Introduction"
      ]
    },
    {
      "cell_type": "markdown",
      "metadata": {
        "id": "Dlq-eXLPZT2R",
        "colab_type": "text"
      },
      "source": [
        "## Variables "
      ]
    },
    {
      "cell_type": "markdown",
      "metadata": {
        "id": "4CdoMJ5dHCdw",
        "colab_type": "text"
      },
      "source": [
        "\n",
        "Python is dynamically-typed. This means that we do not need to define the type of a variable at run time."
      ]
    },
    {
      "cell_type": "code",
      "metadata": {
        "id": "KA4mK9ygaIAu",
        "colab_type": "code",
        "colab": {}
      },
      "source": [
        "x = 42"
      ],
      "execution_count": 0,
      "outputs": []
    },
    {
      "cell_type": "code",
      "metadata": {
        "id": "YxbYmIHeac61",
        "colab_type": "code",
        "outputId": "a6fe0828-b51c-4cfc-f6ac-efcfa17480cc",
        "colab": {
          "base_uri": "https://localhost:8080/",
          "height": 34
        }
      },
      "source": [
        "print(type(x))"
      ],
      "execution_count": 230,
      "outputs": [
        {
          "output_type": "stream",
          "text": [
            "<class 'int'>\n"
          ],
          "name": "stdout"
        }
      ]
    },
    {
      "cell_type": "code",
      "metadata": {
        "id": "BDMlwFrTaMWf",
        "colab_type": "code",
        "colab": {}
      },
      "source": [
        "y = 'VodafoneZiggo'"
      ],
      "execution_count": 0,
      "outputs": []
    },
    {
      "cell_type": "code",
      "metadata": {
        "id": "BhwmDAMLaTIU",
        "colab_type": "code",
        "outputId": "d1a81943-2215-471b-acc9-e6b2c17c4ca7",
        "colab": {
          "base_uri": "https://localhost:8080/",
          "height": 34
        }
      },
      "source": [
        "print(type(y))"
      ],
      "execution_count": 232,
      "outputs": [
        {
          "output_type": "stream",
          "text": [
            "<class 'str'>\n"
          ],
          "name": "stdout"
        }
      ]
    },
    {
      "cell_type": "markdown",
      "metadata": {
        "id": "BEJucMFFqn5l",
        "colab_type": "text"
      },
      "source": [
        "Python is superpowerful. It can do basic arithmetics. For example:\n",
        "\n",
        "```\n",
        "x + 2\n",
        "x - 2\n",
        "x / 2\n",
        "x * 2\n",
        "```\n",
        "\n"
      ]
    },
    {
      "cell_type": "code",
      "metadata": {
        "id": "znb-xFHuroMf",
        "colab_type": "code",
        "outputId": "74a1d15d-1a05-44da-eef6-0dd3dc560d64",
        "colab": {
          "base_uri": "https://localhost:8080/",
          "height": 34
        }
      },
      "source": [
        "x = 5\n",
        "print(x*2)"
      ],
      "execution_count": 233,
      "outputs": [
        {
          "output_type": "stream",
          "text": [
            "10\n"
          ],
          "name": "stdout"
        }
      ]
    },
    {
      "cell_type": "markdown",
      "metadata": {
        "id": "5GD92bIZrdpZ",
        "colab_type": "text"
      },
      "source": [
        "Note that `x` itself has not changed:\n"
      ]
    },
    {
      "cell_type": "code",
      "metadata": {
        "id": "oSoDtCOEq2xd",
        "colab_type": "code",
        "outputId": "b34ff3fb-4c1a-48e6-fb5d-021822db8a47",
        "colab": {
          "base_uri": "https://localhost:8080/",
          "height": 34
        }
      },
      "source": [
        "print(x)"
      ],
      "execution_count": 234,
      "outputs": [
        {
          "output_type": "stream",
          "text": [
            "5\n"
          ],
          "name": "stdout"
        }
      ]
    },
    {
      "cell_type": "markdown",
      "metadata": {
        "id": "Yi0rVNYMrv-3",
        "colab_type": "text"
      },
      "source": [
        "If we want to change the value of x, we have to assign the value back, for example: "
      ]
    },
    {
      "cell_type": "code",
      "metadata": {
        "id": "uNEH6kUTr4pn",
        "colab_type": "code",
        "outputId": "234a0622-6506-4217-8afa-dedc81da7757",
        "colab": {
          "base_uri": "https://localhost:8080/",
          "height": 34
        }
      },
      "source": [
        "x = 2\n",
        "y = 3\n",
        "x = x + y\n",
        "print(x)"
      ],
      "execution_count": 235,
      "outputs": [
        {
          "output_type": "stream",
          "text": [
            "5\n"
          ],
          "name": "stdout"
        }
      ]
    },
    {
      "cell_type": "markdown",
      "metadata": {
        "id": "kgYzRZdYp2k3",
        "colab_type": "text"
      },
      "source": [
        "## Lists"
      ]
    },
    {
      "cell_type": "markdown",
      "metadata": {
        "id": "IbIY8jYlG96m",
        "colab_type": "text"
      },
      "source": [
        "We can also make lists of things. For example:\n",
        "\n"
      ]
    },
    {
      "cell_type": "code",
      "metadata": {
        "id": "-pK353Nq0a7x",
        "colab_type": "code",
        "colab": {}
      },
      "source": [
        "my_ocd = [1,2,3,4,6,5,7,8]\n",
        "my_favourite_yammer_hashtags = ['#openup','#teamup','#stepup']"
      ],
      "execution_count": 0,
      "outputs": []
    },
    {
      "cell_type": "markdown",
      "metadata": {
        "id": "E6aAeJo-egPJ",
        "colab_type": "text"
      },
      "source": [
        "We can get the length of a list by using `len()`:"
      ]
    },
    {
      "cell_type": "code",
      "metadata": {
        "id": "Fv0q5WlSekCo",
        "colab_type": "code",
        "colab": {
          "base_uri": "https://localhost:8080/",
          "height": 34
        },
        "outputId": "a5840026-3823-4e1e-d30f-7c2939e5e09e"
      },
      "source": [
        "len(my_ocd)"
      ],
      "execution_count": 237,
      "outputs": [
        {
          "output_type": "execute_result",
          "data": {
            "text/plain": [
              "8"
            ]
          },
          "metadata": {
            "tags": []
          },
          "execution_count": 237
        }
      ]
    },
    {
      "cell_type": "markdown",
      "metadata": {
        "id": "xUqXgpwqqade",
        "colab_type": "text"
      },
      "source": [
        "We can add stuff to the list by using `.append()`. Try adding something and then print the list, for example:\n",
        "\n",
        " \n"
      ]
    },
    {
      "cell_type": "code",
      "metadata": {
        "id": "6TGy9HtR0QTq",
        "colab_type": "code",
        "colab": {
          "base_uri": "https://localhost:8080/",
          "height": 34
        },
        "outputId": "bfb045e8-2904-4a5f-d8c9-0ebb0f79764c"
      },
      "source": [
        "my_favourite_yammer_hashtags.append('#kerstpakket')\n",
        "print(my_favourite_yammer_hashtags)"
      ],
      "execution_count": 238,
      "outputs": [
        {
          "output_type": "stream",
          "text": [
            "['#openup', '#teamup', '#stepup', '#kerstpakket']\n"
          ],
          "name": "stdout"
        }
      ]
    },
    {
      "cell_type": "markdown",
      "metadata": {
        "id": "RdA8FXlectoo",
        "colab_type": "text"
      },
      "source": [
        "Note that in this case, `append` mutates the list, so you do not need to do\n",
        "```\n",
        "my_favourite_yammer_hashtags = my_favourite_yammer_hashtags.append('...')\n",
        "```"
      ]
    },
    {
      "cell_type": "markdown",
      "metadata": {
        "id": "QJWv4YZ5sg1d",
        "colab_type": "text"
      },
      "source": [
        "We can extract the elements of a list with `[]`. Note that in python, indexing begins at `0`. So to extract the first element of a list called `x`, you could do `x[0]`, if you want to get the second element, use `x[1]`, etc. \n"
      ]
    },
    {
      "cell_type": "code",
      "metadata": {
        "id": "JF5MwgW8dkMb",
        "colab_type": "code",
        "colab": {
          "base_uri": "https://localhost:8080/",
          "height": 52
        },
        "outputId": "d49a0c04-034f-4c1e-dc9a-c8e28495e2a8"
      },
      "source": [
        "print(my_favourite_yammer_hashtags[0])\n",
        "print(my_favourite_yammer_hashtags[2])"
      ],
      "execution_count": 239,
      "outputs": [
        {
          "output_type": "stream",
          "text": [
            "#openup\n",
            "#stepup\n"
          ],
          "name": "stdout"
        }
      ]
    },
    {
      "cell_type": "markdown",
      "metadata": {
        "id": "UwtdqmeJdD-o",
        "colab_type": "text"
      },
      "source": [
        "We can also edit the elements of a list, in exactly the same way as we would edit variables:"
      ]
    },
    {
      "cell_type": "code",
      "metadata": {
        "id": "j6lZ8IAFdL-s",
        "colab_type": "code",
        "colab": {
          "base_uri": "https://localhost:8080/",
          "height": 34
        },
        "outputId": "6cae4db8-419e-4d9f-825e-a6e1238201a2"
      },
      "source": [
        "my_favourite_yammer_hashtags[0] = '#eggcup'\n",
        "my_favourite_yammer_hashtags[1] = '#buttercup'\n",
        "my_favourite_yammer_hashtags[2] = '#ketchup'\n",
        "print(my_favourite_yammer_hashtags)"
      ],
      "execution_count": 240,
      "outputs": [
        {
          "output_type": "stream",
          "text": [
            "['#eggcup', '#buttercup', '#ketchup', '#kerstpakket']\n"
          ],
          "name": "stdout"
        }
      ]
    },
    {
      "cell_type": "markdown",
      "metadata": {
        "id": "FJEetDXveJHj",
        "colab_type": "text"
      },
      "source": [
        "## For-loops"
      ]
    },
    {
      "cell_type": "markdown",
      "metadata": {
        "id": "XbMlGR63eNur",
        "colab_type": "text"
      },
      "source": [
        "To repeat something, we can use for-loops. For example:"
      ]
    },
    {
      "cell_type": "code",
      "metadata": {
        "id": "xxLByK3PeRGJ",
        "colab_type": "code",
        "colab": {
          "base_uri": "https://localhost:8080/",
          "height": 87
        },
        "outputId": "6c756c6e-16f5-49b7-a64b-7f4004201693"
      },
      "source": [
        "for i in [0,1,2,3]:\n",
        "  print(i)\n"
      ],
      "execution_count": 241,
      "outputs": [
        {
          "output_type": "stream",
          "text": [
            "0\n",
            "1\n",
            "2\n",
            "3\n"
          ],
          "name": "stdout"
        }
      ]
    },
    {
      "cell_type": "code",
      "metadata": {
        "id": "dlRmmusVeWeD",
        "colab_type": "code",
        "colab": {
          "base_uri": "https://localhost:8080/",
          "height": 70
        },
        "outputId": "5a288a28-abfa-413f-ad66-e8507b0cfc1d"
      },
      "source": [
        "for i in range(3):\n",
        "  print(i)"
      ],
      "execution_count": 242,
      "outputs": [
        {
          "output_type": "stream",
          "text": [
            "0\n",
            "1\n",
            "2\n"
          ],
          "name": "stdout"
        }
      ]
    },
    {
      "cell_type": "code",
      "metadata": {
        "id": "O5wK1niNeYwZ",
        "colab_type": "code",
        "colab": {
          "base_uri": "https://localhost:8080/",
          "height": 70
        },
        "outputId": "387642f9-6c45-49d7-867d-eb778f2c108f"
      },
      "source": [
        "my_list = ['a','b','c']\n",
        "for i in range(len(my_list)):\n",
        "  print(my_list[i])"
      ],
      "execution_count": 243,
      "outputs": [
        {
          "output_type": "stream",
          "text": [
            "a\n",
            "b\n",
            "c\n"
          ],
          "name": "stdout"
        }
      ]
    },
    {
      "cell_type": "markdown",
      "metadata": {
        "id": "DcZm9PmD0HqI",
        "colab_type": "text"
      },
      "source": [
        "## Functions"
      ]
    },
    {
      "cell_type": "markdown",
      "metadata": {
        "id": "s1BChjVPe1pY",
        "colab_type": "text"
      },
      "source": [
        "Sometimes, we want to perform an operation multiple times. In those cases, it can be useful to create a function. For example:"
      ]
    },
    {
      "cell_type": "code",
      "metadata": {
        "id": "AphdfgGke8d_",
        "colab_type": "code",
        "colab": {
          "base_uri": "https://localhost:8080/",
          "height": 34
        },
        "outputId": "8770e3f4-4246-4e57-f32f-7f761d4c29d8"
      },
      "source": [
        "def multiply_by_two(x):\n",
        "  return x*2\n",
        "\n",
        "print(multiply_by_two(4))"
      ],
      "execution_count": 244,
      "outputs": [
        {
          "output_type": "stream",
          "text": [
            "8\n"
          ],
          "name": "stdout"
        }
      ]
    },
    {
      "cell_type": "code",
      "metadata": {
        "id": "suOB-omVgXVn",
        "colab_type": "code",
        "colab": {
          "base_uri": "https://localhost:8080/",
          "height": 34
        },
        "outputId": "4f081676-f9b6-4837-afd4-179b3e70fdda"
      },
      "source": [
        "def multiply_list_by_two(my_list):\n",
        "  for i in range(len(my_list)):\n",
        "    my_list[i] = my_list[i] * 2\n",
        "  return my_list\n",
        "    \n",
        "print(multiply_list_by_two([2,4,8]))"
      ],
      "execution_count": 245,
      "outputs": [
        {
          "output_type": "stream",
          "text": [
            "[4, 8, 16]\n"
          ],
          "name": "stdout"
        }
      ]
    },
    {
      "cell_type": "markdown",
      "metadata": {
        "id": "fwdVI3mFbFoT",
        "colab_type": "text"
      },
      "source": [
        "# Exercises\n",
        "\n"
      ]
    },
    {
      "cell_type": "markdown",
      "metadata": {
        "id": "FwJz3q7HaeZf",
        "colab_type": "text"
      },
      "source": [
        "## Variables\n",
        "\n"
      ]
    },
    {
      "cell_type": "markdown",
      "metadata": {
        "id": "jbWkaxU7bQ3t",
        "colab_type": "text"
      },
      "source": [
        "1.   Create a variable called `x`, which should be equal to 5\n",
        "2.   Create a variable called `y` which should be equal to 7\n",
        "3.   Multiply `x` and `y`, and store the result in a variable called `z`.\n",
        "4.   Multiply `z` with three, and store the result back in `z`.\n",
        "5.   Print `z`."
      ]
    },
    {
      "cell_type": "code",
      "metadata": {
        "id": "Z3jYAAsUa69L",
        "colab_type": "code",
        "colab": {
          "base_uri": "https://localhost:8080/",
          "height": 34
        },
        "outputId": "e07c2076-3962-4dd5-be7d-1371a5e6b181"
      },
      "source": [
        "x = 5\n",
        "y = 7\n",
        "z = x * y\n",
        "z = z *3\n",
        "print(z)"
      ],
      "execution_count": 246,
      "outputs": [
        {
          "output_type": "stream",
          "text": [
            "105\n"
          ],
          "name": "stdout"
        }
      ]
    },
    {
      "cell_type": "code",
      "metadata": {
        "id": "EyKAjnZ2bbqq",
        "colab_type": "code",
        "colab": {
          "base_uri": "https://localhost:8080/",
          "height": 52
        },
        "outputId": "6001b1aa-c006-4ff7-bcc0-2de3e536399f"
      },
      "source": [
        "# This checks your answer. Don't change!\n",
        "check_answer(0, my_answer = z)"
      ],
      "execution_count": 247,
      "outputs": [
        {
          "output_type": "stream",
          "text": [
            "Correct! Here is a random programming quote:\n",
            "debugging is like being the detective in a crime movie where you are also the murderer. - unknown\n"
          ],
          "name": "stdout"
        }
      ]
    },
    {
      "cell_type": "markdown",
      "metadata": {
        "id": "fXbzFltmksAw",
        "colab_type": "text"
      },
      "source": [
        "## For-loops"
      ]
    },
    {
      "cell_type": "markdown",
      "metadata": {
        "id": "3PTF7_a0k4vk",
        "colab_type": "text"
      },
      "source": [
        "Here is a list of numbers. Now try to modify the list by dividing all the numbers by 16."
      ]
    },
    {
      "cell_type": "code",
      "metadata": {
        "id": "FUD9YqpjlGvL",
        "colab_type": "code",
        "colab": {}
      },
      "source": [
        "old_list = [16, 96, 32, 112, 48, 80, 128, 80, 48, 64, 80, 80, 64, 48, 64, 48, 80, 64, 96, 48, 48, 96, 80, 48]\n",
        "\n",
        "for i in range(len(old_list)):\n",
        "  old_list[i] = old_list[i]/16  \n",
        "\n",
        "# or using lambda functions: new_list = [x/16 for x in old_list]"
      ],
      "execution_count": 0,
      "outputs": []
    },
    {
      "cell_type": "code",
      "metadata": {
        "id": "KJunrkcMlnmL",
        "colab_type": "code",
        "colab": {
          "base_uri": "https://localhost:8080/",
          "height": 52
        },
        "outputId": "8a9871ce-3502-4255-9c44-2288313ded42"
      },
      "source": [
        "# This checks your answer. Don't change!\n",
        "check_answer(1, my_answer = new_list[12])"
      ],
      "execution_count": 249,
      "outputs": [
        {
          "output_type": "stream",
          "text": [
            "Correct! Here is a random programming quote:\n",
            "walking on water and developing software from a specification are easy if both are frozen.- edward v berard\n"
          ],
          "name": "stdout"
        }
      ]
    },
    {
      "cell_type": "markdown",
      "metadata": {
        "id": "j_7Vi76gnM1q",
        "colab_type": "text"
      },
      "source": [
        "## Functions"
      ]
    },
    {
      "cell_type": "markdown",
      "metadata": {
        "id": "t_eIv9svnQu6",
        "colab_type": "text"
      },
      "source": [
        "Write a function `fiets_appender` that takes as input a string, and appends 'fiets' to that string. If `x` is a string, then you can append text to the string by simply doing `x + 'some text'`, for example:"
      ]
    },
    {
      "cell_type": "code",
      "metadata": {
        "id": "VXCIATwKnLrm",
        "colab_type": "code",
        "colab": {
          "base_uri": "https://localhost:8080/",
          "height": 34
        },
        "outputId": "d3faa833-e126-4710-838d-90c618b40564"
      },
      "source": [
        "x = 'programming'\n",
        "y = x + ' is fun'\n",
        "print(y)"
      ],
      "execution_count": 250,
      "outputs": [
        {
          "output_type": "stream",
          "text": [
            "programming is fun\n"
          ],
          "name": "stdout"
        }
      ]
    },
    {
      "cell_type": "code",
      "metadata": {
        "id": "jO5ugDt2nxgk",
        "colab_type": "code",
        "colab": {}
      },
      "source": [
        "def fiets_appender(my_string):\n",
        "  return my_string + 'fiets'"
      ],
      "execution_count": 0,
      "outputs": []
    },
    {
      "cell_type": "code",
      "metadata": {
        "id": "vpQgWBU4n2up",
        "colab_type": "code",
        "colab": {
          "base_uri": "https://localhost:8080/",
          "height": 90
        },
        "outputId": "27e6d7fd-2336-497b-e37e-0121a2f75043"
      },
      "source": [
        "# This checks your answer. Don't change!\n",
        "print(fiets_appender('bak'))\n",
        "check_answer(2, my_answer = fiets_appender('bak'))"
      ],
      "execution_count": 252,
      "outputs": [
        {
          "output_type": "stream",
          "text": [
            "bakfiets\n",
            "Correct! Here is a random programming quote:\n",
            "programming today is a race between software engineers striving to build bigger and better idiot-proof programs, and the universe trying to produce bigger and better idiots. so far, the universe is winning. - rick cook\n"
          ],
          "name": "stdout"
        }
      ]
    },
    {
      "cell_type": "markdown",
      "metadata": {
        "id": "L1zey-6utXIn",
        "colab_type": "text"
      },
      "source": [
        "# Code breaking"
      ]
    },
    {
      "cell_type": "markdown",
      "metadata": {
        "id": "hqb5SqzeyCCA",
        "colab_type": "text"
      },
      "source": [
        "While browing the internet, you came across a file that looks like gibberish. \n",
        "\n",
        "```\n",
        "y jgrrjc egpj emcq glrm y ncr qfmu ylb yqiq dmp y uyzzgr. rfc qfmn iccncp jmmiq bmul yr fcp, qkgjcq ylb qywq:\n",
        "\"umsjb wms jgic y jmtcjw djsddw jgrrjc ufgrc pyzzgr, mp y asrcqw ummrcqjw jgrrjc zpmul pyzzgr?\"\n",
        "\"yarsyjjw\", qywq rfc jgrrjc egpj, \"g bml'r rfgli kw nwrfml umsjb lmrgac.\"\n",
        "```\n",
        "Either someone let their cat walk on their keyboard, or it's an encrypted file. Only one way to find out!\n",
        "\n",
        "This file looks like it's encrypted with the so called **Ceasar Cipher**; encrpyting a message by shifting all letters in the alphabet by a fixed amount of positions. There is definitely no Ceasar Cipher decryptor on the internet. No, really, there is none. No need to Google it. \n",
        "\n",
        "...\n",
        "\n",
        "Okay, okay, there's plenty. Let's assume there isn't though, so we can enjoy the wonderful experience of programming one ourselves in Python!"
      ]
    },
    {
      "cell_type": "markdown",
      "metadata": {
        "id": "iF6ryAxqx-6K",
        "colab_type": "text"
      },
      "source": [
        "## Breaking down the problem"
      ]
    },
    {
      "cell_type": "markdown",
      "metadata": {
        "id": "bRbUIKrL2yng",
        "colab_type": "text"
      },
      "source": [
        "The code we encountered was:\n",
        "\n"
      ]
    },
    {
      "cell_type": "markdown",
      "metadata": {
        "id": "6C_FTIoM8I8W",
        "colab_type": "text"
      },
      "source": [
        "Let's start by breaking our problem down into steps.\n",
        "\n",
        "\n",
        "1.   Create a function that shifts a letter by x positions in the alphabet\n",
        "2.   Create a function that applies the first function to all letters in a string\n",
        "3.   Apply our function to all letters in the code\n",
        "\n"
      ]
    },
    {
      "cell_type": "markdown",
      "metadata": {
        "id": "Xs5sqo6OGSLc",
        "colab_type": "text"
      },
      "source": [
        "## 1. Create a function that shifts a letter in the alphabet"
      ]
    },
    {
      "cell_type": "markdown",
      "metadata": {
        "id": "kjJxpniTGsF6",
        "colab_type": "text"
      },
      "source": [
        "Let's start with step 1! Basically, this can also be broken down into smaller steps.\n",
        "\n",
        "1.   Get as input a letter\n",
        "2.   Find that letter in the alphabet\n",
        "3.   Find the letter in the alphabet that is two positions further\n",
        "4.   Return that letter\n",
        "\n",
        "Let's start simple, by creating a function called `shift_letter()`, that takes as input a variable called `my_letter` and just returns that letter."
      ]
    },
    {
      "cell_type": "code",
      "metadata": {
        "id": "JTn84stR9s90",
        "colab_type": "code",
        "colab": {}
      },
      "source": [
        "def shift_letter(my_letter):\n",
        "  return my_letter"
      ],
      "execution_count": 0,
      "outputs": []
    },
    {
      "cell_type": "code",
      "metadata": {
        "id": "t88510DuooXE",
        "colab_type": "code",
        "colab": {
          "base_uri": "https://localhost:8080/",
          "height": 70
        },
        "outputId": "6149524e-ad3c-4a99-cc41-caaac1627b2f"
      },
      "source": [
        "# This checks your answer. Don't change!\n",
        "print(shift_letter('c'))\n",
        "check_answer(3, my_answer = shift_letter('c'))"
      ],
      "execution_count": 254,
      "outputs": [
        {
          "output_type": "stream",
          "text": [
            "c\n",
            "Correct! Here is a random programming quote:\n",
            "always code as if the guy who ends up maintaining your code will be a violent psychopath who knows where you live. - martin golding\n"
          ],
          "name": "stdout"
        }
      ]
    },
    {
      "cell_type": "markdown",
      "metadata": {
        "id": "03FbB2fw94If",
        "colab_type": "text"
      },
      "source": [
        "Okay! Now let's take it one step further. Let's improve the function, so it returns the index of my_letter in the alphabet, i.e. if our input is `c` it should return `3`. To do so:\n",
        "\n",
        "\n",
        "1. Define `alphabet`, which is a list of the letters in the alphabet in the right order. Hint; this can be done faster than by just typing it out, just Google `alphabet in python` and see what you find!\n",
        "\n",
        "2.   Then we need to find the index of `my_letter` in `alphabet`. To find the index of an element `x` in a list with the name `y`, do `x.index(y)`\n",
        "\n",
        "3. Store that value as `index` and return it!\n",
        "\n",
        " "
      ]
    },
    {
      "cell_type": "code",
      "metadata": {
        "id": "sQPRYCoo-NQ2",
        "colab_type": "code",
        "colab": {}
      },
      "source": [
        "import string\n",
        "\n",
        "def shift_letter(my_letter):\n",
        "  alphabet = list(string.ascii_lowercase)\n",
        "  index = alphabet.index(my_letter)\n",
        "  return index"
      ],
      "execution_count": 0,
      "outputs": []
    },
    {
      "cell_type": "code",
      "metadata": {
        "id": "PYGLMuxao2w5",
        "colab_type": "code",
        "colab": {
          "base_uri": "https://localhost:8080/",
          "height": 70
        },
        "outputId": "4a1fe870-0fb8-42bc-c1fb-ce9fe38ca3c3"
      },
      "source": [
        "# This checks your answer. Don't change!\n",
        "print(shift_letter('f'))\n",
        "check_answer(4, my_answer = shift_letter('f'))"
      ],
      "execution_count": 256,
      "outputs": [
        {
          "output_type": "stream",
          "text": [
            "5\n",
            "Correct! Here is a random programming quote:\n",
            "programming is like sex. one mistake and you have to support it for the rest of your life. - michael sinz\n"
          ],
          "name": "stdout"
        }
      ]
    },
    {
      "cell_type": "markdown",
      "metadata": {
        "id": "Wls2B6pn_jpK",
        "colab_type": "text"
      },
      "source": [
        "Now, what we want to do is find the index of the letter that we want to return. So if we want to shift all letters by `2` in our Caesar Cipher, we'd have to get the letter from the alphabet at position `index + 2`. Let's make our function a bit more flexible though, and give the user the option to pass the desired shift as an argument called `shift`. So for now, adapt the function so `new_shift` is calculated as `index + shift`, and return that value."
      ]
    },
    {
      "cell_type": "code",
      "metadata": {
        "id": "Th8sMDlyAUyG",
        "colab_type": "code",
        "colab": {}
      },
      "source": [
        "def shift_letter(my_letter,shift):\n",
        "  alphabet = list(string.ascii_lowercase)\n",
        "  index = alphabet.index(my_letter)\n",
        "  new_index = index + shift\n",
        "  return new_index"
      ],
      "execution_count": 0,
      "outputs": []
    },
    {
      "cell_type": "code",
      "metadata": {
        "id": "u4u2tMW_o-WM",
        "colab_type": "code",
        "colab": {
          "base_uri": "https://localhost:8080/",
          "height": 70
        },
        "outputId": "7f6c836e-fdc0-4c00-c254-4b249ffde2c1"
      },
      "source": [
        "# This checks your answer. Don't change!\n",
        "print(shift_letter('c',4))\n",
        "check_answer(5, my_answer = shift_letter('c',4))"
      ],
      "execution_count": 258,
      "outputs": [
        {
          "output_type": "stream",
          "text": [
            "6\n",
            "Correct! Here is a random programming quote:\n",
            "if builders built buildings the way programmers wrote programs, then the first woodpecker that came along would destroy civilization. - gerald weinberg\n"
          ],
          "name": "stdout"
        }
      ]
    },
    {
      "cell_type": "markdown",
      "metadata": {
        "id": "Ua1hEaUb_Itb",
        "colab_type": "text"
      },
      "source": [
        "We're almost there it seems. Now all we need to do is return the right letter! We have already seen earlier how we can take the `n'th` element of a list. In this case, we want to get the `index`'th letter of the list `alphabet`. Let's call that `new_letter` and return it."
      ]
    },
    {
      "cell_type": "code",
      "metadata": {
        "id": "uLJgSQV_4r7g",
        "colab_type": "code",
        "colab": {}
      },
      "source": [
        "def shift_letter(my_letter,shift):\n",
        "  alphabet = list(string.ascii_lowercase)\n",
        "  index = alphabet.index(my_letter)\n",
        "  new_index = index + shift\n",
        "  new_letter = alphabet[new_index]\n",
        "  return new_letter"
      ],
      "execution_count": 0,
      "outputs": []
    },
    {
      "cell_type": "code",
      "metadata": {
        "id": "CTlM4lDV6c9c",
        "colab_type": "code",
        "outputId": "8a204339-9caa-47bf-d882-a1d3747d4f71",
        "colab": {
          "base_uri": "https://localhost:8080/",
          "height": 52
        }
      },
      "source": [
        "# This checks your answer. Don't change!\n",
        "shift_letter('d',3)\n",
        "check_answer(6, my_answer = shift_letter('d',3))"
      ],
      "execution_count": 260,
      "outputs": [
        {
          "output_type": "stream",
          "text": [
            "Correct! Here is a random programming quote:\n",
            "there is nothing quite so permanent as a quick fix. - unknown\n"
          ],
          "name": "stdout"
        }
      ]
    },
    {
      "cell_type": "code",
      "metadata": {
        "id": "dC9Nf5NJ60HR",
        "colab_type": "code",
        "outputId": "44dfff7c-050a-48a4-e0d8-49b4159dceeb",
        "colab": {
          "base_uri": "https://localhost:8080/",
          "height": 274
        }
      },
      "source": [
        "# This should give an error!\n",
        "shift_letter('z',2)"
      ],
      "execution_count": 261,
      "outputs": [
        {
          "output_type": "error",
          "ename": "IndexError",
          "evalue": "ignored",
          "traceback": [
            "\u001b[0;31m---------------------------------------------------------------------------\u001b[0m",
            "\u001b[0;31mIndexError\u001b[0m                                Traceback (most recent call last)",
            "\u001b[0;32m<ipython-input-261-1664c58a3a3a>\u001b[0m in \u001b[0;36m<module>\u001b[0;34m()\u001b[0m\n\u001b[0;32m----> 1\u001b[0;31m \u001b[0mshift_letter\u001b[0m\u001b[0;34m(\u001b[0m\u001b[0;34m'z'\u001b[0m\u001b[0;34m,\u001b[0m\u001b[0;36m2\u001b[0m\u001b[0;34m)\u001b[0m\u001b[0;34m\u001b[0m\u001b[0;34m\u001b[0m\u001b[0m\n\u001b[0m",
            "\u001b[0;32m<ipython-input-259-af2c62e3066a>\u001b[0m in \u001b[0;36mshift_letter\u001b[0;34m(my_letter, shift)\u001b[0m\n\u001b[1;32m      3\u001b[0m   \u001b[0mindex\u001b[0m \u001b[0;34m=\u001b[0m \u001b[0malphabet\u001b[0m\u001b[0;34m.\u001b[0m\u001b[0mindex\u001b[0m\u001b[0;34m(\u001b[0m\u001b[0mmy_letter\u001b[0m\u001b[0;34m)\u001b[0m\u001b[0;34m\u001b[0m\u001b[0;34m\u001b[0m\u001b[0m\n\u001b[1;32m      4\u001b[0m   \u001b[0mnew_index\u001b[0m \u001b[0;34m=\u001b[0m \u001b[0mindex\u001b[0m \u001b[0;34m+\u001b[0m \u001b[0mshift\u001b[0m\u001b[0;34m\u001b[0m\u001b[0;34m\u001b[0m\u001b[0m\n\u001b[0;32m----> 5\u001b[0;31m   \u001b[0mnew_letter\u001b[0m \u001b[0;34m=\u001b[0m \u001b[0malphabet\u001b[0m\u001b[0;34m[\u001b[0m\u001b[0mnew_index\u001b[0m\u001b[0;34m]\u001b[0m\u001b[0;34m\u001b[0m\u001b[0;34m\u001b[0m\u001b[0m\n\u001b[0m\u001b[1;32m      6\u001b[0m   \u001b[0;32mreturn\u001b[0m \u001b[0mnew_letter\u001b[0m\u001b[0;34m\u001b[0m\u001b[0;34m\u001b[0m\u001b[0m\n",
            "\u001b[0;31mIndexError\u001b[0m: list index out of range"
          ]
        }
      ]
    },
    {
      "cell_type": "markdown",
      "metadata": {
        "id": "qOjLcVA8Bftk",
        "colab_type": "text"
      },
      "source": [
        "Oops! Seems that we forgot something. If the user enters the letter `z` and shift `2`, our function will try to find the `28`'th letter of the alphabet. We should use the modulo operator (`%`) for this, which returns the remainder after divsion;\n",
        "\n",
        "*   `4 % 26` -> 4, because 4 is smaller than 26, so after division we are left with 2.\n",
        "*   `28 % 26` -> 2, because 26 fits in 28 once, and then we are left with 2.\n",
        "*   `10 % 4` -> 2, because 4 fits in 10 twice, and then we are left with 2.\n",
        "\n",
        "See if you can apply this to our function. Hint: Make a change in the line where `new_index` is calculated, and don't forget the use of brackets!\n",
        "\n"
      ]
    },
    {
      "cell_type": "code",
      "metadata": {
        "id": "0vSsoE5R64n5",
        "colab_type": "code",
        "colab": {}
      },
      "source": [
        "def shift_letter(my_letter,shift):\n",
        "  alphabet = list(string.ascii_lowercase)\n",
        "  index = alphabet.index(my_letter)\n",
        "  new_index = (index + shift) % 26\n",
        "  new_letter = alphabet[new_index]\n",
        "  return new_letter"
      ],
      "execution_count": 0,
      "outputs": []
    },
    {
      "cell_type": "code",
      "metadata": {
        "id": "m9Zw7Qys7AR_",
        "colab_type": "code",
        "outputId": "7b74c1bf-80e2-4dd6-8dcb-340bf6737f24",
        "colab": {
          "base_uri": "https://localhost:8080/",
          "height": 52
        }
      },
      "source": [
        "# This checks your answer. Don't change!\n",
        "shift_letter('z',3)\n",
        "check_answer(7, my_answer = shift_letter('z',3))"
      ],
      "execution_count": 263,
      "outputs": [
        {
          "output_type": "stream",
          "text": [
            "Correct! Here is a random programming quote:\n",
            "every developer has a test environment. some are lucky enough to also have a separate production system. - unknown\n"
          ],
          "name": "stdout"
        }
      ]
    },
    {
      "cell_type": "code",
      "metadata": {
        "id": "2ccNVToe7ESx",
        "colab_type": "code",
        "outputId": "e01f726f-d05e-4b4a-dcb2-d7fc9cc1b05d",
        "colab": {
          "base_uri": "https://localhost:8080/",
          "height": 292
        }
      },
      "source": [
        "# This should give an error!\n",
        "shift_letter(',',2)"
      ],
      "execution_count": 264,
      "outputs": [
        {
          "output_type": "error",
          "ename": "ValueError",
          "evalue": "ignored",
          "traceback": [
            "\u001b[0;31m---------------------------------------------------------------------------\u001b[0m",
            "\u001b[0;31mValueError\u001b[0m                                Traceback (most recent call last)",
            "\u001b[0;32m<ipython-input-264-73d1131a4c9e>\u001b[0m in \u001b[0;36m<module>\u001b[0;34m()\u001b[0m\n\u001b[0;32m----> 1\u001b[0;31m \u001b[0mshift_letter\u001b[0m\u001b[0;34m(\u001b[0m\u001b[0;34m','\u001b[0m\u001b[0;34m,\u001b[0m\u001b[0;36m2\u001b[0m\u001b[0;34m)\u001b[0m\u001b[0;34m\u001b[0m\u001b[0;34m\u001b[0m\u001b[0m\n\u001b[0m",
            "\u001b[0;32m<ipython-input-262-cd8fd9b8fdd1>\u001b[0m in \u001b[0;36mshift_letter\u001b[0;34m(my_letter, shift)\u001b[0m\n\u001b[1;32m      1\u001b[0m \u001b[0;32mdef\u001b[0m \u001b[0mshift_letter\u001b[0m\u001b[0;34m(\u001b[0m\u001b[0mmy_letter\u001b[0m\u001b[0;34m,\u001b[0m\u001b[0mshift\u001b[0m\u001b[0;34m)\u001b[0m\u001b[0;34m:\u001b[0m\u001b[0;34m\u001b[0m\u001b[0;34m\u001b[0m\u001b[0m\n\u001b[1;32m      2\u001b[0m   \u001b[0malphabet\u001b[0m \u001b[0;34m=\u001b[0m \u001b[0mlist\u001b[0m\u001b[0;34m(\u001b[0m\u001b[0mstring\u001b[0m\u001b[0;34m.\u001b[0m\u001b[0mascii_lowercase\u001b[0m\u001b[0;34m)\u001b[0m\u001b[0;34m\u001b[0m\u001b[0;34m\u001b[0m\u001b[0m\n\u001b[0;32m----> 3\u001b[0;31m   \u001b[0mindex\u001b[0m \u001b[0;34m=\u001b[0m \u001b[0malphabet\u001b[0m\u001b[0;34m.\u001b[0m\u001b[0mindex\u001b[0m\u001b[0;34m(\u001b[0m\u001b[0mmy_letter\u001b[0m\u001b[0;34m)\u001b[0m\u001b[0;34m\u001b[0m\u001b[0;34m\u001b[0m\u001b[0m\n\u001b[0m\u001b[1;32m      4\u001b[0m   \u001b[0mnew_index\u001b[0m \u001b[0;34m=\u001b[0m \u001b[0;34m(\u001b[0m\u001b[0mindex\u001b[0m \u001b[0;34m+\u001b[0m \u001b[0mshift\u001b[0m\u001b[0;34m)\u001b[0m \u001b[0;34m%\u001b[0m \u001b[0;36m26\u001b[0m\u001b[0;34m\u001b[0m\u001b[0;34m\u001b[0m\u001b[0m\n\u001b[1;32m      5\u001b[0m   \u001b[0mnew_letter\u001b[0m \u001b[0;34m=\u001b[0m \u001b[0malphabet\u001b[0m\u001b[0;34m[\u001b[0m\u001b[0mnew_index\u001b[0m\u001b[0;34m]\u001b[0m\u001b[0;34m\u001b[0m\u001b[0;34m\u001b[0m\u001b[0m\n",
            "\u001b[0;31mValueError\u001b[0m: ',' is not in list"
          ]
        }
      ]
    },
    {
      "cell_type": "markdown",
      "metadata": {
        "id": "FMDiUJMLDByQ",
        "colab_type": "text"
      },
      "source": [
        "Oh no! One more problem. If the user enters a character that's not in the alphabet, our function breaks down. We can fix this with an `if-else` statement.\n",
        "\n",
        "```\n",
        "def shift_letter(my_letter,shift):\n",
        "  alphabet = list(string.ascii_lowercase)\n",
        "  if my_letter in alphabet:\n",
        "    # Find the right letter in the alphabet\n",
        "  else:\n",
        "    # just return the caharcter that was given as input\n",
        "```\n",
        "\n"
      ]
    },
    {
      "cell_type": "code",
      "metadata": {
        "id": "9zU9RIR65kYx",
        "colab_type": "code",
        "colab": {}
      },
      "source": [
        "def shift_letter(my_letter,shift):\n",
        "  alphabet = list(string.ascii_lowercase)\n",
        "  if my_letter in alphabet:\n",
        "    index = alphabet.index(my_letter)\n",
        "    new_index = (index + shift) % 26\n",
        "    new_letter = alphabet[new_index]\n",
        "    return new_letter\n",
        "  else:\n",
        "    return my_letter"
      ],
      "execution_count": 0,
      "outputs": []
    },
    {
      "cell_type": "code",
      "metadata": {
        "id": "S9LQrgcAF-aE",
        "colab_type": "code",
        "colab": {
          "base_uri": "https://localhost:8080/",
          "height": 34
        },
        "outputId": "865040d4-1f59-47a0-ec2b-e4c461eff520"
      },
      "source": [
        "shift_letter(',',2)"
      ],
      "execution_count": 266,
      "outputs": [
        {
          "output_type": "execute_result",
          "data": {
            "text/plain": [
              "','"
            ]
          },
          "metadata": {
            "tags": []
          },
          "execution_count": 266
        }
      ]
    },
    {
      "cell_type": "code",
      "metadata": {
        "id": "hEM51pcOF_Rp",
        "colab_type": "code",
        "colab": {
          "base_uri": "https://localhost:8080/",
          "height": 34
        },
        "outputId": "9d89abe8-bf66-442c-a3a9-e69d9e35af8c"
      },
      "source": [
        "shift_letter('a',3)"
      ],
      "execution_count": 267,
      "outputs": [
        {
          "output_type": "execute_result",
          "data": {
            "text/plain": [
              "'d'"
            ]
          },
          "metadata": {
            "tags": []
          },
          "execution_count": 267
        }
      ]
    },
    {
      "cell_type": "code",
      "metadata": {
        "id": "pTy233zDF_qp",
        "colab_type": "code",
        "colab": {
          "base_uri": "https://localhost:8080/",
          "height": 34
        },
        "outputId": "f6b1b3ba-e880-489a-dc33-d45d2119275d"
      },
      "source": [
        "shift_letter('x',3)"
      ],
      "execution_count": 268,
      "outputs": [
        {
          "output_type": "execute_result",
          "data": {
            "text/plain": [
              "'a'"
            ]
          },
          "metadata": {
            "tags": []
          },
          "execution_count": 268
        }
      ]
    },
    {
      "cell_type": "markdown",
      "metadata": {
        "id": "yGIwxz8Frsc5",
        "colab_type": "text"
      },
      "source": [
        "If the three cells above returned `,`, `d`, and `a`, respectively. Awesome! You got the first and most crucial part of our decryptor finished. Now let's move on. \n",
        "\n",
        "\n",
        "\n",
        "```\n",
        "if there is still enough time left:\n",
        "  go to the next section\n",
        "else:\n",
        "  skip the next section and go to \"Apply our function to the super-secret code\"\n",
        "```\n",
        "\n",
        "\n"
      ]
    },
    {
      "cell_type": "markdown",
      "metadata": {
        "id": "Pii5wCQ9GFlp",
        "colab_type": "text"
      },
      "source": [
        "## 2. Create a function that applies our shift_letter function to an entire sring"
      ]
    },
    {
      "cell_type": "markdown",
      "metadata": {
        "id": "2iYAZNFVO2jL",
        "colab_type": "text"
      },
      "source": [
        "Time to create a function `decode_string(my_string, shift)`, that shifts all letters in a string using the function we created earlier. There are multiple ways to do this. Pseudocode for a possible solution using the tools we acquired already is given below, you can use that as a guideline on how to set up your function if you want. You could also look up [lambda functions](https://www.w3schools.com/python/python_lambda.asp) online and see if you can find a shorter way to do it.\n",
        "\n",
        "```\n",
        "def decode_string(my_string, shift):\n",
        "  # convert the string to a list of characters.\n",
        "  for i in ???: # loop over the created list of characters \n",
        "    my_string_as_list[i] = ... # shift the i'the element of the list, using our function that we created earlier.\n",
        "  # convert the list of characters back to a string.\n",
        "  # return the new string\n",
        "```"
      ]
    },
    {
      "cell_type": "code",
      "metadata": {
        "id": "A7wdDy5oPS3E",
        "colab_type": "code",
        "colab": {}
      },
      "source": [
        "def decode_string(my_string, shift):\n",
        "  my_string_as_list = list(my_string)\n",
        "  for i in range(len(my_string_as_list)):\n",
        "    my_string_as_list[i] = shift_letter(my_string_as_list[i], 2)\n",
        "  my_decoded_string = ''.join(my_string_as_list)\n",
        "  return my_decoded_string"
      ],
      "execution_count": 0,
      "outputs": []
    },
    {
      "cell_type": "markdown",
      "metadata": {
        "id": "6pE7dQupVDdv",
        "colab_type": "text"
      },
      "source": [
        "## 3. Apply our function to the super-secret code"
      ]
    },
    {
      "cell_type": "markdown",
      "metadata": {
        "id": "NlAFxD5cKIWE",
        "colab_type": "text"
      },
      "source": [
        "Alright! Now we just need to apply our function to every element of the super-secret code. Let's first store the super-secret code in a variable:\n",
        "\n",
        "\n"
      ]
    },
    {
      "cell_type": "code",
      "metadata": {
        "id": "6owUSQ9oOzUA",
        "colab_type": "code",
        "colab": {}
      },
      "source": [
        "super_secret_code = '''\n",
        "y jgrrjc egpj emcq glrm y ncr qfmu ylb yqiq dmp y uyzzgr. rfc qfmn iccncp jmmiq bmul yr fcp, qkgjcq ylb qywq:\n",
        "\"umsjb wms jgic y jmtcjw djsddw jgrrjc ufgrc pyzzgr, mp y asrcqw ummrcqjw jgrrjc zpmul pyzzgr?\"\n",
        "\"yarsyjjw\", qywq rfc jgrrjc egpj, \"g bml'r rfgli kw nwrfml umsjb lmrgac.\"\n",
        "'''"
      ],
      "execution_count": 0,
      "outputs": []
    },
    {
      "cell_type": "markdown",
      "metadata": {
        "id": "DHJ0btEsVOcJ",
        "colab_type": "text"
      },
      "source": [
        "And here is a function that applies our shift_letter function to an entire string."
      ]
    },
    {
      "cell_type": "code",
      "metadata": {
        "id": "iw3MYF_44wyX",
        "colab_type": "code",
        "colab": {}
      },
      "source": [
        "def decode_string(my_string, shift):\n",
        "  my_string_as_list = list(my_string)\n",
        "  for i in range(len(my_string_as_list)):\n",
        "    my_string_as_list[i] = shift_letter(my_string_as_list[i], 2)\n",
        "  my_decoded_string = ''.join(my_string_as_list)\n",
        "  return my_decoded_string"
      ],
      "execution_count": 0,
      "outputs": []
    },
    {
      "cell_type": "markdown",
      "metadata": {
        "id": "NMHDr0ywV9l4",
        "colab_type": "text"
      },
      "source": [
        "Or, with [lambda functions](https://www.w3schools.com/python/python_lambda.asp) we could even do it in a single line!"
      ]
    },
    {
      "cell_type": "code",
      "metadata": {
        "id": "28A7E21SVp6t",
        "colab_type": "code",
        "colab": {}
      },
      "source": [
        "def decode_string(my_string, shift):\n",
        "  return ''.join([shift_letter(x,shift) for x in my_string])"
      ],
      "execution_count": 0,
      "outputs": []
    },
    {
      "cell_type": "code",
      "metadata": {
        "id": "-T9jwsDAL2Dt",
        "colab_type": "code",
        "colab": {
          "base_uri": "https://localhost:8080/",
          "height": 105
        },
        "outputId": "0f36605a-94c7-4c05-c3cf-1ff7a317bef3"
      },
      "source": [
        "print(decode_string(super_secret_code, shift = 2))"
      ],
      "execution_count": 278,
      "outputs": [
        {
          "output_type": "stream",
          "text": [
            "\n",
            "a little girl goes into a pet show and asks for a wabbit. the shop keeper looks down at her, smiles and says:\n",
            "\"would you like a lovely fluffy little white rabbit, or a cutesy wootesly little brown rabbit?\"\n",
            "\"actually\", says the little girl, \"i don't think my python would notice.\"\n",
            "\n"
          ],
          "name": "stdout"
        }
      ]
    }
  ]
}