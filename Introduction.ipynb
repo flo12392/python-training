{
  "nbformat": 4,
  "nbformat_minor": 0,
  "metadata": {
    "colab": {
      "name": "Untitled1.ipynb",
      "provenance": [],
      "include_colab_link": true
    },
    "kernelspec": {
      "name": "python3",
      "display_name": "Python 3"
    }
  },
  "cells": [
    {
      "cell_type": "markdown",
      "metadata": {
        "id": "view-in-github",
        "colab_type": "text"
      },
      "source": [
        "<a href=\"https://colab.research.google.com/github/flo12392/python-training/blob/master/Introduction.ipynb\" target=\"_parent\"><img src=\"https://colab.research.google.com/assets/colab-badge.svg\" alt=\"Open In Colab\"/></a>"
      ]
    },
    {
      "cell_type": "markdown",
      "metadata": {
        "id": "aelcInq3gFGN",
        "colab_type": "text"
      },
      "source": [
        "# Helper functions"
      ]
    },
    {
      "cell_type": "markdown",
      "metadata": {
        "id": "bFDL7sDMgId3",
        "colab_type": "text"
      },
      "source": [
        "Just run this cell and ignore it :)"
      ]
    },
    {
      "cell_type": "code",
      "metadata": {
        "id": "3q1flKgr7Sel",
        "colab_type": "code",
        "colab": {}
      },
      "source": [
        "from random import shuffle\n",
        "quotes = ['zodzbh xlwv zh ru gsv tfb dsl vmwh fk nzrmgzrmrmt blfi xlwv droo yv z erlovmg khbxslkzgs dsl pmldh dsviv blf orev. - nzigrm tlowrmt',\n",
        "'ru yfrowvih yfrog yfrowrmth gsv dzb kiltiznnvih dilgv kiltiznh, gsvm gsv urihg dllwkvxpvi gszg xznv zolmt dlfow wvhgilb xrerorazgrlm. - tvizow dvrmyvit',\n",
        "'kiltiznnrmt rh orpv hvc. lmv nrhgzpv zmw blf szev gl hfkklig rg uli gsv ivhg lu blfi oruv. - nrxszvo hrma',\n",
        "'dzoprmt lm dzgvi zmw wvevolkrmt hlugdziv uiln z hkvxrurxzgrlm ziv vzhb ru ylgs ziv uilavm.- vwdziw e yviziw',\n",
        "'gsviv rh mlgsrmt jfrgv hl kvinzmvmg zh z jfrxp urc. - fmpmldm',\n",
        "'kiltiznnrmt glwzb rh z izxv yvgdvvm hlugdziv vmtrmvvih hgirermt gl yfrow yrttvi zmw yvggvi rwrlg-killu kiltiznh, zmw gsv fmrevihv gibrmt gl kilwfxv yrttvi zmw yvggvi rwrlgh. hl uzi, gsv fmrevihv rh drmmrmt. - irxp xllp',\n",
        "'vevib wvevolkvi szh z gvhg vmerilmnvmg. hlnv ziv ofxpb vmlfts gl zohl szev z hvkzizgv kilwfxgrlm hbhgvn. - fmpmldm',\n",
        "'wvyfttrmt rh orpv yvrmt gsv wvgvxgrev rm z xirnv nlerv dsviv blf ziv zohl gsv nfiwvivi. - fmpmldm']\n",
        "shuffle(quotes)\n",
        "\n",
        "def convert_char(my_char, my_dict):\n",
        "  return my_dict[my_char] if my_char in my_dict else my_char\n",
        "\n",
        "def convert_string(my_string,my_dict):\n",
        "  return ''.join([convert_char(x,my_dict) for x in my_string.lower()])\n",
        "\n",
        "def check_answer(idx, my_answer):\n",
        "  my_dict = dict(zip(string.ascii_lowercase,string.ascii_lowercase[::-1]))\n",
        "  answers = {0: 105,\n",
        "             1: 4,\n",
        "             2: 'bakfiets',\n",
        "             3: 'c',\n",
        "             4: 5,\n",
        "             5: 'g'}\n",
        "  if answers[idx]==my_answer:\n",
        "    print('Correct! Here is a random programming quote:')\n",
        "    print(convert_string(quotes[idx],my_dict))\n",
        "  else:\n",
        "    print(\"Your answer seems to be incorrect. Your answer is {}, but the expected result is {}.\".format(my_answer, answers[idx]))\n"
      ],
      "execution_count": 0,
      "outputs": []
    },
    {
      "cell_type": "markdown",
      "metadata": {
        "id": "O064ln8ltZ2k",
        "colab_type": "text"
      },
      "source": [
        "# Introduction"
      ]
    },
    {
      "cell_type": "markdown",
      "metadata": {
        "id": "Dlq-eXLPZT2R",
        "colab_type": "text"
      },
      "source": [
        "## Variables "
      ]
    },
    {
      "cell_type": "markdown",
      "metadata": {
        "id": "4CdoMJ5dHCdw",
        "colab_type": "text"
      },
      "source": [
        "\n",
        "Python is dynamically-typed. This means that we do not need to define the type of a variable at run time."
      ]
    },
    {
      "cell_type": "code",
      "metadata": {
        "id": "KA4mK9ygaIAu",
        "colab_type": "code",
        "colab": {}
      },
      "source": [
        "x = 42"
      ],
      "execution_count": 0,
      "outputs": []
    },
    {
      "cell_type": "code",
      "metadata": {
        "id": "YxbYmIHeac61",
        "colab_type": "code",
        "outputId": "04fb0af2-629a-4dc9-9d96-cfcc22e4a2b5",
        "colab": {
          "base_uri": "https://localhost:8080/",
          "height": 0
        }
      },
      "source": [
        "print(type(x))"
      ],
      "execution_count": 91,
      "outputs": [
        {
          "output_type": "stream",
          "text": [
            "<class 'int'>\n"
          ],
          "name": "stdout"
        }
      ]
    },
    {
      "cell_type": "code",
      "metadata": {
        "id": "BDMlwFrTaMWf",
        "colab_type": "code",
        "colab": {}
      },
      "source": [
        "y = 'VodafoneZiggo'"
      ],
      "execution_count": 0,
      "outputs": []
    },
    {
      "cell_type": "code",
      "metadata": {
        "id": "BhwmDAMLaTIU",
        "colab_type": "code",
        "outputId": "4a554cad-224e-4717-83b7-013a662406a8",
        "colab": {
          "base_uri": "https://localhost:8080/",
          "height": 0
        }
      },
      "source": [
        "print(type(y))"
      ],
      "execution_count": 93,
      "outputs": [
        {
          "output_type": "stream",
          "text": [
            "<class 'str'>\n"
          ],
          "name": "stdout"
        }
      ]
    },
    {
      "cell_type": "markdown",
      "metadata": {
        "id": "BEJucMFFqn5l",
        "colab_type": "text"
      },
      "source": [
        "Python is superpowerful. It can do basic arithmetics. For example:\n",
        "\n",
        "```\n",
        "x + 2\n",
        "x - 2\n",
        "x / 2\n",
        "x * 2\n",
        "```\n",
        "\n"
      ]
    },
    {
      "cell_type": "code",
      "metadata": {
        "id": "znb-xFHuroMf",
        "colab_type": "code",
        "outputId": "b2fcf74a-50d5-41ca-c0d9-ab58ce920710",
        "colab": {
          "base_uri": "https://localhost:8080/",
          "height": 0
        }
      },
      "source": [
        "x = 5\n",
        "print(x*2)"
      ],
      "execution_count": 94,
      "outputs": [
        {
          "output_type": "stream",
          "text": [
            "10\n"
          ],
          "name": "stdout"
        }
      ]
    },
    {
      "cell_type": "markdown",
      "metadata": {
        "id": "5GD92bIZrdpZ",
        "colab_type": "text"
      },
      "source": [
        "Note that `x` itself has not changed:\n"
      ]
    },
    {
      "cell_type": "code",
      "metadata": {
        "id": "oSoDtCOEq2xd",
        "colab_type": "code",
        "outputId": "3614ede4-2b07-4c6d-c5ff-a5bac614419c",
        "colab": {
          "base_uri": "https://localhost:8080/",
          "height": 0
        }
      },
      "source": [
        "print(x)"
      ],
      "execution_count": 95,
      "outputs": [
        {
          "output_type": "stream",
          "text": [
            "5\n"
          ],
          "name": "stdout"
        }
      ]
    },
    {
      "cell_type": "markdown",
      "metadata": {
        "id": "Yi0rVNYMrv-3",
        "colab_type": "text"
      },
      "source": [
        "If we want to change the value of x, we have to assign the value back, for example: "
      ]
    },
    {
      "cell_type": "code",
      "metadata": {
        "id": "uNEH6kUTr4pn",
        "colab_type": "code",
        "outputId": "6a81e0ff-1e08-406d-9d4a-7317597768bb",
        "colab": {
          "base_uri": "https://localhost:8080/",
          "height": 0
        }
      },
      "source": [
        "x = 2\n",
        "y = 3\n",
        "x = x + y\n",
        "print(x)"
      ],
      "execution_count": 96,
      "outputs": [
        {
          "output_type": "stream",
          "text": [
            "5\n"
          ],
          "name": "stdout"
        }
      ]
    },
    {
      "cell_type": "markdown",
      "metadata": {
        "id": "kgYzRZdYp2k3",
        "colab_type": "text"
      },
      "source": [
        "## Lists"
      ]
    },
    {
      "cell_type": "markdown",
      "metadata": {
        "id": "IbIY8jYlG96m",
        "colab_type": "text"
      },
      "source": [
        "We can also make lists of things. For example:\n",
        "\n"
      ]
    },
    {
      "cell_type": "code",
      "metadata": {
        "id": "-pK353Nq0a7x",
        "colab_type": "code",
        "colab": {}
      },
      "source": [
        "my_ocd = [1,2,3,4,6,5,7,8]\n",
        "my_favourite_yammer_hashtags = ['#openup','#teamup','#stepup']"
      ],
      "execution_count": 0,
      "outputs": []
    },
    {
      "cell_type": "markdown",
      "metadata": {
        "id": "E6aAeJo-egPJ",
        "colab_type": "text"
      },
      "source": [
        "We can get the length of a list by using `len()`:"
      ]
    },
    {
      "cell_type": "code",
      "metadata": {
        "id": "Fv0q5WlSekCo",
        "colab_type": "code",
        "colab": {
          "base_uri": "https://localhost:8080/",
          "height": 0
        },
        "outputId": "8f8255d4-b76b-44b9-d9aa-eef5d4e4da77"
      },
      "source": [
        "len(my_ocd)"
      ],
      "execution_count": 115,
      "outputs": [
        {
          "output_type": "execute_result",
          "data": {
            "text/plain": [
              "8"
            ]
          },
          "metadata": {
            "tags": []
          },
          "execution_count": 115
        }
      ]
    },
    {
      "cell_type": "markdown",
      "metadata": {
        "id": "xUqXgpwqqade",
        "colab_type": "text"
      },
      "source": [
        "We can add stuff to the list by using `.append()`. Try adding something and then print the list, for example:\n",
        "\n",
        " \n"
      ]
    },
    {
      "cell_type": "code",
      "metadata": {
        "id": "6TGy9HtR0QTq",
        "colab_type": "code",
        "colab": {
          "base_uri": "https://localhost:8080/",
          "height": 0
        },
        "outputId": "6ae48337-f0b1-45cf-f191-375d963bbbbe"
      },
      "source": [
        "my_favourite_yammer_hashtags.append('#kerstpakket')\n",
        "print(my_favourite_yammer_hashtags)"
      ],
      "execution_count": 116,
      "outputs": [
        {
          "output_type": "stream",
          "text": [
            "['#openup', '#teamup', '#stepup', '#kerstpakket']\n"
          ],
          "name": "stdout"
        }
      ]
    },
    {
      "cell_type": "markdown",
      "metadata": {
        "id": "RdA8FXlectoo",
        "colab_type": "text"
      },
      "source": [
        "Note that in this case, `append` mutates the list, so you do not need to do\n",
        "```\n",
        "my_favourite_yammer_hashtags = my_favourite_yammer_hashtags.append('...')\n",
        "```"
      ]
    },
    {
      "cell_type": "markdown",
      "metadata": {
        "id": "QJWv4YZ5sg1d",
        "colab_type": "text"
      },
      "source": [
        "We can extract the elements of a list with `[]`. Note that in python, indexing begins at `0`. So to extract the first element of a list called `x`, you could do `x[0]`, if you want to get the second element, use `x[1]`, etc. \n"
      ]
    },
    {
      "cell_type": "code",
      "metadata": {
        "id": "JF5MwgW8dkMb",
        "colab_type": "code",
        "colab": {
          "base_uri": "https://localhost:8080/",
          "height": 0
        },
        "outputId": "77ed977f-f0e3-48d2-bb70-55513ef779c7"
      },
      "source": [
        "print(my_favourite_yammer_hashtags[0])\n",
        "print(my_favourite_yammer_hashtags[2])"
      ],
      "execution_count": 117,
      "outputs": [
        {
          "output_type": "stream",
          "text": [
            "#openup\n",
            "#stepup\n"
          ],
          "name": "stdout"
        }
      ]
    },
    {
      "cell_type": "markdown",
      "metadata": {
        "id": "UwtdqmeJdD-o",
        "colab_type": "text"
      },
      "source": [
        "We can also edit the elements of a list, in exactly the same way as we would edit variables:"
      ]
    },
    {
      "cell_type": "code",
      "metadata": {
        "id": "j6lZ8IAFdL-s",
        "colab_type": "code",
        "colab": {
          "base_uri": "https://localhost:8080/",
          "height": 0
        },
        "outputId": "5eb9198b-edb5-4e5b-d2cf-ba4e24a8c96e"
      },
      "source": [
        "my_favourite_yammer_hashtags[0] = '#eggcup'\n",
        "my_favourite_yammer_hashtags[1] = '#buttercup'\n",
        "my_favourite_yammer_hashtags[2] = '#ketchup'\n",
        "print(my_favourite_yammer_hashtags)"
      ],
      "execution_count": 118,
      "outputs": [
        {
          "output_type": "stream",
          "text": [
            "['#eggcup', '#buttercup', '#ketchup', '#kerstpakket']\n"
          ],
          "name": "stdout"
        }
      ]
    },
    {
      "cell_type": "markdown",
      "metadata": {
        "id": "FJEetDXveJHj",
        "colab_type": "text"
      },
      "source": [
        "## For-loops"
      ]
    },
    {
      "cell_type": "markdown",
      "metadata": {
        "id": "XbMlGR63eNur",
        "colab_type": "text"
      },
      "source": [
        "To repeat something, we can use for-loops. For example:"
      ]
    },
    {
      "cell_type": "code",
      "metadata": {
        "id": "xxLByK3PeRGJ",
        "colab_type": "code",
        "colab": {
          "base_uri": "https://localhost:8080/",
          "height": 87
        },
        "outputId": "b3e177a0-4fff-4a35-dd2e-58c1c071c4a8"
      },
      "source": [
        "for i in [0,1,2,3]:\n",
        "  print(i)\n"
      ],
      "execution_count": 110,
      "outputs": [
        {
          "output_type": "stream",
          "text": [
            "0\n",
            "1\n",
            "2\n",
            "3\n"
          ],
          "name": "stdout"
        }
      ]
    },
    {
      "cell_type": "code",
      "metadata": {
        "id": "dlRmmusVeWeD",
        "colab_type": "code",
        "colab": {
          "base_uri": "https://localhost:8080/",
          "height": 70
        },
        "outputId": "f5c77dea-9642-4a9c-80d3-2d56b4310c62"
      },
      "source": [
        "for i in range(3):\n",
        "  print(i)"
      ],
      "execution_count": 111,
      "outputs": [
        {
          "output_type": "stream",
          "text": [
            "0\n",
            "1\n",
            "2\n"
          ],
          "name": "stdout"
        }
      ]
    },
    {
      "cell_type": "code",
      "metadata": {
        "id": "O5wK1niNeYwZ",
        "colab_type": "code",
        "colab": {
          "base_uri": "https://localhost:8080/",
          "height": 70
        },
        "outputId": "41cd3f1a-f940-41d2-c2db-113a5f8a879f"
      },
      "source": [
        "my_list = ['a','b','c']\n",
        "for i in range(len(my_list)):\n",
        "  print(my_list[i])"
      ],
      "execution_count": 119,
      "outputs": [
        {
          "output_type": "stream",
          "text": [
            "a\n",
            "b\n",
            "c\n"
          ],
          "name": "stdout"
        }
      ]
    },
    {
      "cell_type": "markdown",
      "metadata": {
        "id": "DcZm9PmD0HqI",
        "colab_type": "text"
      },
      "source": [
        "## Functions"
      ]
    },
    {
      "cell_type": "markdown",
      "metadata": {
        "id": "s1BChjVPe1pY",
        "colab_type": "text"
      },
      "source": [
        "Sometimes, we want to perform an operation multiple times. In those cases, it can be useful to create a function. For example:"
      ]
    },
    {
      "cell_type": "code",
      "metadata": {
        "id": "AphdfgGke8d_",
        "colab_type": "code",
        "colab": {
          "base_uri": "https://localhost:8080/",
          "height": 34
        },
        "outputId": "eeb014d3-522e-4496-ba88-1be8d8a11023"
      },
      "source": [
        "def multiply_by_two(x):\n",
        "  return x*2\n",
        "\n",
        "print(multiply_by_two(4))"
      ],
      "execution_count": 122,
      "outputs": [
        {
          "output_type": "stream",
          "text": [
            "8\n"
          ],
          "name": "stdout"
        }
      ]
    },
    {
      "cell_type": "code",
      "metadata": {
        "id": "suOB-omVgXVn",
        "colab_type": "code",
        "colab": {
          "base_uri": "https://localhost:8080/",
          "height": 34
        },
        "outputId": "9dd2afd7-4022-4ed7-e041-3f3e01876e52"
      },
      "source": [
        "def multiply_list_by_two(my_list):\n",
        "  for i in range(len(my_list)):\n",
        "    my_list[i] = my_list[i] * 2\n",
        "  return my_list\n",
        "    \n",
        "print(multiply_list_by_two([2,4,8]))"
      ],
      "execution_count": 152,
      "outputs": [
        {
          "output_type": "stream",
          "text": [
            "[4, 8, 16]\n"
          ],
          "name": "stdout"
        }
      ]
    },
    {
      "cell_type": "markdown",
      "metadata": {
        "id": "fwdVI3mFbFoT",
        "colab_type": "text"
      },
      "source": [
        "# Exercises\n",
        "\n"
      ]
    },
    {
      "cell_type": "markdown",
      "metadata": {
        "id": "FwJz3q7HaeZf",
        "colab_type": "text"
      },
      "source": [
        "## Variables\n",
        "\n"
      ]
    },
    {
      "cell_type": "markdown",
      "metadata": {
        "id": "jbWkaxU7bQ3t",
        "colab_type": "text"
      },
      "source": [
        "1.   Create a variable called `x`, which should be equal to 5\n",
        "2.   Create a variable called `y` which should be equal to 7\n",
        "3.   Multiply `x` and `y`, and store the result in a variable called `z`.\n",
        "4.   Multiply `z` with three, and store the result back in `z`.\n",
        "5.   Print `z`."
      ]
    },
    {
      "cell_type": "code",
      "metadata": {
        "id": "Z3jYAAsUa69L",
        "colab_type": "code",
        "colab": {
          "base_uri": "https://localhost:8080/",
          "height": 0
        },
        "outputId": "42058b10-0beb-4d44-9b7b-1f440fcdefdc"
      },
      "source": [
        "x = 5\n",
        "y = 7\n",
        "z = x * y\n",
        "z = z *3\n",
        "print(z)"
      ],
      "execution_count": 184,
      "outputs": [
        {
          "output_type": "stream",
          "text": [
            "105\n"
          ],
          "name": "stdout"
        }
      ]
    },
    {
      "cell_type": "code",
      "metadata": {
        "id": "EyKAjnZ2bbqq",
        "colab_type": "code",
        "colab": {
          "base_uri": "https://localhost:8080/",
          "height": 0
        },
        "outputId": "d4b6a04e-b565-4f62-949a-7643a9f1bb98"
      },
      "source": [
        "check_answer(0, my_answer = z)"
      ],
      "execution_count": 185,
      "outputs": [
        {
          "output_type": "stream",
          "text": [
            "Correct! Here is a random programming quote:\n",
            "walking on water and developing software from a specification are easy if both are frozen.- edward v berard\n"
          ],
          "name": "stdout"
        }
      ]
    },
    {
      "cell_type": "markdown",
      "metadata": {
        "id": "fXbzFltmksAw",
        "colab_type": "text"
      },
      "source": [
        "## For-loops"
      ]
    },
    {
      "cell_type": "markdown",
      "metadata": {
        "id": "3PTF7_a0k4vk",
        "colab_type": "text"
      },
      "source": [
        "Here is a list of numbers. Now try to modify the list by dividing all the numbers by 16."
      ]
    },
    {
      "cell_type": "code",
      "metadata": {
        "id": "FUD9YqpjlGvL",
        "colab_type": "code",
        "colab": {}
      },
      "source": [
        "old_list = [16, 96, 32, 112, 48, 80, 128, 80, 48, 64, 80, 80, 64, 48, 64, 48, 80, 64, 96, 48, 48, 96, 80, 48]\n",
        "\n",
        "for i in range(len(old_list)):\n",
        "  old_list[i] = old_list[i]/16  \n",
        "\n",
        "# or using lambda functions: new_list = [x/16 for x in old_list]"
      ],
      "execution_count": 0,
      "outputs": []
    },
    {
      "cell_type": "code",
      "metadata": {
        "id": "KJunrkcMlnmL",
        "colab_type": "code",
        "colab": {
          "base_uri": "https://localhost:8080/",
          "height": 0
        },
        "outputId": "04740840-0a5f-4c26-d0f3-1d256b3807d0"
      },
      "source": [
        "check_answer(1, my_answer = new_list[12])"
      ],
      "execution_count": 187,
      "outputs": [
        {
          "output_type": "stream",
          "text": [
            "Correct! Here is a random programming quote:\n",
            "programming today is a race between software engineers striving to build bigger and better idiot-proof programs, and the universe trying to produce bigger and better idiots. so far, the universe is winning. - rick cook\n"
          ],
          "name": "stdout"
        }
      ]
    },
    {
      "cell_type": "markdown",
      "metadata": {
        "id": "j_7Vi76gnM1q",
        "colab_type": "text"
      },
      "source": [
        "## Functions"
      ]
    },
    {
      "cell_type": "markdown",
      "metadata": {
        "id": "t_eIv9svnQu6",
        "colab_type": "text"
      },
      "source": [
        "Write a function `fiets_appender` that takes as input a string, and appends 'fiets' to that string. If `x` is a string, then you can append text to the string by simply doing `x + 'some text'`, for example:"
      ]
    },
    {
      "cell_type": "code",
      "metadata": {
        "id": "VXCIATwKnLrm",
        "colab_type": "code",
        "colab": {
          "base_uri": "https://localhost:8080/",
          "height": 34
        },
        "outputId": "397dbbe7-280f-4834-bbd0-010945cb4aeb"
      },
      "source": [
        "x = 'programming'\n",
        "y = x + ' is fun'\n",
        "print(y)"
      ],
      "execution_count": 188,
      "outputs": [
        {
          "output_type": "stream",
          "text": [
            "programming is fun\n"
          ],
          "name": "stdout"
        }
      ]
    },
    {
      "cell_type": "code",
      "metadata": {
        "id": "jO5ugDt2nxgk",
        "colab_type": "code",
        "colab": {}
      },
      "source": [
        "def fiets_appender(my_string):\n",
        "  return my_string + 'fiets'"
      ],
      "execution_count": 0,
      "outputs": []
    },
    {
      "cell_type": "code",
      "metadata": {
        "id": "vpQgWBU4n2up",
        "colab_type": "code",
        "colab": {
          "base_uri": "https://localhost:8080/",
          "height": 70
        },
        "outputId": "add426fe-e483-4d6a-e08b-5495a22eca09"
      },
      "source": [
        "print(fiets_appender('bak'))\n",
        "check_answer(2, my_answer = fiets_appender('bak'))"
      ],
      "execution_count": 190,
      "outputs": [
        {
          "output_type": "stream",
          "text": [
            "bakfiets\n",
            "Correct! Here is a random programming quote:\n",
            "there is nothing quite so permanent as a quick fix. - unknown\n"
          ],
          "name": "stdout"
        }
      ]
    },
    {
      "cell_type": "markdown",
      "metadata": {
        "id": "L1zey-6utXIn",
        "colab_type": "text"
      },
      "source": [
        "# Code breaking"
      ]
    },
    {
      "cell_type": "markdown",
      "metadata": {
        "id": "hqb5SqzeyCCA",
        "colab_type": "text"
      },
      "source": [
        "While browing the internet, you came across a file that looks like gibberish. \n",
        "\n",
        "```\n",
        "y jgrrjc egpj emcq glrm y ncr qfmu ylb yqiq dmp y uyzzgr. rfc qfmn iccncp jmmiq bmul yr fcp, qkgjcq ylb qywq:\n",
        "\"umsjb wms jgic y jmtcjw djsddw jgrrjc ufgrc pyzzgr, mp y asrcqw ummrcqjw jgrrjc zpmul pyzzgr?\"\n",
        "\"yarsyjjw\", qywq rfc jgrrjc egpj, \"g bml'r rfgli kw nwrfml umsjb lmrgac.\"\n",
        "```\n",
        "Either someone let their cat walk on their keyboard, or it's an encrypted file. Only one way to find out!\n",
        "\n",
        "This file looks like it's encrypted with the so called **Ceasar Cipher**; encrpyting a message by shifting all letters in the alphabet by a fixed amount of positions. There is definitely no Ceasar Cipher decryptor on the internet. No, really, there is none. No need to Google it. \n",
        "\n",
        "...\n",
        "\n",
        "Okay, okay, there's plenty. Let's assume there isn't though, so we can enjoy the wonderful experience of programming one ourselves in Python!"
      ]
    },
    {
      "cell_type": "markdown",
      "metadata": {
        "id": "iF6ryAxqx-6K",
        "colab_type": "text"
      },
      "source": [
        "## Breaking down the problem"
      ]
    },
    {
      "cell_type": "markdown",
      "metadata": {
        "id": "bRbUIKrL2yng",
        "colab_type": "text"
      },
      "source": [
        "The code we encountered was:\n",
        "\n"
      ]
    },
    {
      "cell_type": "markdown",
      "metadata": {
        "id": "6C_FTIoM8I8W",
        "colab_type": "text"
      },
      "source": [
        "Let's start by breaking our problem down into steps.\n",
        "\n",
        "\n",
        "1.   Create a function that shifts a letter by x positions in the alphabet\n",
        "2.   Create a function that applies the first function to all letters in a string\n",
        "3.   Apply our function to all letters in the code\n",
        "\n"
      ]
    },
    {
      "cell_type": "markdown",
      "metadata": {
        "id": "Xs5sqo6OGSLc",
        "colab_type": "text"
      },
      "source": [
        "## 1. Create a function that shifts a letter in the alphabet"
      ]
    },
    {
      "cell_type": "markdown",
      "metadata": {
        "id": "kjJxpniTGsF6",
        "colab_type": "text"
      },
      "source": [
        "Let's start with step 1! Basically, this can also be broken down into smaller steps.\n",
        "\n",
        "1.   Get as input a letter\n",
        "2.   Find that letter in the alphabet\n",
        "3.   Find the letter in the alphabet that is two positions further\n",
        "4.   Return that letter\n",
        "\n",
        "Let's start simple, by creating a function called `shift_letter()`, that takes as input a variable called `my_letter` and just returns that letter."
      ]
    },
    {
      "cell_type": "code",
      "metadata": {
        "id": "JTn84stR9s90",
        "colab_type": "code",
        "colab": {}
      },
      "source": [
        "def shift_letter(my_letter):\n",
        "  return my_letter"
      ],
      "execution_count": 0,
      "outputs": []
    },
    {
      "cell_type": "code",
      "metadata": {
        "id": "t88510DuooXE",
        "colab_type": "code",
        "colab": {
          "base_uri": "https://localhost:8080/",
          "height": 52
        },
        "outputId": "3ef59dcb-281a-4c23-ffe6-d4b68da1a700"
      },
      "source": [
        "check_answer(3, my_answer = shift_letter('c'))"
      ],
      "execution_count": 203,
      "outputs": [
        {
          "output_type": "stream",
          "text": [
            "Correct! Here is a random programming quote:\n",
            "every developer has a test environment. some are lucky enough to also have a separate production system. - unknown\n"
          ],
          "name": "stdout"
        }
      ]
    },
    {
      "cell_type": "markdown",
      "metadata": {
        "id": "03FbB2fw94If",
        "colab_type": "text"
      },
      "source": [
        "Okay! Now let's take it one step further. Let's improve the function, so it returns the index of my_letter in the alphabet, i.e. if our input is `c` it should return `3`. To do so:\n",
        "\n",
        "\n",
        "1. Define `alphabet`, which is a list of the letters in the alphabet in the right order. Hint; this can be done faster than by just typing it out, just Google `alphabet in python` and see what you find!\n",
        "\n",
        "2.   Then we need to find the index of `my_letter` in `alphabet`. To find the index of an element `x` in a list with the name `y`, do `x.index(y)`\n",
        "\n",
        "3. Store that value as `index` and return it!\n",
        "\n",
        " "
      ]
    },
    {
      "cell_type": "code",
      "metadata": {
        "id": "sQPRYCoo-NQ2",
        "colab_type": "code",
        "colab": {}
      },
      "source": [
        "import string\n",
        "\n",
        "def shift_letter(my_letter):\n",
        "  alphabet = list(string.ascii_lowercase)\n",
        "  index = alphabet.index(my_letter)\n",
        "  return index"
      ],
      "execution_count": 0,
      "outputs": []
    },
    {
      "cell_type": "code",
      "metadata": {
        "id": "PYGLMuxao2w5",
        "colab_type": "code",
        "colab": {
          "base_uri": "https://localhost:8080/",
          "height": 70
        },
        "outputId": "1f855db7-3f28-4951-e0c2-c5bff2a00aec"
      },
      "source": [
        "print(shift_letter('f'))\n",
        "check_answer(4, my_answer = shift_letter('f'))"
      ],
      "execution_count": 205,
      "outputs": [
        {
          "output_type": "stream",
          "text": [
            "5\n",
            "Correct! Here is a random programming quote:\n",
            "programming is like sex. one mistake and you have to support it for the rest of your life. - michael sinz\n"
          ],
          "name": "stdout"
        }
      ]
    },
    {
      "cell_type": "markdown",
      "metadata": {
        "id": "Wls2B6pn_jpK",
        "colab_type": "text"
      },
      "source": [
        "Now, what we want to do is find the index of the letter that we want to return. So if we want to shift all letters by `2` in our Caesar Cipher, we'd have to get the letter from the alphabet at position `index + 2`. Let's make our function a bit more flexible though, and give the user the option to pass the desired shift as an argument called `shift`. So for now, adapt the function so `new_shift` is calculated as `index + shift`, and return that value."
      ]
    },
    {
      "cell_type": "code",
      "metadata": {
        "id": "Th8sMDlyAUyG",
        "colab_type": "code",
        "colab": {}
      },
      "source": [
        "def shift_letter(my_letter,shift = 2):\n",
        "  alphabet = list(string.ascii_lowercase)\n",
        "  index = alphabet.index(my_letter)\n",
        "  new_index = index + shift\n",
        "  return new_index"
      ],
      "execution_count": 0,
      "outputs": []
    },
    {
      "cell_type": "code",
      "metadata": {
        "id": "u4u2tMW_o-WM",
        "colab_type": "code",
        "colab": {
          "base_uri": "https://localhost:8080/",
          "height": 34
        },
        "outputId": "2d992955-c764-4f25-90bb-5a351208cc11"
      },
      "source": [
        "check_answer(5, my_answer = shift_letter('c',4))"
      ],
      "execution_count": 207,
      "outputs": [
        {
          "output_type": "stream",
          "text": [
            "Your answer seems to be incorrect. Your answer is 6, but the expected result is g.\n"
          ],
          "name": "stdout"
        }
      ]
    },
    {
      "cell_type": "markdown",
      "metadata": {
        "id": "Ua1hEaUb_Itb",
        "colab_type": "text"
      },
      "source": [
        "We're almost there it seems. Now all we need to do is return the right letter! We have already seen earlier how we can take the `n'th` element of a list. In this case, we want to get the `index`'th letter of the list `alphabet`. Let's call that `new_letter` and return it."
      ]
    },
    {
      "cell_type": "code",
      "metadata": {
        "id": "uLJgSQV_4r7g",
        "colab_type": "code",
        "colab": {}
      },
      "source": [
        "def shift_letter(my_letter,shift = 2):\n",
        "  alphabet = list(string.ascii_lowercase)\n",
        "  index = alphabet.index(my_letter)\n",
        "  new_index = index + shift\n",
        "  new_letter = alphabet[new_index]\n",
        "  return new_letter"
      ],
      "execution_count": 0,
      "outputs": []
    },
    {
      "cell_type": "code",
      "metadata": {
        "id": "CTlM4lDV6c9c",
        "colab_type": "code",
        "outputId": "436942ea-3b33-4e40-f2b8-c6ce42867919",
        "colab": {
          "base_uri": "https://localhost:8080/",
          "height": 34
        }
      },
      "source": [
        "shift_letter('a',2)"
      ],
      "execution_count": 136,
      "outputs": [
        {
          "output_type": "execute_result",
          "data": {
            "text/plain": [
              "'c'"
            ]
          },
          "metadata": {
            "tags": []
          },
          "execution_count": 136
        }
      ]
    },
    {
      "cell_type": "code",
      "metadata": {
        "id": "dC9Nf5NJ60HR",
        "colab_type": "code",
        "outputId": "85fd2c07-28e0-4d25-d77b-ed73e0ee3df9",
        "colab": {
          "base_uri": "https://localhost:8080/",
          "height": 274
        }
      },
      "source": [
        "shift_letter('z',2)"
      ],
      "execution_count": 137,
      "outputs": [
        {
          "output_type": "error",
          "ename": "IndexError",
          "evalue": "ignored",
          "traceback": [
            "\u001b[0;31m---------------------------------------------------------------------------\u001b[0m",
            "\u001b[0;31mIndexError\u001b[0m                                Traceback (most recent call last)",
            "\u001b[0;32m<ipython-input-137-1664c58a3a3a>\u001b[0m in \u001b[0;36m<module>\u001b[0;34m()\u001b[0m\n\u001b[0;32m----> 1\u001b[0;31m \u001b[0mshift_letter\u001b[0m\u001b[0;34m(\u001b[0m\u001b[0;34m'z'\u001b[0m\u001b[0;34m,\u001b[0m\u001b[0;36m2\u001b[0m\u001b[0;34m)\u001b[0m\u001b[0;34m\u001b[0m\u001b[0;34m\u001b[0m\u001b[0m\n\u001b[0m",
            "\u001b[0;32m<ipython-input-135-e128a548ca3d>\u001b[0m in \u001b[0;36mshift_letter\u001b[0;34m(my_letter, shift)\u001b[0m\n\u001b[1;32m      3\u001b[0m   \u001b[0mindex\u001b[0m \u001b[0;34m=\u001b[0m \u001b[0malphabet\u001b[0m\u001b[0;34m.\u001b[0m\u001b[0mindex\u001b[0m\u001b[0;34m(\u001b[0m\u001b[0mmy_letter\u001b[0m\u001b[0;34m)\u001b[0m\u001b[0;34m\u001b[0m\u001b[0;34m\u001b[0m\u001b[0m\n\u001b[1;32m      4\u001b[0m   \u001b[0mnew_index\u001b[0m \u001b[0;34m=\u001b[0m \u001b[0mindex\u001b[0m \u001b[0;34m+\u001b[0m \u001b[0mshift\u001b[0m\u001b[0;34m\u001b[0m\u001b[0;34m\u001b[0m\u001b[0m\n\u001b[0;32m----> 5\u001b[0;31m   \u001b[0mnew_letter\u001b[0m \u001b[0;34m=\u001b[0m \u001b[0malphabet\u001b[0m\u001b[0;34m[\u001b[0m\u001b[0mnew_index\u001b[0m\u001b[0;34m]\u001b[0m\u001b[0;34m\u001b[0m\u001b[0;34m\u001b[0m\u001b[0m\n\u001b[0m\u001b[1;32m      6\u001b[0m   \u001b[0;32mreturn\u001b[0m \u001b[0mnew_letter\u001b[0m\u001b[0;34m\u001b[0m\u001b[0;34m\u001b[0m\u001b[0m\n",
            "\u001b[0;31mIndexError\u001b[0m: list index out of range"
          ]
        }
      ]
    },
    {
      "cell_type": "markdown",
      "metadata": {
        "id": "qOjLcVA8Bftk",
        "colab_type": "text"
      },
      "source": [
        "Oops! Seems that we forgot something. If the user enters the letter `z` and shift `2`, our function will try to find the `28`'th letter of the alphabet. We should use the modulo operator (`%`) for this, which returns the remainder after divsion;\n",
        "\n",
        "*   `4 % 26` -> 4, because 4 is smaller than 26, so after division we are left with 2.\n",
        "*   `28 % 26` -> 2, because 26 fits in 28 once, and then we are left with 2.\n",
        "*   `10 % 4` -> 2, because 4 fits in 10 twice, and then we are left with 2.\n",
        "\n",
        "See if you can apply this to our function. Hint: Make a change in the line where `new_index` is calculated, and don't forget the use of brackets!\n",
        "\n"
      ]
    },
    {
      "cell_type": "code",
      "metadata": {
        "id": "0vSsoE5R64n5",
        "colab_type": "code",
        "colab": {}
      },
      "source": [
        "def shift_letter(my_letter,shift = 2):\n",
        "  alphabet = list(string.ascii_lowercase)\n",
        "  index = alphabet.index(my_letter)\n",
        "  new_index = (index + shift) % 26\n",
        "  new_letter = alphabet[new_index]\n",
        "  return new_letter"
      ],
      "execution_count": 0,
      "outputs": []
    },
    {
      "cell_type": "code",
      "metadata": {
        "id": "m9Zw7Qys7AR_",
        "colab_type": "code",
        "outputId": "466b355f-edf1-4abf-eedf-276b15b119d1",
        "colab": {
          "base_uri": "https://localhost:8080/",
          "height": 34
        }
      },
      "source": [
        "shift_letter('z',2)"
      ],
      "execution_count": 139,
      "outputs": [
        {
          "output_type": "execute_result",
          "data": {
            "text/plain": [
              "'b'"
            ]
          },
          "metadata": {
            "tags": []
          },
          "execution_count": 139
        }
      ]
    },
    {
      "cell_type": "code",
      "metadata": {
        "id": "2ccNVToe7ESx",
        "colab_type": "code",
        "outputId": "404a2b59-f532-45ce-c799-5fcaca378d37",
        "colab": {
          "base_uri": "https://localhost:8080/",
          "height": 292
        }
      },
      "source": [
        "shift_letter(',',2)"
      ],
      "execution_count": 140,
      "outputs": [
        {
          "output_type": "error",
          "ename": "ValueError",
          "evalue": "ignored",
          "traceback": [
            "\u001b[0;31m---------------------------------------------------------------------------\u001b[0m",
            "\u001b[0;31mValueError\u001b[0m                                Traceback (most recent call last)",
            "\u001b[0;32m<ipython-input-140-73d1131a4c9e>\u001b[0m in \u001b[0;36m<module>\u001b[0;34m()\u001b[0m\n\u001b[0;32m----> 1\u001b[0;31m \u001b[0mshift_letter\u001b[0m\u001b[0;34m(\u001b[0m\u001b[0;34m','\u001b[0m\u001b[0;34m,\u001b[0m\u001b[0;36m2\u001b[0m\u001b[0;34m)\u001b[0m\u001b[0;34m\u001b[0m\u001b[0;34m\u001b[0m\u001b[0m\n\u001b[0m",
            "\u001b[0;32m<ipython-input-138-2fce9d24f8ff>\u001b[0m in \u001b[0;36mshift_letter\u001b[0;34m(my_letter, shift)\u001b[0m\n\u001b[1;32m      1\u001b[0m \u001b[0;32mdef\u001b[0m \u001b[0mshift_letter\u001b[0m\u001b[0;34m(\u001b[0m\u001b[0mmy_letter\u001b[0m\u001b[0;34m,\u001b[0m\u001b[0mshift\u001b[0m \u001b[0;34m=\u001b[0m \u001b[0;36m2\u001b[0m\u001b[0;34m)\u001b[0m\u001b[0;34m:\u001b[0m\u001b[0;34m\u001b[0m\u001b[0;34m\u001b[0m\u001b[0m\n\u001b[1;32m      2\u001b[0m   \u001b[0malphabet\u001b[0m \u001b[0;34m=\u001b[0m \u001b[0mlist\u001b[0m\u001b[0;34m(\u001b[0m\u001b[0mstring\u001b[0m\u001b[0;34m.\u001b[0m\u001b[0mascii_lowercase\u001b[0m\u001b[0;34m)\u001b[0m\u001b[0;34m\u001b[0m\u001b[0;34m\u001b[0m\u001b[0m\n\u001b[0;32m----> 3\u001b[0;31m   \u001b[0mindex\u001b[0m \u001b[0;34m=\u001b[0m \u001b[0malphabet\u001b[0m\u001b[0;34m.\u001b[0m\u001b[0mindex\u001b[0m\u001b[0;34m(\u001b[0m\u001b[0mmy_letter\u001b[0m\u001b[0;34m)\u001b[0m\u001b[0;34m\u001b[0m\u001b[0;34m\u001b[0m\u001b[0m\n\u001b[0m\u001b[1;32m      4\u001b[0m   \u001b[0mnew_index\u001b[0m \u001b[0;34m=\u001b[0m \u001b[0;34m(\u001b[0m\u001b[0mindex\u001b[0m \u001b[0;34m+\u001b[0m \u001b[0mshift\u001b[0m\u001b[0;34m)\u001b[0m \u001b[0;34m%\u001b[0m \u001b[0;36m26\u001b[0m\u001b[0;34m\u001b[0m\u001b[0;34m\u001b[0m\u001b[0m\n\u001b[1;32m      5\u001b[0m   \u001b[0mnew_letter\u001b[0m \u001b[0;34m=\u001b[0m \u001b[0malphabet\u001b[0m\u001b[0;34m[\u001b[0m\u001b[0mnew_index\u001b[0m\u001b[0;34m]\u001b[0m\u001b[0;34m\u001b[0m\u001b[0;34m\u001b[0m\u001b[0m\n",
            "\u001b[0;31mValueError\u001b[0m: ',' is not in list"
          ]
        }
      ]
    },
    {
      "cell_type": "markdown",
      "metadata": {
        "id": "FMDiUJMLDByQ",
        "colab_type": "text"
      },
      "source": [
        "Oh no! One more problem. If the user enters a character that's not in the alphabet, our function breaks down. We can fix this with an `if-else` statement.\n",
        "\n",
        "```\n",
        "def shift_letter(my_letter,shift = 2):\n",
        "  alphabet = list(string.ascii_lowercase)\n",
        "  if my_letter in alphabet:\n",
        "    # Find the right letter in the alphabet\n",
        "  else:\n",
        "    # just return the caharcter that was given as input\n",
        "```\n",
        "\n"
      ]
    },
    {
      "cell_type": "code",
      "metadata": {
        "id": "9zU9RIR65kYx",
        "colab_type": "code",
        "colab": {}
      },
      "source": [
        "def shift_letter(my_letter,shift = 2):\n",
        "  alphabet = list(string.ascii_lowercase)\n",
        "  if my_letter in alphabet:\n",
        "    index = alphabet.index(my_letter)\n",
        "    new_index = (index + shift) % 26\n",
        "    new_letter = alphabet[new_index]\n",
        "    return new_letter\n",
        "  else:\n",
        "    return my_letter"
      ],
      "execution_count": 0,
      "outputs": []
    },
    {
      "cell_type": "code",
      "metadata": {
        "id": "S9LQrgcAF-aE",
        "colab_type": "code",
        "colab": {
          "base_uri": "https://localhost:8080/",
          "height": 34
        },
        "outputId": "48ab0665-47a2-42ff-89b2-6ecaf43db66a"
      },
      "source": [
        "shift_letter(',',2)"
      ],
      "execution_count": 142,
      "outputs": [
        {
          "output_type": "execute_result",
          "data": {
            "text/plain": [
              "','"
            ]
          },
          "metadata": {
            "tags": []
          },
          "execution_count": 142
        }
      ]
    },
    {
      "cell_type": "code",
      "metadata": {
        "id": "hEM51pcOF_Rp",
        "colab_type": "code",
        "colab": {
          "base_uri": "https://localhost:8080/",
          "height": 34
        },
        "outputId": "8145ebaf-a90e-4427-e8fc-0aa04cdf66cf"
      },
      "source": [
        "shift_letter('a',3)"
      ],
      "execution_count": 143,
      "outputs": [
        {
          "output_type": "execute_result",
          "data": {
            "text/plain": [
              "'d'"
            ]
          },
          "metadata": {
            "tags": []
          },
          "execution_count": 143
        }
      ]
    },
    {
      "cell_type": "code",
      "metadata": {
        "id": "pTy233zDF_qp",
        "colab_type": "code",
        "colab": {
          "base_uri": "https://localhost:8080/",
          "height": 34
        },
        "outputId": "aec5608e-954b-4517-e4c1-8e834940e5f4"
      },
      "source": [
        "shift_letter('x',3)"
      ],
      "execution_count": 144,
      "outputs": [
        {
          "output_type": "execute_result",
          "data": {
            "text/plain": [
              "'a'"
            ]
          },
          "metadata": {
            "tags": []
          },
          "execution_count": 144
        }
      ]
    },
    {
      "cell_type": "markdown",
      "metadata": {
        "id": "kXn9Dxr1GqDF",
        "colab_type": "text"
      },
      "source": [
        ""
      ]
    },
    {
      "cell_type": "markdown",
      "metadata": {
        "id": "Pii5wCQ9GFlp",
        "colab_type": "text"
      },
      "source": [
        "## 2. Create a function that applies our shift_letter function to an entire sring"
      ]
    },
    {
      "cell_type": "markdown",
      "metadata": {
        "id": "2iYAZNFVO2jL",
        "colab_type": "text"
      },
      "source": [
        "Now, if there is still enough time, try to create a function `decode_string(my_string, shift)`, that shifts all letters in a string using the function we created earlier. There are multiple ways to do this. Pseudocode for a possible solution is given below, you can use that as a guideline on how to set up your function if you want\n",
        "\n",
        "If time is short however, skip to the next section where a working function is given and apply it.\n",
        "\n",
        "```\n",
        "def decode_string(my_string, shift):\n",
        "  # convert the string to a list of characters.\n",
        "  for i in ???: # loop over the created list of characters \n",
        "    my_string_as_list[i] = ... # shift the i'the element of the list, using our function that we created earlier.\n",
        "  # convert the list of characters back to a string.\n",
        "  # return the new string\n",
        "```"
      ]
    },
    {
      "cell_type": "code",
      "metadata": {
        "id": "A7wdDy5oPS3E",
        "colab_type": "code",
        "colab": {}
      },
      "source": [
        "def decode_string(my_string, shift):\n",
        "  # good luck!\n",
        "  return 0"
      ],
      "execution_count": 0,
      "outputs": []
    },
    {
      "cell_type": "markdown",
      "metadata": {
        "id": "6pE7dQupVDdv",
        "colab_type": "text"
      },
      "source": [
        "## 3. Apply our function to the super-secret code"
      ]
    },
    {
      "cell_type": "markdown",
      "metadata": {
        "id": "NlAFxD5cKIWE",
        "colab_type": "text"
      },
      "source": [
        "Alright! Now we just need to apply our function to every element of the super-secret code. Let's first store the super-secret code in a variable:\n",
        "\n",
        "\n"
      ]
    },
    {
      "cell_type": "code",
      "metadata": {
        "id": "6owUSQ9oOzUA",
        "colab_type": "code",
        "colab": {}
      },
      "source": [
        "super_secret_code = '''\n",
        "y jgrrjc egpj emcq glrm y ncr qfmu ylb yqiq dmp y uyzzgr. rfc qfmn iccncp jmmiq bmul yr fcp, qkgjcq ylb qywq:\n",
        "\"umsjb wms jgic y jmtcjw djsddw jgrrjc ufgrc pyzzgr, mp y asrcqw ummrcqjw jgrrjc zpmul pyzzgr?\"\n",
        "\"yarsyjjw\", qywq rfc jgrrjc egpj, \"g bml'r rfgli kw nwrfml umsjb lmrgac.\"\n",
        "'''"
      ],
      "execution_count": 0,
      "outputs": []
    },
    {
      "cell_type": "markdown",
      "metadata": {
        "id": "DHJ0btEsVOcJ",
        "colab_type": "text"
      },
      "source": [
        "And here is a function that applies our shift_letter function to an entire string."
      ]
    },
    {
      "cell_type": "code",
      "metadata": {
        "id": "iw3MYF_44wyX",
        "colab_type": "code",
        "colab": {}
      },
      "source": [
        "def decode_string(my_string, shift):\n",
        "  my_string_as_list = list(my_string)\n",
        "  for i in range(len(my_string_as_list)):\n",
        "    my_string_as_list[i] = shift_letter(my_string_as_list[i], 2)\n",
        "  my_decoded_string = ''.join(my_string_as_list)\n",
        "  return my_decoded_string"
      ],
      "execution_count": 0,
      "outputs": []
    },
    {
      "cell_type": "markdown",
      "metadata": {
        "id": "NMHDr0ywV9l4",
        "colab_type": "text"
      },
      "source": [
        "Or, with [lambda functions](https://www.w3schools.com/python/python_lambda.asp) we could even do it in a single line!"
      ]
    },
    {
      "cell_type": "code",
      "metadata": {
        "id": "28A7E21SVp6t",
        "colab_type": "code",
        "colab": {}
      },
      "source": [
        "def decode_string(my_string, shift):\n",
        "  return ''.join([shift_letter(x,shift) for x in my_string])"
      ],
      "execution_count": 0,
      "outputs": []
    },
    {
      "cell_type": "code",
      "metadata": {
        "id": "-T9jwsDAL2Dt",
        "colab_type": "code",
        "colab": {
          "base_uri": "https://localhost:8080/",
          "height": 105
        },
        "outputId": "96a2ebae-3c79-4d9e-9b93-6312579bab5d"
      },
      "source": [
        "print(decode_string(super_secret_code, shift = 2))"
      ],
      "execution_count": 149,
      "outputs": [
        {
          "output_type": "stream",
          "text": [
            "\n",
            "a little girl goes into a pet show and asks for a wabbit. the shop keeper looks down at her, smiles and says:\n",
            "\"would you like a lovely fluffy little white rabbit, or a cutesy wootesly little brown rabbit?\"\n",
            "\"actually\", says the little girl, \"i don't think my python would notice.\"\n",
            "\n"
          ],
          "name": "stdout"
        }
      ]
    },
    {
      "cell_type": "markdown",
      "metadata": {
        "id": "b0WLkQs82xyK",
        "colab_type": "text"
      },
      "source": [
        ""
      ]
    }
  ]
}