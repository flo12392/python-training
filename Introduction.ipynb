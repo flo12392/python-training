{
  "nbformat": 4,
  "nbformat_minor": 0,
  "metadata": {
    "colab": {
      "name": "Untitled1.ipynb",
      "provenance": [],
      "include_colab_link": true
    },
    "kernelspec": {
      "name": "python3",
      "display_name": "Python 3"
    }
  },
  "cells": [
    {
      "cell_type": "markdown",
      "metadata": {
        "id": "view-in-github",
        "colab_type": "text"
      },
      "source": [
        "<a href=\"https://colab.research.google.com/github/flo12392/python-training/blob/master/Introduction.ipynb\" target=\"_parent\"><img src=\"https://colab.research.google.com/assets/colab-badge.svg\" alt=\"Open In Colab\"/></a>"
      ]
    },
    {
      "cell_type": "code",
      "metadata": {
        "id": "6EqpJgC5VJN6",
        "colab_type": "code",
        "colab": {}
      },
      "source": [
        ""
      ],
      "execution_count": 0,
      "outputs": []
    },
    {
      "cell_type": "code",
      "metadata": {
        "id": "1p0EOzf6YGS8",
        "colab_type": "code",
        "colab": {}
      },
      "source": [
        "# indexing at 0\n",
        "# for loop; range"
      ],
      "execution_count": 0,
      "outputs": []
    },
    {
      "cell_type": "markdown",
      "metadata": {
        "id": "O064ln8ltZ2k",
        "colab_type": "text"
      },
      "source": [
        "# Introduction"
      ]
    },
    {
      "cell_type": "markdown",
      "metadata": {
        "id": "Dlq-eXLPZT2R",
        "colab_type": "text"
      },
      "source": [
        "## Variables \n",
        "Python is dynamically-typed. This means that we do not need to define the type of a variable at run time."
      ]
    },
    {
      "cell_type": "code",
      "metadata": {
        "id": "KA4mK9ygaIAu",
        "colab_type": "code",
        "colab": {}
      },
      "source": [
        "x = 42"
      ],
      "execution_count": 0,
      "outputs": []
    },
    {
      "cell_type": "code",
      "metadata": {
        "id": "YxbYmIHeac61",
        "colab_type": "code",
        "outputId": "0724a28f-6b1d-421a-dc5c-38d4687dffbd",
        "colab": {
          "base_uri": "https://localhost:8080/",
          "height": 34
        }
      },
      "source": [
        "print(type(x))"
      ],
      "execution_count": 0,
      "outputs": [
        {
          "output_type": "stream",
          "text": [
            "<class 'int'>\n"
          ],
          "name": "stdout"
        }
      ]
    },
    {
      "cell_type": "code",
      "metadata": {
        "id": "BDMlwFrTaMWf",
        "colab_type": "code",
        "colab": {}
      },
      "source": [
        "y = 'VodafoneZiggo'"
      ],
      "execution_count": 0,
      "outputs": []
    },
    {
      "cell_type": "code",
      "metadata": {
        "id": "BhwmDAMLaTIU",
        "colab_type": "code",
        "outputId": "80252dcc-650c-4895-cb48-3fd891781695",
        "colab": {
          "base_uri": "https://localhost:8080/",
          "height": 34
        }
      },
      "source": [
        "print(type(y))"
      ],
      "execution_count": 0,
      "outputs": [
        {
          "output_type": "stream",
          "text": [
            "<class 'str'>\n"
          ],
          "name": "stdout"
        }
      ]
    },
    {
      "cell_type": "markdown",
      "metadata": {
        "id": "BEJucMFFqn5l",
        "colab_type": "text"
      },
      "source": [
        "Python is superpowerful. It can do basic arithmetics. Try adding a number to x. For example \n",
        "\n",
        "```\n",
        "x + 2\n",
        "x - 2\n",
        "x / 2\n",
        "x * 2\n",
        "```\n",
        "\n"
      ]
    },
    {
      "cell_type": "code",
      "metadata": {
        "id": "znb-xFHuroMf",
        "colab_type": "code",
        "outputId": "00523d56-a137-4bf8-80ce-b40d9b8102ba",
        "colab": {
          "base_uri": "https://localhost:8080/",
          "height": 34
        }
      },
      "source": [
        "# TODO: create a variable\n",
        "# TODO: Multiply the variable with three"
      ],
      "execution_count": 0,
      "outputs": [
        {
          "output_type": "execute_result",
          "data": {
            "text/plain": [
              "44"
            ]
          },
          "metadata": {
            "tags": []
          },
          "execution_count": 148
        }
      ]
    },
    {
      "cell_type": "markdown",
      "metadata": {
        "id": "5GD92bIZrdpZ",
        "colab_type": "text"
      },
      "source": [
        "Note that x itself has not changed, which we can check by doing\n",
        "\n",
        "\n",
        "```\n",
        "print(x)\n",
        "```\n",
        "\n",
        "Try it out!\n"
      ]
    },
    {
      "cell_type": "code",
      "metadata": {
        "id": "oSoDtCOEq2xd",
        "colab_type": "code",
        "outputId": "9ea3c8f4-4e85-4816-c85c-5795b412a7d8",
        "colab": {
          "base_uri": "https://localhost:8080/",
          "height": 34
        }
      },
      "source": [
        "print(x)"
      ],
      "execution_count": 0,
      "outputs": [
        {
          "output_type": "stream",
          "text": [
            "42\n"
          ],
          "name": "stdout"
        }
      ]
    },
    {
      "cell_type": "markdown",
      "metadata": {
        "id": "Yi0rVNYMrv-3",
        "colab_type": "text"
      },
      "source": [
        "If we want to change the value of x, we have to assign the value back, for example: \n",
        "\n",
        "```\n",
        "x = 2\n",
        "y = 3\n",
        "x = x + y\n",
        "```\n",
        "\n",
        "What do you think would happen if we print the value of x now? Try it out!"
      ]
    },
    {
      "cell_type": "code",
      "metadata": {
        "id": "uNEH6kUTr4pn",
        "colab_type": "code",
        "colab": {
          "base_uri": "https://localhost:8080/",
          "height": 34
        },
        "outputId": "8735f298-4afd-4d5a-d574-02e5f3d6f25f"
      },
      "source": [
        "x = 2\n",
        "y = 3\n",
        "x = x + y\n",
        "print(x)"
      ],
      "execution_count": 4,
      "outputs": [
        {
          "output_type": "stream",
          "text": [
            "5\n"
          ],
          "name": "stdout"
        }
      ]
    },
    {
      "cell_type": "markdown",
      "metadata": {
        "id": "kgYzRZdYp2k3",
        "colab_type": "text"
      },
      "source": [
        "## Lists\n",
        "We can also make lists of things. For example:\n",
        "\n",
        "```\n",
        "my_ocd = [1,2,3,4,6,5,7,8]\n",
        "my_favourite_yammer_hashtags = ['#openup','#teamup','#stepup']\n",
        "```\n",
        "\n",
        "\n",
        "Now, create your own list:"
      ]
    },
    {
      "cell_type": "code",
      "metadata": {
        "id": "-pK353Nq0a7x",
        "colab_type": "code",
        "colab": {}
      },
      "source": [
        "# TODO: Create a list here"
      ],
      "execution_count": 0,
      "outputs": []
    },
    {
      "cell_type": "markdown",
      "metadata": {
        "id": "xUqXgpwqqade",
        "colab_type": "text"
      },
      "source": [
        "We can add stuff to the list by using `.append()`. Try adding something and then print the list, for example:\n",
        "\n",
        "\n",
        "```\n",
        "my_favourite_yammer_hashtags.append('#kerstpakket')\n",
        "print(my_favourite_yammer_hashtags)\n",
        "```\n",
        "Note that in this case, `append` mutates the list, so you do not need to do\n",
        "\n",
        "```\n",
        "my_favourite_yammer_hashtags = my_favourite_yammer_hashtags.append('...')\n",
        "```\n",
        "\n",
        " \n"
      ]
    },
    {
      "cell_type": "code",
      "metadata": {
        "id": "6TGy9HtR0QTq",
        "colab_type": "code",
        "colab": {}
      },
      "source": [
        "# TODO: Add something to the list here!\n",
        "# TODO: Print your list"
      ],
      "execution_count": 0,
      "outputs": []
    },
    {
      "cell_type": "markdown",
      "metadata": {
        "id": "QJWv4YZ5sg1d",
        "colab_type": "text"
      },
      "source": [
        "We can extract the elements of a list with `[]`. Note that in python, indexing begins at `0`. So to extract the first element of a list called `x`, you could do:\n",
        "\n",
        "\n",
        "```\n",
        "x[0]\n",
        "```\n",
        "\n",
        "If you want to get the second element, use `x[1]`, etc. \n",
        "\n",
        "Try it out!\n"
      ]
    },
    {
      "cell_type": "code",
      "metadata": {
        "id": "JF5MwgW8dkMb",
        "colab_type": "code",
        "colab": {}
      },
      "source": [
        "# TODO: Get an element of your list by using []"
      ],
      "execution_count": 0,
      "outputs": []
    },
    {
      "cell_type": "markdown",
      "metadata": {
        "id": "DcZm9PmD0HqI",
        "colab_type": "text"
      },
      "source": [
        "## Functions"
      ]
    },
    {
      "cell_type": "markdown",
      "metadata": {
        "id": "L1zey-6utXIn",
        "colab_type": "text"
      },
      "source": [
        "# Code breaking"
      ]
    },
    {
      "cell_type": "markdown",
      "metadata": {
        "id": "hqb5SqzeyCCA",
        "colab_type": "text"
      },
      "source": [
        "While browing the internet, you came across a file that looks like gibberish. Either someone let their cat walk on their keyboard, or it's an encrypted file. Only one way to find out!\n",
        "\n",
        "One of the most common encryptions is the so called **Ceasar Cipher**; encrpyting a message by shifting all letters in the alphabet by a fixed amount of positions. There is definitely no Ceasar Cipher decryptor on the internet. No, really, there is none. No need to Google it. \n",
        "\n",
        "...\n",
        "\n",
        "Okay, okay, there's plenty. Let's assume there isn't though, so we can enjoy the wonderful experience of programming one ourselves in Python!"
      ]
    },
    {
      "cell_type": "markdown",
      "metadata": {
        "id": "iF6ryAxqx-6K",
        "colab_type": "text"
      },
      "source": [
        "## Loading the data"
      ]
    },
    {
      "cell_type": "markdown",
      "metadata": {
        "id": "bRbUIKrL2yng",
        "colab_type": "text"
      },
      "source": [
        "First, we need to load the .txt file into Python. "
      ]
    },
    {
      "cell_type": "code",
      "metadata": {
        "id": "7wXwQ8scdsmA",
        "colab_type": "code",
        "outputId": "8cf30bf5-1d31-440d-e3b9-81e373d30151",
        "colab": {
          "base_uri": "https://localhost:8080/",
          "height": 176
        }
      },
      "source": [
        "import requests\n",
        "url = 'https://raw.githubusercontent.com/flo12392/python-training/master/data/super_secret_code.txt'\n",
        "response = requests.get(url)\n",
        "data = response.text\n",
        "data = data.split('\\n')\n",
        "display(data)"
      ],
      "execution_count": 9,
      "outputs": [
        {
          "output_type": "display_data",
          "data": {
            "text/plain": [
              "['\"yjuywq ambc yq gd rfc esw ufm clbq sn kyglryglgle wmsp ambc ugjj zc y tgmjclr nqwafmnyrf ufm ilmuq ufcpc wms jgtc.\" - kyprgl emjbgle',\n",
              " '\"fc yrfiabop yrfiq yrfiafkdp qeb txv moldoxjjbop tolqb moldoxjp, qebk qeb cfopq tllambzhbo qexq zxjb xilkd tlria abpqolv zfsfifwxqflk.\" - dboxia tbfkybod',\n",
              " '\"lkb jxk’p zoxmmv plcqtxob fp xklqebo jxk’p crii-qfjb gly.\" - gbppfzx dxpqlk',\n",
              " '\"lnkcnwiiejc eo hega oat. kja ieopwga wjz ukq dwra pk oqllknp ep bkn pda naop kb ukqn heba.\" - ieydwah oejv',\n",
              " '\"swhgejc kj swpan wjz zarahklejc okbpswna bnki w olayebeywpekj wna awou eb xkpd wna bnkvaj.\"- azswnz r xanwnz',\n",
              " '\"sgdqd hr mnsghmf pthsd rn odqlzmdms zr z pthbj ehw.\" - tmjmnvm',\n",
              " '\"moldoxjjfkd qlaxv fp x oxzb ybqtbbk plcqtxob bkdfkbbop pqofsfkd ql yrfia yfddbo xka ybqqbo faflq-mollc moldoxjp, xka qeb rkfsbopb qovfkd ql molarzb yfddbo xka ybqqbo faflqp. pl cxo, qeb rkfsbopb fp tfkkfkd.\" - ofzh zllh',\n",
              " '\"bczseegle gq jgic zcgle rfc bcrcargtc gl y apgkc kmtgc ufcpc wms ypc yjqm rfc kspbcpcp.\" - slilmul',\n",
              " '']"
            ]
          },
          "metadata": {
            "tags": []
          }
        }
      ]
    },
    {
      "cell_type": "code",
      "metadata": {
        "id": "uLJgSQV_4r7g",
        "colab_type": "code",
        "colab": {}
      },
      "source": [
        "def shift_letter(my_letter,letters_list,shift = 2):\n",
        "  index = letters_list.index(my_letter)\n",
        "  new_index = (index + shift) % 26\n",
        "  new_letter = letters_list[new_index]\n",
        "  return new_letter"
      ],
      "execution_count": 0,
      "outputs": []
    },
    {
      "cell_type": "code",
      "metadata": {
        "id": "iw3MYF_44wyX",
        "colab_type": "code",
        "colab": {
          "base_uri": "https://localhost:8080/",
          "height": 52
        },
        "outputId": "67ec7821-adfc-421d-8199-4e3866ce824b"
      },
      "source": [
        "my_string = data[0]\n",
        "print(my_string)\n",
        "for "
      ],
      "execution_count": 27,
      "outputs": [
        {
          "output_type": "stream",
          "text": [
            "\"yjuywq ambc yq gd rfc esw ufm clbq sn kyglryglgle wmsp ambc ugjj zc y tgmjclr nqwafmnyrf ufm ilmuq ufcpc wms jgtc.\" - kyprgl emjbgle\n"
          ],
          "name": "stdout"
        },
        {
          "output_type": "execute_result",
          "data": {
            "text/plain": [
              "'y'"
            ]
          },
          "metadata": {
            "tags": []
          },
          "execution_count": 27
        }
      ]
    },
    {
      "cell_type": "markdown",
      "metadata": {
        "id": "b0WLkQs82xyK",
        "colab_type": "text"
      },
      "source": [
        ""
      ]
    }
  ]
}