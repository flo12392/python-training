{
  "nbformat": 4,
  "nbformat_minor": 0,
  "metadata": {
    "colab": {
      "name": "Untitled1.ipynb",
      "provenance": [],
      "include_colab_link": true
    },
    "kernelspec": {
      "display_name": "Python 3",
      "language": "python",
      "name": "python3"
    },
    "language_info": {
      "codemirror_mode": {
        "name": "ipython",
        "version": 3
      },
      "file_extension": ".py",
      "mimetype": "text/x-python",
      "name": "python",
      "nbconvert_exporter": "python",
      "pygments_lexer": "ipython3",
      "version": "3.7.5"
    }
  },
  "cells": [
    {
      "cell_type": "markdown",
      "metadata": {
        "id": "view-in-github",
        "colab_type": "text"
      },
      "source": [
        "<a href=\"https://colab.research.google.com/github/flo12392/python-training/blob/master/Introduction-with-answers.ipynb\" target=\"_parent\"><img src=\"https://colab.research.google.com/assets/colab-badge.svg\" alt=\"Open In Colab\"/></a>"
      ]
    },
    {
      "cell_type": "markdown",
      "metadata": {
        "colab_type": "text",
        "id": "aelcInq3gFGN"
      },
      "source": [
        "# Helper functions"
      ]
    },
    {
      "cell_type": "markdown",
      "metadata": {
        "colab_type": "text",
        "id": "bFDL7sDMgId3"
      },
      "source": [
        "Just run this cell and ignore it :)"
      ]
    },
    {
      "cell_type": "code",
      "metadata": {
        "colab_type": "code",
        "id": "3q1flKgr7Sel",
        "colab": {}
      },
      "source": [
        "from random import shuffle\n",
        "import string\n",
        "\n",
        "quotes = ['zodzbh xlwv zh ru gsv tfb dsl vmwh fk nzrmgzrmrmt blfi xlwv droo yv z erlovmg khbxslkzgs dsl pmldh dsviv blf orev. - nzigrm tlowrmt',\n",
        "'ru yfrowvih yfrog yfrowrmth gsv dzb kiltiznnvih dilgv kiltiznh, gsvm gsv urihg dllwkvxpvi gszg xznv zolmt dlfow wvhgilb xrerorazgrlm. - tvizow dvrmyvit',\n",
        "'kiltiznnrmt rh orpv hvc. lmv nrhgzpv zmw blf szev gl hfkklig rg uli gsv ivhg lu blfi oruv. - nrxszvo hrma',\n",
        "'dzoprmt lm dzgvi zmw wvevolkrmt hlugdziv uiln z hkvxrurxzgrlm ziv vzhb ru ylgs ziv uilavm.- vwdziw e yviziw',\n",
        "'gsviv rh mlgsrmt jfrgv hl kvinzmvmg zh z jfrxp urc. - fmpmldm',\n",
        "'kiltiznnrmt glwzb rh z izxv yvgdvvm hlugdziv vmtrmvvih hgirermt gl yfrow yrttvi zmw yvggvi rwrlg-killu kiltiznh, zmw gsv fmrevihv gibrmt gl kilwfxv yrttvi zmw yvggvi rwrlgh. hl uzi, gsv fmrevihv rh drmmrmt. - irxp xllp',\n",
        "'vevib wvevolkvi szh z gvhg vmerilmnvmg. hlnv ziv ofxpb vmlfts gl zohl szev z hvkzizgv kilwfxgrlm hbhgvn. - fmpmldm',\n",
        "'wvyfttrmt rh orpv yvrmt gsv wvgvxgrev rm z xirnv nlerv dsviv blf ziv zohl gsv nfiwvivi. - fmpmldm']\n",
        "shuffle(quotes)\n",
        "\n",
        "def convert_char(my_char, my_dict):\n",
        "    return my_dict[my_char] if my_char in my_dict else my_char\n",
        "\n",
        "def convert_string(my_string,my_dict):\n",
        "    return ''.join([convert_char(x,my_dict) for x in my_string.lower()])\n",
        "\n",
        "def check_answer(idx, my_answer):\n",
        "    my_dict = dict(zip(string.ascii_lowercase,string.ascii_lowercase[::-1]))\n",
        "    answers = {0: 105,\n",
        "             1: 4,\n",
        "             2: 'bakfiets',\n",
        "             3: 'c',\n",
        "             4: 5,\n",
        "             5: 6,\n",
        "             6: 'g',\n",
        "             7: 'c',\n",
        "             8: '!'}\n",
        "    if answers[idx]==my_answer:\n",
        "        print('Correct! Here is a random programming quote:')\n",
        "        print(convert_string(quotes[idx],my_dict))\n",
        "    else:\n",
        "        print(\"Your answer seems to be incorrect. Your answer is {}, but the expected result is {}.\".format(my_answer, answers[idx]))\n"
      ],
      "execution_count": 0,
      "outputs": []
    },
    {
      "cell_type": "markdown",
      "metadata": {
        "colab_type": "text",
        "id": "O064ln8ltZ2k"
      },
      "source": [
        "# Introduction"
      ]
    },
    {
      "cell_type": "code",
      "metadata": {
        "id": "fwlUSr31W9lb",
        "colab_type": "code",
        "colab": {}
      },
      "source": [
        "print(\" __________________________________\\n< Welcome to this Python tutorial! >\\n ----------------------------------\\n        \\   ^__^\\n         \\  (oo)\\_______\\n            (__)\\       )\\/\\ \\n                ||----w |\\n                ||     ||\" )"
      ],
      "execution_count": 0,
      "outputs": []
    },
    {
      "cell_type": "markdown",
      "metadata": {
        "colab_type": "text",
        "id": "Dlq-eXLPZT2R"
      },
      "source": [
        "## Variables "
      ]
    },
    {
      "cell_type": "markdown",
      "metadata": {
        "colab_type": "text",
        "id": "4CdoMJ5dHCdw"
      },
      "source": [
        "\n",
        "Python is dynamically-typed. This means that we do not need to define the type of a variable at run time."
      ]
    },
    {
      "cell_type": "code",
      "metadata": {
        "colab_type": "code",
        "id": "KA4mK9ygaIAu",
        "colab": {}
      },
      "source": [
        "x = 42"
      ],
      "execution_count": 0,
      "outputs": []
    },
    {
      "cell_type": "code",
      "metadata": {
        "colab_type": "code",
        "id": "aF8CGzbPW9lh",
        "colab": {}
      },
      "source": [
        "print(x)"
      ],
      "execution_count": 0,
      "outputs": []
    },
    {
      "cell_type": "code",
      "metadata": {
        "colab_type": "code",
        "id": "YxbYmIHeac61",
        "colab": {}
      },
      "source": [
        "print(type(x))"
      ],
      "execution_count": 0,
      "outputs": []
    },
    {
      "cell_type": "code",
      "metadata": {
        "colab_type": "code",
        "id": "BDMlwFrTaMWf",
        "colab": {}
      },
      "source": [
        "y = 'VodafoneZiggo'"
      ],
      "execution_count": 0,
      "outputs": []
    },
    {
      "cell_type": "code",
      "metadata": {
        "colab_type": "code",
        "id": "Q8tIjs3oW9lq",
        "colab": {}
      },
      "source": [
        "print(y)"
      ],
      "execution_count": 0,
      "outputs": []
    },
    {
      "cell_type": "code",
      "metadata": {
        "colab_type": "code",
        "id": "BhwmDAMLaTIU",
        "colab": {}
      },
      "source": [
        "print(type(y))"
      ],
      "execution_count": 0,
      "outputs": []
    },
    {
      "cell_type": "code",
      "metadata": {
        "colab_type": "code",
        "id": "7xGjF1RzW9l1",
        "colab": {}
      },
      "source": [
        "z = True"
      ],
      "execution_count": 0,
      "outputs": []
    },
    {
      "cell_type": "code",
      "metadata": {
        "colab_type": "code",
        "id": "k10lPW-dW9l3",
        "colab": {}
      },
      "source": [
        "print(z)"
      ],
      "execution_count": 0,
      "outputs": []
    },
    {
      "cell_type": "code",
      "metadata": {
        "colab_type": "code",
        "id": "pxkkOa4wW9l5",
        "colab": {}
      },
      "source": [
        "print(type(z))"
      ],
      "execution_count": 0,
      "outputs": []
    },
    {
      "cell_type": "code",
      "metadata": {
        "colab_type": "code",
        "id": "cPYYiSO7W9l7",
        "colab": {}
      },
      "source": [
        "print(not z)"
      ],
      "execution_count": 0,
      "outputs": []
    },
    {
      "cell_type": "markdown",
      "metadata": {
        "colab_type": "text",
        "id": "BEJucMFFqn5l"
      },
      "source": [
        "Python is superpowerful. It can do basic arithmetics. For example:\n",
        "\n",
        "```\n",
        "x + 2\n",
        "x - 2\n",
        "x / 2\n",
        "x * 2\n",
        "```\n",
        "\n"
      ]
    },
    {
      "cell_type": "code",
      "metadata": {
        "colab_type": "code",
        "id": "znb-xFHuroMf",
        "colab": {}
      },
      "source": [
        "x = 5\n",
        "print(x*2)"
      ],
      "execution_count": 0,
      "outputs": []
    },
    {
      "cell_type": "markdown",
      "metadata": {
        "colab_type": "text",
        "id": "5GD92bIZrdpZ"
      },
      "source": [
        "Note that `x` itself has not changed:\n"
      ]
    },
    {
      "cell_type": "code",
      "metadata": {
        "colab_type": "code",
        "id": "oSoDtCOEq2xd",
        "colab": {}
      },
      "source": [
        "print(x)"
      ],
      "execution_count": 0,
      "outputs": []
    },
    {
      "cell_type": "markdown",
      "metadata": {
        "colab_type": "text",
        "id": "Yi0rVNYMrv-3"
      },
      "source": [
        "If we want to change the value of x, we have to assign the value back, for example: "
      ]
    },
    {
      "cell_type": "code",
      "metadata": {
        "colab_type": "code",
        "id": "uNEH6kUTr4pn",
        "colab": {}
      },
      "source": [
        "x = 5\n",
        "x = x * 2\n",
        "print(x)"
      ],
      "execution_count": 0,
      "outputs": []
    },
    {
      "cell_type": "markdown",
      "metadata": {
        "colab_type": "text",
        "id": "kgYzRZdYp2k3"
      },
      "source": [
        "## Lists"
      ]
    },
    {
      "cell_type": "markdown",
      "metadata": {
        "colab_type": "text",
        "id": "IbIY8jYlG96m"
      },
      "source": [
        "We can also make lists of things. For example:\n",
        "\n"
      ]
    },
    {
      "cell_type": "code",
      "metadata": {
        "colab_type": "code",
        "id": "-pK353Nq0a7x",
        "colab": {}
      },
      "source": [
        "my_ocd = [1,2,3,4,6,5,7,8]\n",
        "my_favourite_yammer_hashtags = ['#openup','#teamup','#stepup']"
      ],
      "execution_count": 0,
      "outputs": []
    },
    {
      "cell_type": "markdown",
      "metadata": {
        "colab_type": "text",
        "id": "E6aAeJo-egPJ"
      },
      "source": [
        "We can get the length of a list by using `len()`:"
      ]
    },
    {
      "cell_type": "code",
      "metadata": {
        "colab_type": "code",
        "id": "Fv0q5WlSekCo",
        "colab": {}
      },
      "source": [
        "len(my_ocd)"
      ],
      "execution_count": 0,
      "outputs": []
    },
    {
      "cell_type": "markdown",
      "metadata": {
        "colab_type": "text",
        "id": "xUqXgpwqqade"
      },
      "source": [
        "We can add stuff to the list by using `.append()`. Try adding something and then print the list, for example:\n",
        "\n",
        " \n"
      ]
    },
    {
      "cell_type": "code",
      "metadata": {
        "colab_type": "code",
        "id": "6TGy9HtR0QTq",
        "colab": {}
      },
      "source": [
        "my_favourite_yammer_hashtags.append('#kerstpakket')\n",
        "print(my_favourite_yammer_hashtags)"
      ],
      "execution_count": 0,
      "outputs": []
    },
    {
      "cell_type": "markdown",
      "metadata": {
        "colab_type": "text",
        "id": "RdA8FXlectoo"
      },
      "source": [
        "Note that in this case, `append` mutates the list, so you do not need to do\n",
        "```\n",
        "my_favourite_yammer_hashtags = my_favourite_yammer_hashtags.append('...')\n",
        "```"
      ]
    },
    {
      "cell_type": "markdown",
      "metadata": {
        "colab_type": "text",
        "id": "QJWv4YZ5sg1d"
      },
      "source": [
        "We can extract the elements of a list with `[]`. Note that in python, indexing begins at `0`. So to extract the first element of a list called `x`, you could do `x[0]`, if you want to get the second element, use `x[1]`, etc. \n"
      ]
    },
    {
      "cell_type": "code",
      "metadata": {
        "colab_type": "code",
        "id": "JF5MwgW8dkMb",
        "colab": {}
      },
      "source": [
        "print(my_favourite_yammer_hashtags[0])\n",
        "print(my_favourite_yammer_hashtags[2])"
      ],
      "execution_count": 0,
      "outputs": []
    },
    {
      "cell_type": "markdown",
      "metadata": {
        "colab_type": "text",
        "id": "UwtdqmeJdD-o"
      },
      "source": [
        "We can also edit the elements of a list, in exactly the same way as we would edit variables:"
      ]
    },
    {
      "cell_type": "code",
      "metadata": {
        "colab_type": "code",
        "id": "j6lZ8IAFdL-s",
        "colab": {}
      },
      "source": [
        "my_favourite_yammer_hashtags[0] = '#eggcup'\n",
        "my_favourite_yammer_hashtags[1] = '#buttercup'\n",
        "my_favourite_yammer_hashtags[2] = '#ketchup'\n",
        "print(my_favourite_yammer_hashtags)"
      ],
      "execution_count": 0,
      "outputs": []
    },
    {
      "cell_type": "markdown",
      "metadata": {
        "colab_type": "text",
        "id": "FJEetDXveJHj"
      },
      "source": [
        "## For loops"
      ]
    },
    {
      "cell_type": "markdown",
      "metadata": {
        "colab_type": "text",
        "id": "XbMlGR63eNur"
      },
      "source": [
        "To repeat something, we can use for-loops. For example:"
      ]
    },
    {
      "cell_type": "code",
      "metadata": {
        "colab_type": "code",
        "id": "xxLByK3PeRGJ",
        "colab": {}
      },
      "source": [
        "for i in [0,1,2,3]: #\n",
        "    print(i) # This will be repeated, because it is indented.\n",
        "print('end') # This will not be repeated."
      ],
      "execution_count": 0,
      "outputs": []
    },
    {
      "cell_type": "code",
      "metadata": {
        "colab_type": "code",
        "id": "dlRmmusVeWeD",
        "colab": {}
      },
      "source": [
        "for i in range(3):\n",
        "    print(i)"
      ],
      "execution_count": 0,
      "outputs": []
    },
    {
      "cell_type": "code",
      "metadata": {
        "colab_type": "code",
        "id": "O5wK1niNeYwZ",
        "colab": {}
      },
      "source": [
        "my_list = [0,1,2,3]\n",
        "for i in range(len(my_list)):\n",
        "    my_list[i] = i + 2\n",
        "\n",
        "print(my_list)"
      ],
      "execution_count": 0,
      "outputs": []
    },
    {
      "cell_type": "markdown",
      "metadata": {
        "colab_type": "text",
        "id": "DcZm9PmD0HqI"
      },
      "source": [
        "## Functions"
      ]
    },
    {
      "cell_type": "markdown",
      "metadata": {
        "colab_type": "text",
        "id": "s1BChjVPe1pY"
      },
      "source": [
        "Sometimes, we want to perform an operation multiple times. In those cases, it can be useful to create a function. For example:"
      ]
    },
    {
      "cell_type": "code",
      "metadata": {
        "colab_type": "code",
        "id": "AphdfgGke8d_",
        "colab": {}
      },
      "source": [
        "def multiply_by_two(x):\n",
        "    return x*2\n",
        "\n",
        "print(multiply_by_two(4))"
      ],
      "execution_count": 0,
      "outputs": []
    },
    {
      "cell_type": "code",
      "metadata": {
        "colab_type": "code",
        "id": "suOB-omVgXVn",
        "colab": {}
      },
      "source": [
        "def multiply_list_by_two(my_list):\n",
        "    for i in range(len(my_list)):\n",
        "        my_list[i] = my_list[i] * 2\n",
        "    return my_list\n",
        "    \n",
        "print(multiply_list_by_two([2,4,8]))"
      ],
      "execution_count": 0,
      "outputs": []
    },
    {
      "cell_type": "markdown",
      "metadata": {
        "id": "RFY3EHDwYydY",
        "colab_type": "text"
      },
      "source": [
        "## If statements"
      ]
    },
    {
      "cell_type": "markdown",
      "metadata": {
        "id": "5zENbGkfY2-i",
        "colab_type": "text"
      },
      "source": [
        "Sometimes, we want to do something only if a condition holds, and if it does not, we want to do something else. For example, Marta asked us to build a function to help her with the evaluation of this Python workshop:"
      ]
    },
    {
      "cell_type": "code",
      "metadata": {
        "colab_type": "code",
        "id": "PqcyjPFMW9mh",
        "colab": {}
      },
      "source": [
        "def evaluate_python_workshop(score):\n",
        "    if score>7.5:\n",
        "        print('You rated this workshop with a ' + str(score) + '. Thanks for your feedback!')\n",
        "    else:\n",
        "        print('Sorry, it seems there was an issue processing your input. Please try again.')"
      ],
      "execution_count": 0,
      "outputs": []
    },
    {
      "cell_type": "code",
      "metadata": {
        "colab_type": "code",
        "id": "IEORivH6W9mi",
        "colab": {}
      },
      "source": [
        "evaluate_python_workshop(7)"
      ],
      "execution_count": 0,
      "outputs": []
    },
    {
      "cell_type": "code",
      "metadata": {
        "colab_type": "code",
        "id": "u0d5xktPW9mk",
        "colab": {}
      },
      "source": [
        "evaluate_python_workshop(9)"
      ],
      "execution_count": 0,
      "outputs": []
    },
    {
      "cell_type": "markdown",
      "metadata": {
        "colab_type": "text",
        "id": "fwdVI3mFbFoT"
      },
      "source": [
        "# Exercises\n",
        "\n"
      ]
    },
    {
      "cell_type": "markdown",
      "metadata": {
        "colab_type": "text",
        "id": "FwJz3q7HaeZf"
      },
      "source": [
        "## Variables\n",
        "\n"
      ]
    },
    {
      "cell_type": "markdown",
      "metadata": {
        "colab_type": "text",
        "id": "jbWkaxU7bQ3t"
      },
      "source": [
        "1.   Create a variable called `x`, which should be equal to 5\n",
        "2.   Create a variable called `y` which should be equal to 7\n",
        "3.   Multiply `x` and `y`, and store the result in a variable called `z`.\n",
        "4.   Multiply `z` with three, and store the result back in `z`.\n",
        "5.   Print `z`."
      ]
    },
    {
      "cell_type": "code",
      "metadata": {
        "colab_type": "code",
        "id": "Z3jYAAsUa69L",
        "colab": {}
      },
      "source": [
        "x = 5\n",
        "y = 7\n",
        "z = x * y\n",
        "z = z *3\n",
        "print(z)"
      ],
      "execution_count": 0,
      "outputs": []
    },
    {
      "cell_type": "code",
      "metadata": {
        "colab_type": "code",
        "id": "EyKAjnZ2bbqq",
        "colab": {}
      },
      "source": [
        "# This checks your answer. Don't change!\n",
        "check_answer(0, my_answer = z)"
      ],
      "execution_count": 0,
      "outputs": []
    },
    {
      "cell_type": "markdown",
      "metadata": {
        "colab_type": "text",
        "id": "fXbzFltmksAw"
      },
      "source": [
        "## For-loops"
      ]
    },
    {
      "cell_type": "markdown",
      "metadata": {
        "colab_type": "text",
        "id": "3PTF7_a0k4vk"
      },
      "source": [
        "Here is a list of numbers. Now try to modify the list by dividing all the numbers by 16."
      ]
    },
    {
      "cell_type": "code",
      "metadata": {
        "colab_type": "code",
        "id": "FUD9YqpjlGvL",
        "colab": {}
      },
      "source": [
        "my_list = [16, 96, 32, 112, 48, 80, 128, 80, 48, 64, 80, 80, 64, 48, 64, 48, 80, 64, 96, 48, 48, 96, 80, 48]\n",
        "\n",
        "for i in range(len(my_list)):\n",
        "    my_list[i] = my_list[i]/16  \n",
        "\n",
        "# or using lambda functions: new_list = [x/16 for x in old_list]"
      ],
      "execution_count": 0,
      "outputs": []
    },
    {
      "cell_type": "code",
      "metadata": {
        "colab_type": "code",
        "id": "KJunrkcMlnmL",
        "colab": {}
      },
      "source": [
        "# This checks your answer. Don't change!\n",
        "check_answer(1, my_answer = my_list[12])"
      ],
      "execution_count": 0,
      "outputs": []
    },
    {
      "cell_type": "markdown",
      "metadata": {
        "colab_type": "text",
        "id": "j_7Vi76gnM1q"
      },
      "source": [
        "## Functions"
      ]
    },
    {
      "cell_type": "markdown",
      "metadata": {
        "colab_type": "text",
        "id": "t_eIv9svnQu6"
      },
      "source": [
        "Write a function `fiets_appender` that takes as input a string, and appends 'fiets' to that string. If `x` is a string, then you can append text to the string by simply doing `x + 'some text'`, for example:"
      ]
    },
    {
      "cell_type": "code",
      "metadata": {
        "colab_type": "code",
        "id": "VXCIATwKnLrm",
        "colab": {}
      },
      "source": [
        "x = 'programming'\n",
        "y = x + ' is fun'\n",
        "print(y)"
      ],
      "execution_count": 0,
      "outputs": []
    },
    {
      "cell_type": "code",
      "metadata": {
        "colab_type": "code",
        "id": "jO5ugDt2nxgk",
        "colab": {}
      },
      "source": [
        "def fiets_appender(my_string):\n",
        "    return my_string + 'fiets'"
      ],
      "execution_count": 0,
      "outputs": []
    },
    {
      "cell_type": "code",
      "metadata": {
        "colab_type": "code",
        "id": "vpQgWBU4n2up",
        "colab": {}
      },
      "source": [
        "# This checks your answer. Don't change!\n",
        "print(fiets_appender('bak'))\n",
        "check_answer(2, my_answer = fiets_appender('bak'))"
      ],
      "execution_count": 0,
      "outputs": []
    },
    {
      "cell_type": "markdown",
      "metadata": {
        "colab_type": "text",
        "id": "L1zey-6utXIn"
      },
      "source": [
        "# Code breaking"
      ]
    },
    {
      "cell_type": "markdown",
      "metadata": {
        "colab_type": "text",
        "id": "hqb5SqzeyCCA"
      },
      "source": [
        "While browing the internet, you came across a file that looks like gibberish. \n",
        "\n",
        "```\n",
        "y jgrrjc egpj emcq glrm y ncr qfmu ylb yqiq dmp y uyzzgr. rfc qfmn iccncp jmmiq bmul yr fcp, qkgjcq ylb qywq:\n",
        "\"umsjb wms jgic y jmtcjw djsddw jgrrjc ufgrc pyzzgr, mp y asrcqw ummrcqjw jgrrjc zpmul pyzzgr?\"\n",
        "\"yarsyjjw\", qywq rfc jgrrjc egpj, \"g bml'r rfgli kw nwrfml umsjb lmrgac.\"\n",
        "```\n",
        "Either someone let their cat walk on their keyboard, or it's an encrypted file. Only one way to find out!\n",
        "\n",
        "This file looks like it's encrypted with the so called **Ceasar Cipher**; encrpyting a message by shifting all letters in the alphabet by a fixed amount of positions. There is definitely no Ceasar Cipher decryptor on the internet. No, really, there is none. No need to Google it. \n",
        "\n",
        "...\n",
        "\n",
        "Okay, okay, there's plenty. Let's assume there isn't though, so we can enjoy the wonderful experience of programming one ourselves in Python!"
      ]
    },
    {
      "cell_type": "markdown",
      "metadata": {
        "colab_type": "text",
        "id": "iF6ryAxqx-6K"
      },
      "source": [
        "## Breaking down the problem"
      ]
    },
    {
      "cell_type": "markdown",
      "metadata": {
        "colab_type": "text",
        "id": "6C_FTIoM8I8W"
      },
      "source": [
        "Let's start by breaking our problem down into steps.\n",
        "\n",
        "\n",
        "1.   Create a function that shifts a letter by x positions in the alphabet\n",
        "2.   Create a function that applies the first function to all letters in a string\n",
        "3.   Apply our function to all letters in the code\n",
        "\n"
      ]
    },
    {
      "cell_type": "markdown",
      "metadata": {
        "colab_type": "text",
        "id": "Xs5sqo6OGSLc"
      },
      "source": [
        "## 1. Create a function that shifts a letter in the alphabet"
      ]
    },
    {
      "cell_type": "markdown",
      "metadata": {
        "colab_type": "text",
        "id": "kjJxpniTGsF6"
      },
      "source": [
        "Let's start with step 1! Basically, this can also be broken down into smaller steps.\n",
        "\n",
        "1.   Get as input a letter\n",
        "2.   Find that letter in the alphabet\n",
        "3.   Find the letter in the alphabet that is two positions further\n",
        "4.   Return that letter\n",
        "\n",
        "Let's start simple, by creating a function called `shift_letter()`, that takes as input a variable called `my_letter` and just returns that letter."
      ]
    },
    {
      "cell_type": "code",
      "metadata": {
        "colab_type": "code",
        "id": "JTn84stR9s90",
        "colab": {}
      },
      "source": [
        "def shift_letter(my_letter):\n",
        "    return my_letter"
      ],
      "execution_count": 0,
      "outputs": []
    },
    {
      "cell_type": "code",
      "metadata": {
        "colab_type": "code",
        "id": "t88510DuooXE",
        "colab": {}
      },
      "source": [
        "# This checks your answer. Don't change!\n",
        "print(shift_letter('c'))\n",
        "check_answer(3, my_answer = shift_letter('c'))"
      ],
      "execution_count": 0,
      "outputs": []
    },
    {
      "cell_type": "markdown",
      "metadata": {
        "colab_type": "text",
        "id": "03FbB2fw94If"
      },
      "source": [
        "Okay! Now let's take it one step further. Let's improve the function, so it returns the index of my_letter in the alphabet, i.e. if our input is `c` it should return `3`. To do so:\n",
        "\n",
        "\n",
        "1. Define `alphabet`, which is a list of the letters in the alphabet in the right order. Hint; this can be done faster than by just typing it out, just Google `alphabet in python` and see what you find!\n",
        "\n",
        "2.   Then we need to find the index of `my_letter` in `alphabet`. To find the index of an element `x` in a list with the name `y`, do `x.index(y)`\n",
        "\n",
        "3. Store that value as `index` and return it!\n",
        "\n",
        " "
      ]
    },
    {
      "cell_type": "code",
      "metadata": {
        "colab_type": "code",
        "id": "sQPRYCoo-NQ2",
        "colab": {}
      },
      "source": [
        "import string\n",
        "\n",
        "def shift_letter(my_letter):\n",
        "    alphabet = list(string.ascii_lowercase)\n",
        "    index = alphabet.index(my_letter)\n",
        "    return index"
      ],
      "execution_count": 0,
      "outputs": []
    },
    {
      "cell_type": "code",
      "metadata": {
        "colab_type": "code",
        "id": "PYGLMuxao2w5",
        "colab": {}
      },
      "source": [
        "# This checks your answer. Don't change!\n",
        "print(shift_letter('f'))\n",
        "check_answer(4, my_answer = shift_letter('f'))"
      ],
      "execution_count": 0,
      "outputs": []
    },
    {
      "cell_type": "markdown",
      "metadata": {
        "colab_type": "text",
        "id": "Wls2B6pn_jpK"
      },
      "source": [
        "Now, what we want to do is find the index of the letter that we want to return. So if we want to shift all letters by `2` in our Caesar Cipher, we'd have to get the letter from the alphabet at position `index + 2`. Let's make our function a bit more flexible though, and give the user the option to pass the desired shift as an argument called `shift`. So for now, adapt the function so `new_shift` is calculated as `index + shift`, and return that value."
      ]
    },
    {
      "cell_type": "code",
      "metadata": {
        "colab_type": "code",
        "id": "Th8sMDlyAUyG",
        "colab": {}
      },
      "source": [
        "def shift_letter(my_letter,shift):\n",
        "    alphabet = list(string.ascii_lowercase)\n",
        "    index = alphabet.index(my_letter)\n",
        "    new_index = index + shift\n",
        "    return new_index"
      ],
      "execution_count": 0,
      "outputs": []
    },
    {
      "cell_type": "code",
      "metadata": {
        "colab_type": "code",
        "id": "u4u2tMW_o-WM",
        "colab": {}
      },
      "source": [
        "# This checks your answer. Don't change!\n",
        "print(shift_letter('c',4))\n",
        "check_answer(5, my_answer = shift_letter('c',4))"
      ],
      "execution_count": 0,
      "outputs": []
    },
    {
      "cell_type": "markdown",
      "metadata": {
        "colab_type": "text",
        "id": "Ua1hEaUb_Itb"
      },
      "source": [
        "We're almost there it seems. Now all we need to do is return the right letter! We have already seen earlier how we can take the `n'th` element of a list. In this case, we want to get the `index`'th letter of the list `alphabet`. Let's call that `new_letter` and return it."
      ]
    },
    {
      "cell_type": "code",
      "metadata": {
        "colab_type": "code",
        "id": "uLJgSQV_4r7g",
        "colab": {}
      },
      "source": [
        "def shift_letter(my_letter,shift):\n",
        "    alphabet = list(string.ascii_lowercase)\n",
        "    index = alphabet.index(my_letter)\n",
        "    new_index = index + shift\n",
        "    new_letter = alphabet[new_index]\n",
        "    return new_letter"
      ],
      "execution_count": 0,
      "outputs": []
    },
    {
      "cell_type": "code",
      "metadata": {
        "colab_type": "code",
        "id": "CTlM4lDV6c9c",
        "colab": {}
      },
      "source": [
        "# This checks your answer. Don't change!\n",
        "shift_letter('d',3)\n",
        "check_answer(6, my_answer = shift_letter('d',3))"
      ],
      "execution_count": 0,
      "outputs": []
    },
    {
      "cell_type": "code",
      "metadata": {
        "colab_type": "code",
        "id": "dC9Nf5NJ60HR",
        "colab": {}
      },
      "source": [
        "# This should give an error!\n",
        "shift_letter('z',2)"
      ],
      "execution_count": 0,
      "outputs": []
    },
    {
      "cell_type": "markdown",
      "metadata": {
        "colab_type": "text",
        "id": "qOjLcVA8Bftk"
      },
      "source": [
        "Oops! Seems that we forgot something. If the user enters the letter `z` and shift `2`, our function will try to find the `28`'th letter of the alphabet. We should use the modulo operator (`%`) for this, which returns the remainder after divsion;\n",
        "\n",
        "*   `4 % 26` -> 4, because 4 is smaller than 26, so after division we are left with 2.\n",
        "*   `28 % 26` -> 2, because 26 fits in 28 once, and then we are left with 2.\n",
        "*   `10 % 4` -> 2, because 4 fits in 10 twice, and then we are left with 2.\n",
        "\n",
        "See if you can apply this to our function. Hint: Make a change in the line where `new_index` is calculated, and don't forget the use of brackets!\n",
        "\n"
      ]
    },
    {
      "cell_type": "code",
      "metadata": {
        "colab_type": "code",
        "id": "0vSsoE5R64n5",
        "colab": {}
      },
      "source": [
        "def shift_letter(my_letter,shift):\n",
        "    alphabet = list(string.ascii_lowercase)\n",
        "    index = alphabet.index(my_letter)\n",
        "    new_index = (index + shift) % 26\n",
        "    new_letter = alphabet[new_index]\n",
        "    return new_letter"
      ],
      "execution_count": 0,
      "outputs": []
    },
    {
      "cell_type": "code",
      "metadata": {
        "colab_type": "code",
        "id": "m9Zw7Qys7AR_",
        "colab": {}
      },
      "source": [
        "# This checks your answer. Don't change!\n",
        "shift_letter('z',3)\n",
        "check_answer(7, my_answer = shift_letter('z',3))"
      ],
      "execution_count": 0,
      "outputs": []
    },
    {
      "cell_type": "code",
      "metadata": {
        "colab_type": "code",
        "id": "2ccNVToe7ESx",
        "colab": {}
      },
      "source": [
        "# This should give an error!\n",
        "shift_letter(',',2)"
      ],
      "execution_count": 0,
      "outputs": []
    },
    {
      "cell_type": "markdown",
      "metadata": {
        "colab_type": "text",
        "id": "FMDiUJMLDByQ"
      },
      "source": [
        "Oh no! One more problem. If the user enters a character that's not in the alphabet, our function breaks down. We can fix this with an `if-else` statement.\n",
        "\n",
        "```\n",
        "def shift_letter(my_letter,shift):\n",
        "  alphabet = list(string.ascii_lowercase)\n",
        "  if my_letter in alphabet:\n",
        "    # Find the right letter in the alphabet\n",
        "  else:\n",
        "    # just return the character that was given as input\n",
        "```\n",
        "\n"
      ]
    },
    {
      "cell_type": "code",
      "metadata": {
        "colab_type": "code",
        "id": "9zU9RIR65kYx",
        "colab": {}
      },
      "source": [
        "def shift_letter(my_letter,shift):\n",
        "    alphabet = list(string.ascii_lowercase)\n",
        "    if my_letter in alphabet:\n",
        "        index = alphabet.index(my_letter)\n",
        "        new_index = (index + shift) % 26\n",
        "        new_letter = alphabet[new_index]\n",
        "        return new_letter\n",
        "    else:\n",
        "        return my_letter"
      ],
      "execution_count": 0,
      "outputs": []
    },
    {
      "cell_type": "code",
      "metadata": {
        "colab_type": "code",
        "id": "S9LQrgcAF-aE",
        "colab": {}
      },
      "source": [
        "shift_letter(',',2)"
      ],
      "execution_count": 0,
      "outputs": []
    },
    {
      "cell_type": "code",
      "metadata": {
        "colab_type": "code",
        "id": "hEM51pcOF_Rp",
        "colab": {}
      },
      "source": [
        "shift_letter('a',3)"
      ],
      "execution_count": 0,
      "outputs": []
    },
    {
      "cell_type": "code",
      "metadata": {
        "colab_type": "code",
        "id": "pTy233zDF_qp",
        "colab": {}
      },
      "source": [
        "shift_letter('x',3)"
      ],
      "execution_count": 0,
      "outputs": []
    },
    {
      "cell_type": "markdown",
      "metadata": {
        "colab_type": "text",
        "id": "yGIwxz8Frsc5"
      },
      "source": [
        "If the three cells above returned `,`, `d`, and `a`, respectively; awesome! You got the first and most crucial part of our decryptor finished. Now let's move on. \n",
        "\n",
        "\n",
        "\n",
        "```\n",
        "if there is still enough time left:\n",
        "  go to the next section\n",
        "else:\n",
        "  skip the next section and go to \"Apply our function to the super-secret code\"\n",
        "```\n",
        "\n",
        "\n"
      ]
    },
    {
      "cell_type": "markdown",
      "metadata": {
        "colab_type": "text",
        "id": "Pii5wCQ9GFlp"
      },
      "source": [
        "## 2. Create a function that applies our shift_letter function to an entire sring"
      ]
    },
    {
      "cell_type": "markdown",
      "metadata": {
        "colab_type": "text",
        "id": "2iYAZNFVO2jL"
      },
      "source": [
        "Time to create a function `decode_string(my_string, shift)`, that shifts all letters in a string using the function we created earlier. There are multiple ways to do this. Pseudocode for a possible solution using the tools we acquired already is given below, you can use that as a guideline on how to set up your function if you want. You could also look up [lambda functions](https://www.w3schools.com/python/python_lambda.asp) online and see if you can find a shorter way to do it.\n",
        "\n",
        "```\n",
        "def decode_string(my_string, shift):\n",
        "  # convert the string to a list of characters.\n",
        "  for i in ???: # loop over the created list of characters \n",
        "    my_string_as_list[i] = ... # shift the i'the element of the list, using our function that we created earlier.\n",
        "  # convert the list of characters back to a string.\n",
        "  # return the new string\n",
        "```"
      ]
    },
    {
      "cell_type": "code",
      "metadata": {
        "colab_type": "code",
        "id": "A7wdDy5oPS3E",
        "colab": {}
      },
      "source": [
        "def decode_string(my_string, shift):\n",
        "    my_string_as_list = list(my_string)\n",
        "    for i in range(len(my_string_as_list)):\n",
        "        my_string_as_list[i] = shift_letter(my_string_as_list[i], 2)\n",
        "        my_decoded_string = ''.join(my_string_as_list)\n",
        "    return my_decoded_string"
      ],
      "execution_count": 0,
      "outputs": []
    },
    {
      "cell_type": "markdown",
      "metadata": {
        "colab_type": "text",
        "id": "6pE7dQupVDdv"
      },
      "source": [
        "## 3. Apply our function to the super-secret code"
      ]
    },
    {
      "cell_type": "markdown",
      "metadata": {
        "colab_type": "text",
        "id": "NlAFxD5cKIWE"
      },
      "source": [
        "Alright! Now we just need to apply our function to every element of the super-secret code. Let's first store the super-secret code in a variable:\n",
        "\n",
        "\n"
      ]
    },
    {
      "cell_type": "code",
      "metadata": {
        "colab_type": "code",
        "id": "6owUSQ9oOzUA",
        "colab": {}
      },
      "source": [
        "super_secret_code = '''\n",
        "y jgrrjc egpj emcq glrm y ncr qfmu ylb yqiq dmp y uyzzgr. rfc qfmn iccncp jmmiq bmul yr fcp, qkgjcq ylb qywq:\n",
        "\"umsjb wms jgic y jmtcjw djsddw jgrrjc ufgrc pyzzgr, mp y asrcqw ummrcqjw jgrrjc zpmul pyzzgr?\"\n",
        "\"yarsyjjw\", qywq rfc jgrrjc egpj, \"g bml'r rfgli kw nwrfml umsjb lmrgac.\"\n",
        "'''"
      ],
      "execution_count": 0,
      "outputs": []
    },
    {
      "cell_type": "markdown",
      "metadata": {
        "colab_type": "text",
        "id": "NMHDr0ywV9l4"
      },
      "source": [
        "In case you did not have enough time to write your own decode_string function; here is a possible solution. Note that for the decode_string function, I used [lambda functions](https://www.w3schools.com/python/python_lambda.asp), so it's a bit shorter than the pseudocode that was outlined in the previous section."
      ]
    },
    {
      "cell_type": "code",
      "metadata": {
        "colab_type": "code",
        "id": "28A7E21SVp6t",
        "colab": {}
      },
      "source": [
        "import string\n",
        "\n",
        "def shift_letter(my_letter,shift):\n",
        "    alphabet = list(string.ascii_lowercase)\n",
        "    if my_letter in alphabet:\n",
        "        index = alphabet.index(my_letter)\n",
        "        new_index = (index + shift) % 26\n",
        "        new_letter = alphabet[new_index]\n",
        "        return new_letter\n",
        "    else:\n",
        "        return my_letter\n",
        "\n",
        "def decode_string(my_string, shift):\n",
        "    return ''.join([shift_letter(x,shift) for x in my_string])"
      ],
      "execution_count": 0,
      "outputs": []
    },
    {
      "cell_type": "code",
      "metadata": {
        "colab_type": "code",
        "id": "-T9jwsDAL2Dt",
        "colab": {}
      },
      "source": [
        "print(decode_string(super_secret_code, shift = 2))"
      ],
      "execution_count": 0,
      "outputs": []
    },
    {
      "cell_type": "code",
      "metadata": {
        "id": "RYKOPUhqW9nh",
        "colab_type": "code",
        "colab": {}
      },
      "source": [
        "decode_string('Ajj rfgq umpi dmp y qrsngb Pwrfml hmic. Hmncdsjjw rfc lcvr nypr ugjj zc zcrrcp.', shift = 2)"
      ],
      "execution_count": 0,
      "outputs": []
    },
    {
      "cell_type": "code",
      "metadata": {
        "id": "v3GrPsZzW9nj",
        "colab_type": "code",
        "colab": {}
      },
      "source": [
        ""
      ],
      "execution_count": 0,
      "outputs": []
    }
  ]
}